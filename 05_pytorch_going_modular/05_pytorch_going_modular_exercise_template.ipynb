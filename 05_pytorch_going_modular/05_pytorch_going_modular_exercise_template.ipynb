{
  "cells": [
    {
      "attachments": {},
      "cell_type": "markdown",
      "metadata": {
        "colab_type": "text",
        "id": "view-in-github"
      },
      "source": [
        "<a href=\"https://colab.research.google.com/github/mrdbourke/pytorch-deep-learning/blob/main/extras/exercises/05_pytorch_going_modular_exercise_template.ipynb\" target=\"_parent\"><img src=\"https://colab.research.google.com/assets/colab-badge.svg\" alt=\"Open In Colab\"/></a>"
      ]
    },
    {
      "attachments": {},
      "cell_type": "markdown",
      "metadata": {
        "id": "zNqPNlYylluR"
      },
      "source": [
        "# 05. PyTorch Going Modular Exercises\n",
        "\n",
        "Welcome to the 05. PyTorch Going Modular exercise template notebook.\n",
        "\n",
        "There are several questions in this notebook and it's your goal to answer them by writing Python and PyTorch code.\n",
        "\n",
        "> **Note:** There may be more than one solution to each of the exercises, don't worry too much about the *exact* right answer. Try to write some code that works first and then improve it if you can.\n",
        "\n",
        "## Resources and solutions\n",
        "\n",
        "* These exercises/solutions are based on [section 05. PyTorch Going Modular](https://www.learnpytorch.io/05_pytorch_going_modular/) of the Learn PyTorch for Deep Learning course by Zero to Mastery.\n",
        "\n",
        "**Solutions:** \n",
        "\n",
        "Try to complete the code below *before* looking at these.\n",
        "\n",
        "* See a live [walkthrough of the solutions (errors and all) on YouTube](https://youtu.be/ijgFhMK3pp4).\n",
        "* See an example [solutions notebook for these exercises on GitHub](https://github.com/mrdbourke/pytorch-deep-learning/blob/main/extras/solutions/05_pytorch_going_modular_exercise_solutions.ipynb)."
      ]
    },
    {
      "attachments": {},
      "cell_type": "markdown",
      "metadata": {
        "id": "bicbWSrPmfTU"
      },
      "source": [
        "## 1. Turn the code to get the data (from section 1. Get Data) into a Python script, such as `get_data.py`.\n",
        "\n",
        "* When you run the script using `python get_data.py` it should check if the data already exists and skip downloading if it does.\n",
        "* If the data download is successful, you should be able to access the `pizza_steak_sushi` images from the `data` directory."
      ]
    },
    {
      "cell_type": "code",
      "execution_count": 1,
      "metadata": {
        "id": "r0BCn1XIYZ8c"
      },
      "outputs": [
        {
          "name": "stdout",
          "output_type": "stream",
          "text": [
            "Writing going_modular/get_data.py\n"
          ]
        }
      ],
      "source": [
        "%%writefile going_modular/get_data.py\n",
        "\"\"\"\n",
        "Download the data of pizza, steak, and sushi\n",
        "\"\"\"\n",
        "import os\n",
        "import requests\n",
        "import zipfile\n",
        "from pathlib import Path\n",
        "\n",
        "def download_data(data_path=Path(\"data/\")):\n",
        "    \"\"\"\n",
        "    Download the pizza, steak, and sushi images\n",
        "\n",
        "    Args:\n",
        "        data_path (Path): Path to download the data\n",
        "    \"\"\"\n",
        "\n",
        "    # Setup path to data folder\n",
        "    image_path = data_path / \"pizza_steak_sushi\"\n",
        "\n",
        "    # If the image folder doesn't exist, download it and prepare it... \n",
        "    if image_path.is_dir():\n",
        "        print(f\"{image_path} directory exists.\")\n",
        "    else:\n",
        "        print(f\"Did not find {image_path} directory, creating one...\")\n",
        "        image_path.mkdir(parents=True, exist_ok=True)\n",
        "\n",
        "    # Download pizza, steak, sushi data\n",
        "    with open(data_path / \"pizza_steak_sushi.zip\", \"wb\") as f:\n",
        "        request = requests.get(\"https://github.com/mrdbourke/pytorch-deep-learning/raw/main/data/pizza_steak_sushi.zip\")\n",
        "        print(\"Downloading pizza, steak, sushi data...\")\n",
        "        f.write(request.content)\n",
        "\n",
        "    # Unzip pizza, steak, sushi data\n",
        "    with zipfile.ZipFile(data_path / \"pizza_steak_sushi.zip\", \"r\") as zip_ref:\n",
        "        print(\"Unzipping pizza, steak, sushi data...\") \n",
        "        zip_ref.extractall(image_path)\n",
        "\n",
        "    # Remove zip file\n",
        "    os.remove(data_path / \"pizza_steak_sushi.zip\")"
      ]
    },
    {
      "cell_type": "code",
      "execution_count": 4,
      "metadata": {
        "id": "_LrUOIC-YOP9"
      },
      "outputs": [],
      "source": [
        "# Example running of get_data.py\n",
        "!python ./going_modular/get_data.py"
      ]
    },
    {
      "cell_type": "code",
      "execution_count": 5,
      "metadata": {},
      "outputs": [
        {
          "name": "stdout",
          "output_type": "stream",
          "text": [
            "Did not find data\\pizza_steak_sushi directory, creating one...\n",
            "Downloading pizza, steak, sushi data...\n",
            "Unzipping pizza, steak, sushi data...\n"
          ]
        }
      ],
      "source": [
        "from going_modular import get_data\n",
        "\n",
        "get_data.download_data()"
      ]
    },
    {
      "attachments": {},
      "cell_type": "markdown",
      "metadata": {
        "id": "zjyn7LU3mvkR"
      },
      "source": [
        "## 2. Use [Python's `argparse` module](https://docs.python.org/3/library/argparse.html) to be able to send the `train.py` custom hyperparameter values for training procedures.\n",
        "* Add an argument flag for using a different:\n",
        "  * Training/testing directory\n",
        "  * Learning rate\n",
        "  * Batch size\n",
        "  * Number of epochs to train for\n",
        "  * Number of hidden units in the TinyVGG model\n",
        "    * Keep the default values for each of the above arguments as what they already are (as in notebook 05).\n",
        "* For example, you should be able to run something similar to the following line to train a TinyVGG model with a learning rate of 0.003 and a batch size of 64 for 20 epochs: `python train.py --learning_rate 0.003 batch_size 64 num_epochs 20`.\n",
        "* **Note:** Since `train.py` leverages the other scripts we created in section 05, such as, `model_builder.py`, `utils.py` and `engine.py`, you'll have to make sure they're available to use too. You can find these in the [`going_modular` folder on the course GitHub](https://github.com/mrdbourke/pytorch-deep-learning/tree/main/going_modular/going_modular). "
      ]
    },
    {
      "cell_type": "code",
      "execution_count": 20,
      "metadata": {
        "id": "MKNDUp45YaW-"
      },
      "outputs": [
        {
          "name": "stdout",
          "output_type": "stream",
          "text": [
            "Overwriting going_modular/train.py\n"
          ]
        }
      ],
      "source": [
        "%%writefile going_modular/train.py\n",
        "\"\"\"\n",
        "Trains a PyTorch image classification model using device-agnostic code.\n",
        "\"\"\"\n",
        "import os\n",
        "import torch\n",
        "import data_setup, engine, model_builder, utils\n",
        "\n",
        "from torchvision import transforms\n",
        "\n",
        "import argparse\n",
        "\n",
        "# Set parser\n",
        "parser = argparse.ArgumentParser(description=\"train the pytorch model\")\n",
        "\n",
        "# Set arguemnts\n",
        "parser.add_argument('--train_dir')\n",
        "parser.add_argument('--test_dir')\n",
        "parser.add_argument('--learning_rate')\n",
        "parser.add_argument('--batch_size')\n",
        "parser.add_argument('--num_epochs')\n",
        "parser.add_argument('--hidden_units')\n",
        "\n",
        "args = parser.parse_args()\n",
        "\n",
        "# Setup hyperparameters\n",
        "NUM_EPOCHS = int(args.num_epochs) if args.num_epochs else  5\n",
        "BATCH_SIZE = int(args.batch_size) if args.batch_size else  32\n",
        "HIDDEN_UNITS = int(args.hidden_units) if args.hidden_units else  10\n",
        "LEARNING_RATE = float(args.learning_rate) if args.learning_rate else  0.001\n",
        "\n",
        "# Setup directories\n",
        "train_dir = args.train_dir if args.train_dir else \"data/pizza_steak_sushi/train\"\n",
        "test_dir = args.test_dir if args.test_dir else  \"data/pizza_steak_sushi/test\"\n",
        "\n",
        "# Setup target device\n",
        "device = \"cuda\" if torch.cuda.is_available() else \"cpu\"\n",
        "\n",
        "# Create transforms\n",
        "data_transform = transforms.Compose([\n",
        "    transforms.Resize((64, 64)),\n",
        "    transforms.ToTensor()\n",
        "])\n",
        "\n",
        "# Create DataLoaders with help from data_setup.py\n",
        "train_dataloader, test_dataloader, class_names = data_setup.create_dataloaders(train_dir, test_dir, data_transform, BATCH_SIZE)\n",
        "\n",
        "# Create model with help from model_builder.py\n",
        "model = model_builder.TinyVGG(\n",
        "    3,\n",
        "    HIDDEN_UNITS,\n",
        "    len(class_names)\n",
        ").to(device)\n",
        "\n",
        "print(model)\n",
        "\n",
        "# Set loss and optimizer\n",
        "loss_fn = torch.nn.CrossEntropyLoss()\n",
        "optimizer = torch.optim.Adam(model.parameters(), LEARNING_RATE)\n",
        "\n",
        "# Start training with help from engine.py\n",
        "engine.train(model, train_dataloader, test_dataloader, optimizer, loss_fn, NUM_EPOCHS, device)\n",
        "\n",
        "# Save the model with help from utils.py\n",
        "utils.save_model(model, \"models\", \"05(1)_going_modular_script_mode_tinyvgg_model.pth\")"
      ]
    },
    {
      "cell_type": "code",
      "execution_count": 21,
      "metadata": {
        "id": "LzaJl39lC40N"
      },
      "outputs": [
        {
          "name": "stdout",
          "output_type": "stream",
          "text": [
            "TinyVGG(\n",
            "  (conv_block_1): Sequential(\n",
            "    (0): Conv2d(3, 128, kernel_size=(3, 3), stride=(1, 1))\n",
            "    (1): ReLU()\n",
            "    (2): Conv2d(128, 128, kernel_size=(3, 3), stride=(1, 1))\n",
            "    (3): ReLU()\n",
            "    (4): MaxPool2d(kernel_size=2, stride=2, padding=0, dilation=1, ceil_mode=False)\n",
            "  )\n",
            "  (conv_block_2): Sequential(\n",
            "    (0): Conv2d(128, 128, kernel_size=(3, 3), stride=(1, 1))\n",
            "    (1): ReLU()\n",
            "    (2): Conv2d(128, 128, kernel_size=(3, 3), stride=(1, 1))\n",
            "    (3): ReLU()\n",
            "    (4): MaxPool2d(kernel_size=2, stride=2, padding=0, dilation=1, ceil_mode=False)\n",
            "  )\n",
            "  (classifier): Sequential(\n",
            "    (0): Flatten(start_dim=1, end_dim=-1)\n",
            "    (1): Linear(in_features=21632, out_features=3, bias=True)\n",
            "  )\n",
            ")\n",
            "Epoch: 1 | train_loss: 1.0994 | train_acc: 0.3406 | test_loss: 1.0946 | test_acc: 0.3333 | \n",
            "Epoch: 2 | train_loss: 1.0856 | train_acc: 0.3523 | test_loss: 1.0749 | test_acc: 0.3733 | \n",
            "Epoch: 3 | train_loss: 1.0592 | train_acc: 0.5176 | test_loss: 1.0514 | test_acc: 0.4000 | \n",
            "Epoch: 4 | train_loss: 1.0067 | train_acc: 0.5182 | test_loss: 1.0280 | test_acc: 0.4133 | \n",
            "Epoch: 5 | train_loss: 0.9233 | train_acc: 0.5360 | test_loss: 0.9835 | test_acc: 0.4667 | \n",
            "[INFO] Saving model to: models\\05(1)_going_modular_script_mode_tinyvgg_model.pth\n"
          ]
        },
        {
          "name": "stderr",
          "output_type": "stream",
          "text": [
            "\n",
            "  0%|          | 0/5 [00:00<?, ?it/s]\n",
            " 20%|██        | 1/5 [00:03<00:14,  3.57s/it]\n",
            " 40%|████      | 2/5 [00:04<00:06,  2.16s/it]\n",
            " 60%|██████    | 3/5 [00:05<00:03,  1.70s/it]\n",
            " 80%|████████  | 4/5 [00:07<00:01,  1.48s/it]\n",
            "100%|██████████| 5/5 [00:08<00:00,  1.35s/it]\n",
            "100%|██████████| 5/5 [00:08<00:00,  1.63s/it]\n"
          ]
        }
      ],
      "source": [
        "# Example running of train.py\n",
        "!python ./going_modular/train.py --num_epochs 5 --batch_size 128 --hidden_units 128 --learning_rate 0.0003"
      ]
    },
    {
      "cell_type": "code",
      "execution_count": 27,
      "metadata": {},
      "outputs": [
        {
          "data": {
            "text/plain": [
              "<All keys matched successfully>"
            ]
          },
          "execution_count": 27,
          "metadata": {},
          "output_type": "execute_result"
        }
      ],
      "source": [
        "from going_modular import model_builder\n",
        "import torch\n",
        "\n",
        "loaded_model = model_builder.TinyVGG(3, 128, 3)\n",
        "\n",
        "loaded_model.load_state_dict(torch.load(f=\"models/05(1)_going_modular_script_mode_tinyvgg_model.pth\"))"
      ]
    },
    {
      "attachments": {},
      "cell_type": "markdown",
      "metadata": {
        "id": "P2g6EEYvm-46"
      },
      "source": [
        "## 3. Create a Python script to predict (such as `predict.py`) on a target image given a file path with a saved model.\n",
        "\n",
        "* For example, you should be able to run the command `python predict.py some_image.jpeg` and have a trained PyTorch model predict on the image and return its prediction.\n",
        "* To see example prediction code, check out the [predicting on a custom image section in notebook 04](https://www.learnpytorch.io/04_pytorch_custom_datasets/#113-putting-custom-image-prediction-together-building-a-function). \n",
        "* You may also have to write code to load in a trained model."
      ]
    },
    {
      "cell_type": "code",
      "execution_count": 37,
      "metadata": {
        "id": "HU7W6VZfYawP"
      },
      "outputs": [
        {
          "name": "stdout",
          "output_type": "stream",
          "text": [
            "Overwriting going_modular/predict.py\n"
          ]
        }
      ],
      "source": [
        "%%writefile going_modular/predict.py\n",
        "\"\"\"\n",
        "Contains function to predict give iamge and model\n",
        "\"\"\"\n",
        "from torchvision.io import read_image\n",
        "from torchvision import transforms\n",
        "import torch\n",
        "\n",
        "import argparse\n",
        "\n",
        "import model_builder\n",
        "\n",
        "def predict_image():\n",
        "    \"\"\"\n",
        "    Classify the image with trained model\n",
        "    \"\"\"\n",
        "    # Set parser\n",
        "    parser = argparse.ArgumentParser(description=\"predict label with input image\")\n",
        "\n",
        "    # Set arguemnts\n",
        "    parser.add_argument('--image')\n",
        "\n",
        "    args = parser.parse_args()\n",
        "\n",
        "    image_path = args.image\n",
        "\n",
        "    device = \"cuda\" if torch.cuda.is_available() else \"cpu\"\n",
        "    \n",
        "    transform = transforms.Compose([\n",
        "        transforms.Resize((64, 64)),\n",
        "    ])\n",
        "\n",
        "    # load image with dtype float32\n",
        "    img = read_image(image_path).type(torch.float32)\n",
        "\n",
        "    # scale from 0 to 1\n",
        "    img = img / 255\n",
        "    \n",
        "    # resize to (64, 64)\n",
        "    img = transform(img)\n",
        "\n",
        "    # send image to target device\n",
        "    img.to(device)\n",
        "\n",
        "    # get instance of model\n",
        "    loaded_model = model_builder.TinyVGG(3, 128, 3)\n",
        "\n",
        "    # get trained parameters\n",
        "    loaded_model.load_state_dict(torch.load(f=\"models/05(1)_going_modular_script_mode_tinyvgg_model.pth\"))\n",
        "    \n",
        "    # predict label\n",
        "    loaded_model.eval()\n",
        "    \n",
        "    with torch.inference_mode():\n",
        "        img = img.unsqueeze(dim=0)\n",
        "\n",
        "        pred = loaded_model(img)\n",
        "\n",
        "    pred_label = torch.softmax(pred, dim=1).argmax(dim=1)\n",
        "    \n",
        "    print(['pizza', 'steak', 'sushi'][pred_label])\n",
        "    return ['pizza', 'steak', 'sushi'][pred_label]\n",
        "\n",
        "if __name__==\"__main__\":\n",
        "    predict_image()"
      ]
    },
    {
      "cell_type": "code",
      "execution_count": 38,
      "metadata": {
        "id": "Zcvw9sitIn6r"
      },
      "outputs": [
        {
          "name": "stdout",
          "output_type": "stream",
          "text": [
            "sushi\n"
          ]
        },
        {
          "name": "stderr",
          "output_type": "stream",
          "text": [
            "c:\\Users\\CSR\\anaconda3\\envs\\ml\\lib\\site-packages\\torchvision\\transforms\\functional.py:1603: UserWarning: The default value of the antialias parameter of all the resizing transforms (Resize(), RandomResizedCrop(), etc.) will change from None to True in v0.17, in order to be consistent across the PIL and Tensor backends. To suppress this warning, directly pass antialias=True (recommended, future default), antialias=None (current default, which means False for Tensors and True for PIL), or antialias=False (only works on Tensors - PIL will still use antialiasing). This also applies if you are using the inference transforms from the models weights: update the call to weights.transforms(antialias=True).\n",
            "  warnings.warn(\n"
          ]
        }
      ],
      "source": [
        "# Example running of predict.py \n",
        "!python ./going_modular/predict.py --image data/pizza_steak_sushi/test/sushi/175783.jpg"
      ]
    }
  ],
  "metadata": {
    "accelerator": "GPU",
    "colab": {
      "authorship_tag": "ABX9TyNcX0JATB1YsaAFGNe0TGWq",
      "collapsed_sections": [],
      "include_colab_link": true,
      "name": "05_pytorch_going_modular_exercise_template.ipynb",
      "provenance": []
    },
    "kernelspec": {
      "display_name": "Python 3",
      "name": "python3"
    },
    "language_info": {
      "codemirror_mode": {
        "name": "ipython",
        "version": 3
      },
      "file_extension": ".py",
      "mimetype": "text/x-python",
      "name": "python",
      "nbconvert_exporter": "python",
      "pygments_lexer": "ipython3",
      "version": "3.10.11"
    }
  },
  "nbformat": 4,
  "nbformat_minor": 0
}
