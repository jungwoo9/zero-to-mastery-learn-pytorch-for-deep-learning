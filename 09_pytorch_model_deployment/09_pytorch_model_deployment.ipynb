{
  "cells": [
    {
      "cell_type": "markdown",
      "metadata": {
        "id": "UJghx_Gm-i62"
      },
      "source": [
        "## Getting setup"
      ]
    },
    {
      "cell_type": "code",
      "execution_count": null,
      "metadata": {
        "id": "UcVMaD_D-i65",
        "outputId": "65586fbe-9333-4564-d946-eac57ccac23c"
      },
      "outputs": [
        {
          "name": "stderr",
          "output_type": "stream",
          "text": [
            "c:\\Users\\CSR\\anaconda3\\envs\\ml\\lib\\site-packages\\numpy\\_distributor_init.py:30: UserWarning: loaded more than 1 DLL from .libs:\n",
            "c:\\Users\\CSR\\anaconda3\\envs\\ml\\lib\\site-packages\\numpy\\.libs\\libopenblas64__v0.3.21-gcc_10_3_0.dll\n",
            "c:\\Users\\CSR\\anaconda3\\envs\\ml\\lib\\site-packages\\numpy\\.libs\\libopenblas64__v0.3.23-gcc_10_3_0.dll\n",
            "  warnings.warn(\"loaded more than 1 DLL from .libs:\"\n"
          ]
        },
        {
          "name": "stdout",
          "output_type": "stream",
          "text": [
            "[INFO] torch/torchvision versions not as required, installing nightly versions.\n",
            "Looking in indexes: https://pypi.org/simple, https://download.pytorch.org/whl/cu113\n",
            "Requirement already satisfied: torch in c:\\users\\csr\\anaconda3\\envs\\ml\\lib\\site-packages (2.0.1+cu117)\n",
            "Requirement already satisfied: torchvision in c:\\users\\csr\\anaconda3\\envs\\ml\\lib\\site-packages (0.15.2+cu117)\n",
            "Requirement already satisfied: torchaudio in c:\\users\\csr\\anaconda3\\envs\\ml\\lib\\site-packages (2.0.2+cu117)\n",
            "Requirement already satisfied: filelock in c:\\users\\csr\\anaconda3\\envs\\ml\\lib\\site-packages (from torch) (3.12.2)\n",
            "Requirement already satisfied: typing-extensions in c:\\users\\csr\\anaconda3\\envs\\ml\\lib\\site-packages (from torch) (4.6.3)\n",
            "Requirement already satisfied: sympy in c:\\users\\csr\\anaconda3\\envs\\ml\\lib\\site-packages (from torch) (1.12)\n",
            "Requirement already satisfied: networkx in c:\\users\\csr\\anaconda3\\envs\\ml\\lib\\site-packages (from torch) (3.1)\n",
            "Requirement already satisfied: jinja2 in c:\\users\\csr\\anaconda3\\envs\\ml\\lib\\site-packages (from torch) (3.1.2)\n",
            "Requirement already satisfied: numpy in c:\\users\\csr\\anaconda3\\envs\\ml\\lib\\site-packages (from torchvision) (1.24.1)\n",
            "Requirement already satisfied: requests in c:\\users\\csr\\anaconda3\\envs\\ml\\lib\\site-packages (from torchvision) (2.29.0)\n",
            "Requirement already satisfied: pillow!=8.3.*,>=5.3.0 in c:\\users\\csr\\anaconda3\\envs\\ml\\lib\\site-packages (from torchvision) (9.5.0)\n",
            "Requirement already satisfied: MarkupSafe>=2.0 in c:\\users\\csr\\anaconda3\\envs\\ml\\lib\\site-packages (from jinja2->torch) (2.1.1)\n",
            "Requirement already satisfied: charset-normalizer<4,>=2 in c:\\users\\csr\\anaconda3\\envs\\ml\\lib\\site-packages (from requests->torchvision) (2.0.4)\n",
            "Requirement already satisfied: idna<4,>=2.5 in c:\\users\\csr\\anaconda3\\envs\\ml\\lib\\site-packages (from requests->torchvision) (3.4)\n",
            "Requirement already satisfied: urllib3<1.27,>=1.21.1 in c:\\users\\csr\\anaconda3\\envs\\ml\\lib\\site-packages (from requests->torchvision) (1.26.16)\n",
            "Requirement already satisfied: certifi>=2017.4.17 in c:\\users\\csr\\anaconda3\\envs\\ml\\lib\\site-packages (from requests->torchvision) (2023.5.7)\n",
            "Requirement already satisfied: mpmath>=0.19 in c:\\users\\csr\\anaconda3\\envs\\ml\\lib\\site-packages (from sympy->torch) (1.3.0)\n",
            "torch version: 2.0.1+cu117\n",
            "torchvision version: 0.15.2+cu117\n"
          ]
        }
      ],
      "source": [
        "# For this notebook to run with updated APIs, we need torch 1.12+ and torchvision 0.13+\n",
        "try:\n",
        "    import torch\n",
        "    import torchvision\n",
        "    assert int(torch.__version__.split(\".\")[1]) >= 12, \"torch version should be 1.12+\"\n",
        "    assert int(torchvision.__version__.split(\".\")[1]) >= 13, \"torchvision version should be 0.13+\"\n",
        "    print(f\"torch version: {torch.__version__}\")\n",
        "    print(f\"torchvision version: {torchvision.__version__}\")\n",
        "except:\n",
        "    print(f\"[INFO] torch/torchvision versions not as required, installing nightly versions.\")\n",
        "    !pip3 install -U torch torchvision torchaudio --extra-index-url https://download.pytorch.org/whl/cu113\n",
        "    import torch\n",
        "    import torchvision\n",
        "    print(f\"torch version: {torch.__version__}\")\n",
        "    print(f\"torchvision version: {torchvision.__version__}\")"
      ]
    },
    {
      "cell_type": "code",
      "execution_count": null,
      "metadata": {
        "colab": {
          "base_uri": "https://localhost:8080/"
        },
        "id": "S-EHtdIx-i67",
        "outputId": "5f1df5f2-88e2-4a66-e1f1-ce38056af41a"
      },
      "outputs": [
        {
          "output_type": "stream",
          "name": "stdout",
          "text": [
            "[INFO] Couldn't find going_modular or helper_functions scripts... downloading them from GitHub.\n",
            "Cloning into 'pytorch-deep-learning'...\n",
            "remote: Enumerating objects: 3849, done.\u001b[K\n",
            "remote: Counting objects: 100% (492/492), done.\u001b[K\n",
            "remote: Compressing objects: 100% (279/279), done.\u001b[K\n",
            "remote: Total 3849 (delta 259), reused 409 (delta 206), pack-reused 3357\u001b[K\n",
            "Receiving objects: 100% (3849/3849), 649.90 MiB | 31.02 MiB/s, done.\n",
            "Resolving deltas: 100% (2215/2215), done.\n",
            "Updating files: 100% (248/248), done.\n"
          ]
        }
      ],
      "source": [
        "# Continue with regular imports\n",
        "import matplotlib.pyplot as plt\n",
        "import torch\n",
        "import torchvision\n",
        "\n",
        "from torch import nn\n",
        "from torchvision import transforms\n",
        "\n",
        "# Try to get torchinfo, install it if it doesn't work\n",
        "try:\n",
        "    from torchinfo import summary\n",
        "except:\n",
        "    print(\"[INFO] Couldn't find torchinfo... installing it.\")\n",
        "    !pip install -q torchinfo\n",
        "    from torchinfo import summary\n",
        "\n",
        "# Try to import the going_modular directory, download it from GitHub if it doesn't work\n",
        "try:\n",
        "    from going_modular.going_modular import data_setup, engine\n",
        "    from helper_functions import download_data, set_seeds, plot_loss_curves\n",
        "except:\n",
        "    # Get the going_modular scripts\n",
        "    print(\"[INFO] Couldn't find going_modular or helper_functions scripts... downloading them from GitHub.\")\n",
        "    !git clone https://github.com/mrdbourke/pytorch-deep-learning\n",
        "    !mv pytorch-deep-learning/going_modular .\n",
        "    !mv pytorch-deep-learning/helper_functions.py . # get the helper_functions.py script\n",
        "    !rm -rf pytorch-deep-learning\n",
        "    from going_modular.going_modular import data_setup, engine\n",
        "    from helper_functions import download_data, set_seeds, plot_loss_curves"
      ]
    },
    {
      "cell_type": "code",
      "execution_count": null,
      "metadata": {
        "id": "sSHBcgmP-i68",
        "outputId": "cffd1297-fe72-4043-8b13-9e65ed3d215c"
      },
      "outputs": [
        {
          "data": {
            "text/plain": [
              "'cuda'"
            ]
          },
          "execution_count": 4,
          "metadata": {},
          "output_type": "execute_result"
        }
      ],
      "source": [
        "device = \"cuda\" if torch.cuda.is_available() else \"cpu\"\n",
        "device"
      ]
    },
    {
      "cell_type": "markdown",
      "metadata": {
        "id": "a3brmdpp-i68"
      },
      "source": [
        "## Getting data"
      ]
    },
    {
      "cell_type": "code",
      "execution_count": null,
      "metadata": {
        "id": "0HU7onyH-i68",
        "outputId": "7c30fcee-6786-4da0-ee8a-d3a36f4c67b5"
      },
      "outputs": [
        {
          "name": "stdout",
          "output_type": "stream",
          "text": [
            "[INFO] data\\pizza_steak_sushi_20_percent directory exists, skipping download.\n"
          ]
        },
        {
          "data": {
            "text/plain": [
              "WindowsPath('data/pizza_steak_sushi_20_percent')"
            ]
          },
          "execution_count": 5,
          "metadata": {},
          "output_type": "execute_result"
        }
      ],
      "source": [
        "# Download pizza, steak, sushi images from GitHub\n",
        "data_20_percent_path = download_data(source=\"https://github.com/mrdbourke/pytorch-deep-learning/raw/main/data/pizza_steak_sushi_20_percent.zip\",\n",
        "                                     destination=\"pizza_steak_sushi_20_percent\")\n",
        "\n",
        "data_20_percent_path"
      ]
    },
    {
      "cell_type": "code",
      "execution_count": null,
      "metadata": {
        "id": "3y5lThYW-i69"
      },
      "outputs": [],
      "source": [
        "# Setup directory paths to train and test images\n",
        "train_dir = data_20_percent_path / \"train\"\n",
        "test_dir = data_20_percent_path / \"test\""
      ]
    },
    {
      "cell_type": "markdown",
      "metadata": {
        "id": "HhpgvAG0-i69"
      },
      "source": [
        "## Creating an EffNetB2 feature extractor"
      ]
    },
    {
      "cell_type": "code",
      "execution_count": null,
      "metadata": {
        "id": "ELZpLYQA-i69"
      },
      "outputs": [],
      "source": [
        "# 1. Setup pretrained EffNetB2 weights\n",
        "effnetb2_weights = torchvision.models.EfficientNet_B2_Weights.DEFAULT\n",
        "\n",
        "# 2. Get EffNetB2 transforms\n",
        "effnetb2_transforms = effnetb2_weights.transforms()\n",
        "\n",
        "# 3. Setup pretrained model\n",
        "effnetb2 = torchvision.models.efficientnet_b2(weights=effnetb2_weights).to(device)\n",
        "\n",
        "# 4. Freeze the base layers in the model (this will freeze all layers to begin with)\n",
        "for param in effnetb2.parameters():\n",
        "    param.requires_grad = False"
      ]
    },
    {
      "cell_type": "code",
      "execution_count": null,
      "metadata": {
        "id": "kcD1r1z7-i6-",
        "outputId": "ef48379c-93b9-4dce-ad0d-ee33e8410d1f"
      },
      "outputs": [
        {
          "data": {
            "text/plain": [
              "Sequential(\n",
              "  (0): Dropout(p=0.3, inplace=True)\n",
              "  (1): Linear(in_features=1408, out_features=1000, bias=True)\n",
              ")"
            ]
          },
          "execution_count": 8,
          "metadata": {},
          "output_type": "execute_result"
        }
      ],
      "source": [
        "# Check out EffNetB2 classifier head\n",
        "effnetb2.classifier"
      ]
    },
    {
      "cell_type": "code",
      "execution_count": null,
      "metadata": {
        "id": "ykjuueAq-i6-"
      },
      "outputs": [],
      "source": [
        "# 5. Update the classifier head\n",
        "effnetb2.classifier = nn.Sequential(\n",
        "    nn.Dropout(p=0.3, inplace=True), # keep dropout layer same\n",
        "    nn.Linear(in_features=1408, # keep in_features same\n",
        "              out_features=3) # change out_features to suit our number of classes\n",
        ")"
      ]
    },
    {
      "cell_type": "markdown",
      "metadata": {
        "id": "x6-Ti5z_-i6-"
      },
      "source": [
        "### - Creating a function to make an EffNetB2 feature extractor"
      ]
    },
    {
      "cell_type": "code",
      "execution_count": null,
      "metadata": {
        "id": "WRr4bURS-i6_"
      },
      "outputs": [],
      "source": [
        "def create_effnetb2_model(num_classes:int=3,\n",
        "                          seed:int=42):\n",
        "    \"\"\"Creates an EfficientNetB2 feature extractor model and transforms.\n",
        "\n",
        "    Args:\n",
        "        num_classes (int, optional): number of classes in the classifier head.\n",
        "            Defaults to 3.\n",
        "        seed (int, optional): random seed value. Defaults to 42.\n",
        "\n",
        "    Returns:\n",
        "        model (torch.nn.Module): EffNetB2 feature extractor model.\n",
        "        transforms (torchvision.transforms): EffNetB2 image transforms.\n",
        "    \"\"\"\n",
        "    # 1, 2, 3. Creates EffNetB2 pretrained weights, transforms and model\n",
        "    weights = torchvision.models.EfficientNet_B2_Weights.DEFAULT\n",
        "    transforms = weights.transforms()\n",
        "    model = torchvision.models.efficientnet_b2(weights=weights)\n",
        "\n",
        "    # 4. Freeze all layers in base model\n",
        "    for param in model.parameters():\n",
        "        param.requires_grad = False\n",
        "\n",
        "    # 5. Change classifier head with random seed for reproducibility\n",
        "    torch.manual_seed(seed)\n",
        "    model.classifier = nn.Sequential(\n",
        "        nn.Dropout(p=0.3, inplace=True),\n",
        "        nn.Linear(in_features=1408,\n",
        "                  out_features=num_classes)\n",
        "    )\n",
        "\n",
        "    return model, transforms"
      ]
    },
    {
      "cell_type": "code",
      "execution_count": null,
      "metadata": {
        "id": "TKntsAxr-i6_"
      },
      "outputs": [],
      "source": [
        "effnetb2, effnetb2_transforms = create_effnetb2_model(num_classes=3, seed=42)"
      ]
    },
    {
      "cell_type": "code",
      "execution_count": null,
      "metadata": {
        "id": "giOhmKVe-i6_",
        "outputId": "7d48ea68-1a48-4af1-c538-b80a1b41fc24"
      },
      "outputs": [
        {
          "data": {
            "text/plain": [
              "============================================================================================================================================\n",
              "Layer (type (var_name))                                      Input Shape          Output Shape         Param #              Trainable\n",
              "============================================================================================================================================\n",
              "EfficientNet (EfficientNet)                                  [1, 3, 224, 224]     [1, 3]               --                   Partial\n",
              "├─Sequential (features)                                      [1, 3, 224, 224]     [1, 1408, 7, 7]      --                   False\n",
              "│    └─Conv2dNormActivation (0)                              [1, 3, 224, 224]     [1, 32, 112, 112]    --                   False\n",
              "│    │    └─Conv2d (0)                                       [1, 3, 224, 224]     [1, 32, 112, 112]    (864)                False\n",
              "│    │    └─BatchNorm2d (1)                                  [1, 32, 112, 112]    [1, 32, 112, 112]    (64)                 False\n",
              "│    │    └─SiLU (2)                                         [1, 32, 112, 112]    [1, 32, 112, 112]    --                   --\n",
              "│    └─Sequential (1)                                        [1, 32, 112, 112]    [1, 16, 112, 112]    --                   False\n",
              "│    │    └─MBConv (0)                                       [1, 32, 112, 112]    [1, 16, 112, 112]    (1,448)              False\n",
              "│    │    └─MBConv (1)                                       [1, 16, 112, 112]    [1, 16, 112, 112]    (612)                False\n",
              "│    └─Sequential (2)                                        [1, 16, 112, 112]    [1, 24, 56, 56]      --                   False\n",
              "│    │    └─MBConv (0)                                       [1, 16, 112, 112]    [1, 24, 56, 56]      (6,004)              False\n",
              "│    │    └─MBConv (1)                                       [1, 24, 56, 56]      [1, 24, 56, 56]      (10,710)             False\n",
              "│    │    └─MBConv (2)                                       [1, 24, 56, 56]      [1, 24, 56, 56]      (10,710)             False\n",
              "│    └─Sequential (3)                                        [1, 24, 56, 56]      [1, 48, 28, 28]      --                   False\n",
              "│    │    └─MBConv (0)                                       [1, 24, 56, 56]      [1, 48, 28, 28]      (16,518)             False\n",
              "│    │    └─MBConv (1)                                       [1, 48, 28, 28]      [1, 48, 28, 28]      (43,308)             False\n",
              "│    │    └─MBConv (2)                                       [1, 48, 28, 28]      [1, 48, 28, 28]      (43,308)             False\n",
              "│    └─Sequential (4)                                        [1, 48, 28, 28]      [1, 88, 14, 14]      --                   False\n",
              "│    │    └─MBConv (0)                                       [1, 48, 28, 28]      [1, 88, 14, 14]      (50,300)             False\n",
              "│    │    └─MBConv (1)                                       [1, 88, 14, 14]      [1, 88, 14, 14]      (123,750)            False\n",
              "│    │    └─MBConv (2)                                       [1, 88, 14, 14]      [1, 88, 14, 14]      (123,750)            False\n",
              "│    │    └─MBConv (3)                                       [1, 88, 14, 14]      [1, 88, 14, 14]      (123,750)            False\n",
              "│    └─Sequential (5)                                        [1, 88, 14, 14]      [1, 120, 14, 14]     --                   False\n",
              "│    │    └─MBConv (0)                                       [1, 88, 14, 14]      [1, 120, 14, 14]     (149,158)            False\n",
              "│    │    └─MBConv (1)                                       [1, 120, 14, 14]     [1, 120, 14, 14]     (237,870)            False\n",
              "│    │    └─MBConv (2)                                       [1, 120, 14, 14]     [1, 120, 14, 14]     (237,870)            False\n",
              "│    │    └─MBConv (3)                                       [1, 120, 14, 14]     [1, 120, 14, 14]     (237,870)            False\n",
              "│    └─Sequential (6)                                        [1, 120, 14, 14]     [1, 208, 7, 7]       --                   False\n",
              "│    │    └─MBConv (0)                                       [1, 120, 14, 14]     [1, 208, 7, 7]       (301,406)            False\n",
              "│    │    └─MBConv (1)                                       [1, 208, 7, 7]       [1, 208, 7, 7]       (686,868)            False\n",
              "│    │    └─MBConv (2)                                       [1, 208, 7, 7]       [1, 208, 7, 7]       (686,868)            False\n",
              "│    │    └─MBConv (3)                                       [1, 208, 7, 7]       [1, 208, 7, 7]       (686,868)            False\n",
              "│    │    └─MBConv (4)                                       [1, 208, 7, 7]       [1, 208, 7, 7]       (686,868)            False\n",
              "│    └─Sequential (7)                                        [1, 208, 7, 7]       [1, 352, 7, 7]       --                   False\n",
              "│    │    └─MBConv (0)                                       [1, 208, 7, 7]       [1, 352, 7, 7]       (846,900)            False\n",
              "│    │    └─MBConv (1)                                       [1, 352, 7, 7]       [1, 352, 7, 7]       (1,888,920)          False\n",
              "│    └─Conv2dNormActivation (8)                              [1, 352, 7, 7]       [1, 1408, 7, 7]      --                   False\n",
              "│    │    └─Conv2d (0)                                       [1, 352, 7, 7]       [1, 1408, 7, 7]      (495,616)            False\n",
              "│    │    └─BatchNorm2d (1)                                  [1, 1408, 7, 7]      [1, 1408, 7, 7]      (2,816)              False\n",
              "│    │    └─SiLU (2)                                         [1, 1408, 7, 7]      [1, 1408, 7, 7]      --                   --\n",
              "├─AdaptiveAvgPool2d (avgpool)                                [1, 1408, 7, 7]      [1, 1408, 1, 1]      --                   --\n",
              "├─Sequential (classifier)                                    [1, 1408]            [1, 3]               --                   True\n",
              "│    └─Dropout (0)                                           [1, 1408]            [1, 1408]            --                   --\n",
              "│    └─Linear (1)                                            [1, 1408]            [1, 3]               4,227                True\n",
              "============================================================================================================================================\n",
              "Total params: 7,705,221\n",
              "Trainable params: 4,227\n",
              "Non-trainable params: 7,700,994\n",
              "Total mult-adds (M): 657.64\n",
              "============================================================================================================================================\n",
              "Input size (MB): 0.60\n",
              "Forward/backward pass size (MB): 156.80\n",
              "Params size (MB): 30.82\n",
              "Estimated Total Size (MB): 188.22\n",
              "============================================================================================================================================"
            ]
          },
          "execution_count": 12,
          "metadata": {},
          "output_type": "execute_result"
        }
      ],
      "source": [
        "from torchinfo import summary\n",
        "\n",
        "summary(model=effnetb2,\n",
        "        input_size=(1, 3, 224, 224),\n",
        "        col_names=[\"input_size\", \"output_size\", \"num_params\", \"trainable\"],\n",
        "        col_width=20,\n",
        "        row_settings=[\"var_names\"])"
      ]
    },
    {
      "cell_type": "markdown",
      "metadata": {
        "id": "12xbYXXm-i6_"
      },
      "source": [
        "### - Creating DataLoaders for EffNetB2"
      ]
    },
    {
      "cell_type": "code",
      "execution_count": null,
      "metadata": {
        "id": "k9MvPDoa-i7A"
      },
      "outputs": [],
      "source": [
        "from going_modular.going_modular import data_setup\n",
        "\n",
        "train_dataloader_effnetb2, test_dataloader_effnetb2, class_names = data_setup.create_dataloaders(train_dir=train_dir,\n",
        "                                                                                                 test_dir=test_dir,\n",
        "                                                                                                 transform=effnetb2_transforms,\n",
        "                                                                                                 batch_size=32)"
      ]
    },
    {
      "cell_type": "markdown",
      "metadata": {
        "id": "_Ie1wxyn-i7A"
      },
      "source": [
        "### - Training EffNetB2 featrue extractor"
      ]
    },
    {
      "cell_type": "code",
      "execution_count": null,
      "metadata": {
        "colab": {
          "referenced_widgets": [
            "fed299830cf944d880c55b2a79ec21ac"
          ]
        },
        "id": "C0l7m2GC-i7A",
        "outputId": "64edf562-0e98-4051-d031-70a88119714e"
      },
      "outputs": [
        {
          "data": {
            "application/vnd.jupyter.widget-view+json": {
              "model_id": "fed299830cf944d880c55b2a79ec21ac",
              "version_major": 2,
              "version_minor": 0
            },
            "text/plain": [
              "  0%|          | 0/10 [00:00<?, ?it/s]"
            ]
          },
          "metadata": {},
          "output_type": "display_data"
        },
        {
          "name": "stdout",
          "output_type": "stream",
          "text": [
            "Epoch: 1 | train_loss: 0.8101 | train_acc: 0.6729 | test_loss: 0.3985 | test_acc: 0.9722\n",
            "Epoch: 2 | train_loss: 0.4324 | train_acc: 0.8812 | test_loss: 0.3052 | test_acc: 0.9563\n",
            "Epoch: 3 | train_loss: 0.3680 | train_acc: 0.8750 | test_loss: 0.2557 | test_acc: 0.9750\n",
            "Epoch: 4 | train_loss: 0.2502 | train_acc: 0.9333 | test_loss: 0.2486 | test_acc: 0.9534\n",
            "Epoch: 5 | train_loss: 0.2374 | train_acc: 0.9437 | test_loss: 0.2282 | test_acc: 0.9443\n",
            "Epoch: 6 | train_loss: 0.3308 | train_acc: 0.9062 | test_loss: 0.2099 | test_acc: 0.9688\n",
            "Epoch: 7 | train_loss: 0.3117 | train_acc: 0.9000 | test_loss: 0.2197 | test_acc: 0.9409\n",
            "Epoch: 8 | train_loss: 0.3279 | train_acc: 0.8917 | test_loss: 0.2248 | test_acc: 0.9199\n",
            "Epoch: 9 | train_loss: 0.3190 | train_acc: 0.8792 | test_loss: 0.2092 | test_acc: 0.9313\n",
            "Epoch: 10 | train_loss: 0.3337 | train_acc: 0.8667 | test_loss: 0.1880 | test_acc: 0.9534\n"
          ]
        }
      ],
      "source": [
        "from going_modular.going_modular import engine\n",
        "\n",
        "# Setup optimizer\n",
        "optimizer = torch.optim.Adam(params=effnetb2.parameters(),\n",
        "                             lr=3e-3)\n",
        "\n",
        "# Setup loss function\n",
        "loss_fn = torch.nn.CrossEntropyLoss()\n",
        "\n",
        "# Set seeds for reproducibility and train the model\n",
        "set_seeds()\n",
        "effnetb2_results = engine.train(model=effnetb2,\n",
        "                                train_dataloader=train_dataloader_effnetb2,\n",
        "                                test_dataloader=test_dataloader_effnetb2,\n",
        "                                optimizer=optimizer,\n",
        "                                loss_fn=loss_fn,\n",
        "                                epochs=10,\n",
        "                                device=device)"
      ]
    },
    {
      "cell_type": "markdown",
      "metadata": {
        "id": "M_P8_ccT-i7A"
      },
      "source": [
        "### - Inspecting EffNetB2 loss curves"
      ]
    },
    {
      "cell_type": "code",
      "execution_count": null,
      "metadata": {
        "id": "6K8lCd7K-i7A",
        "outputId": "bb78fb8e-d27c-40ec-cc49-438791a2055b"
      },
      "outputs": [
        {
          "data": {
            "image/png": "[encoded data removed]",
            "text/plain": [
              "<Figure size 1500x700 with 2 Axes>"
            ]
          },
          "metadata": {},
          "output_type": "display_data"
        }
      ],
      "source": [
        "from helper_functions import plot_loss_curves\n",
        "\n",
        "plot_loss_curves(effnetb2_results)"
      ]
    },
    {
      "cell_type": "markdown",
      "metadata": {
        "id": "fbsMoPQi-i7A"
      },
      "source": [
        "### - Saving EffNetB2 feature extractor"
      ]
    },
    {
      "cell_type": "code",
      "execution_count": null,
      "metadata": {
        "id": "EvmBnhKL-i7B",
        "outputId": "c5a22b04-775a-4db9-91e0-3c206c4757d5"
      },
      "outputs": [
        {
          "name": "stdout",
          "output_type": "stream",
          "text": [
            "[INFO] Saving model to: models\\09_pretrained_effnetb2_feature_extractor_pizza_steak_sushi_20_percent.pth\n"
          ]
        }
      ],
      "source": [
        "from going_modular.going_modular import utils\n",
        "\n",
        "# Save the model\n",
        "utils.save_model(model=effnetb2,\n",
        "                 target_dir=\"models\",\n",
        "                 model_name=\"09_pretrained_effnetb2_feature_extractor_pizza_steak_sushi_20_percent.pth\")"
      ]
    },
    {
      "cell_type": "markdown",
      "metadata": {
        "id": "qO6V-KdR-i7B"
      },
      "source": [
        "### - Checking the size of EffNetB2 feature extractor"
      ]
    },
    {
      "cell_type": "code",
      "execution_count": null,
      "metadata": {
        "id": "8YKLpgHE-i7B",
        "outputId": "d6cd16a5-007a-4206-c0cf-214306a144e3"
      },
      "outputs": [
        {
          "name": "stdout",
          "output_type": "stream",
          "text": [
            "Pretrained EffNetB2 extractor model size: 29 MB\n"
          ]
        }
      ],
      "source": [
        "from pathlib import Path\n",
        "\n",
        "pretrained_effnetb2_model_size = Path(\"models/09_pretrained_effnetb2_feature_extractor_pizza_steak_sushi_20_percent.pth\").stat().st_size // (1024 * 1024)\n",
        "print(f\"Pretrained EffNetB2 extractor model size: {pretrained_effnetb2_model_size} MB\")"
      ]
    },
    {
      "cell_type": "markdown",
      "metadata": {
        "id": "a8vl5fdf-i7B"
      },
      "source": [
        "### - Collecting EffNetB2 feature extractor stats"
      ]
    },
    {
      "cell_type": "code",
      "execution_count": null,
      "metadata": {
        "id": "PmuDY6FD-i7B",
        "outputId": "6bb6b487-9f20-4b8c-ca8f-a5606de5f2d3"
      },
      "outputs": [
        {
          "data": {
            "text/plain": [
              "7705221"
            ]
          },
          "execution_count": 18,
          "metadata": {},
          "output_type": "execute_result"
        }
      ],
      "source": [
        "# Count number of parameters in EffNetB2\n",
        "effnetb2_total_params = sum( torch.numel(param) for param in effnetb2.parameters())\n",
        "effnetb2_total_params"
      ]
    },
    {
      "cell_type": "code",
      "execution_count": null,
      "metadata": {
        "id": "kmXYM3dl-i7C",
        "outputId": "70e54bf4-b48a-464b-b276-a91b88116acb"
      },
      "outputs": [
        {
          "data": {
            "text/plain": [
              "{'test_loss': 0.18803058564662933,\n",
              " 'testa_acc': 0.953409090909091,\n",
              " 'number_of_parameters': 7705221,\n",
              " 'model_size (MB)': 29}"
            ]
          },
          "execution_count": 19,
          "metadata": {},
          "output_type": "execute_result"
        }
      ],
      "source": [
        "# Create a dictionary with EffNetB2 statistics\n",
        "effnetb2_stats = {\"test_loss\": effnetb2_results[\"test_loss\"][-1],\n",
        "                  \"testa_acc\": effnetb2_results[\"test_acc\"][-1],\n",
        "                  \"number_of_parameters\": effnetb2_total_params,\n",
        "                  \"model_size (MB)\": pretrained_effnetb2_model_size}\n",
        "effnetb2_stats"
      ]
    },
    {
      "cell_type": "markdown",
      "metadata": {
        "id": "FrQUclpw-i7C"
      },
      "source": [
        "## Creating a ViT feature extractor"
      ]
    },
    {
      "cell_type": "code",
      "execution_count": null,
      "metadata": {
        "id": "Y5-hs2H2-i7C",
        "outputId": "59752cfe-49e6-45e3-8c9a-894ae9d8216c"
      },
      "outputs": [
        {
          "data": {
            "text/plain": [
              "Sequential(\n",
              "  (head): Linear(in_features=768, out_features=1000, bias=True)\n",
              ")"
            ]
          },
          "execution_count": 20,
          "metadata": {},
          "output_type": "execute_result"
        }
      ],
      "source": [
        "# Check out ViT heads layer\n",
        "vit = torchvision.models.vit_b_16()\n",
        "vit.heads"
      ]
    },
    {
      "cell_type": "code",
      "execution_count": null,
      "metadata": {
        "id": "in85NLER-i7C"
      },
      "outputs": [],
      "source": [
        "def create_vit_model(num_classes:int=3,\n",
        "                     seed:int=42):\n",
        "    \"\"\"Creates a ViT-B/16 feature extractor model and transforms.\n",
        "\n",
        "    Args:\n",
        "        num_classes (int, optional): number of target classes. Defaults to 3.\n",
        "        seed (int, optional): random seed value for output layer. Defaults to 42.\n",
        "\n",
        "    Returns:\n",
        "        model (torch.nn.Module): ViT-B/16 feature extractor model.\n",
        "        transforms (torchvision.transforms): ViT-B/16 image transforms.\n",
        "    \"\"\"\n",
        "    # Create a ViT_B_16 pretrained weights, transforms and model\n",
        "    weights = torchvision.models.ViT_B_16_Weights.DEFAULT\n",
        "    transforms = weights.transforms()\n",
        "    model = torchvision.models.vit_b_16(weights=weights)\n",
        "\n",
        "    # Freeze all layers in model\n",
        "    for param in model.parameters():\n",
        "        param.requires_grad = False\n",
        "\n",
        "    # Change classifier head to suit our needs (this will be trainable)\n",
        "    torch.manual_seed(seed)\n",
        "    model.heads = nn.Sequential(\n",
        "        nn.Linear(in_features=768,\n",
        "                  out_features=num_classes)\n",
        "    )\n",
        "\n",
        "    return model, transforms"
      ]
    },
    {
      "cell_type": "code",
      "execution_count": null,
      "metadata": {
        "id": "RQudjZEt-i7C"
      },
      "outputs": [],
      "source": [
        "# Create ViT model and transforms\n",
        "vit, vit_transforms = create_vit_model(num_classes=3, seed=42)"
      ]
    },
    {
      "cell_type": "code",
      "execution_count": null,
      "metadata": {
        "id": "8rIBUI5y-i7C",
        "outputId": "dd35aa39-25af-4cba-bee6-c0620e102490"
      },
      "outputs": [
        {
          "data": {
            "text/plain": [
              "============================================================================================================================================\n",
              "Layer (type (var_name))                                      Input Shape          Output Shape         Param #              Trainable\n",
              "============================================================================================================================================\n",
              "VisionTransformer (VisionTransformer)                        [1, 3, 224, 224]     [1, 3]               768                  Partial\n",
              "├─Conv2d (conv_proj)                                         [1, 3, 224, 224]     [1, 768, 14, 14]     (590,592)            False\n",
              "├─Encoder (encoder)                                          [1, 197, 768]        [1, 197, 768]        151,296              False\n",
              "│    └─Dropout (dropout)                                     [1, 197, 768]        [1, 197, 768]        --                   --\n",
              "│    └─Sequential (layers)                                   [1, 197, 768]        [1, 197, 768]        --                   False\n",
              "│    │    └─EncoderBlock (encoder_layer_0)                   [1, 197, 768]        [1, 197, 768]        (7,087,872)          False\n",
              "│    │    └─EncoderBlock (encoder_layer_1)                   [1, 197, 768]        [1, 197, 768]        (7,087,872)          False\n",
              "│    │    └─EncoderBlock (encoder_layer_2)                   [1, 197, 768]        [1, 197, 768]        (7,087,872)          False\n",
              "│    │    └─EncoderBlock (encoder_layer_3)                   [1, 197, 768]        [1, 197, 768]        (7,087,872)          False\n",
              "│    │    └─EncoderBlock (encoder_layer_4)                   [1, 197, 768]        [1, 197, 768]        (7,087,872)          False\n",
              "│    │    └─EncoderBlock (encoder_layer_5)                   [1, 197, 768]        [1, 197, 768]        (7,087,872)          False\n",
              "│    │    └─EncoderBlock (encoder_layer_6)                   [1, 197, 768]        [1, 197, 768]        (7,087,872)          False\n",
              "│    │    └─EncoderBlock (encoder_layer_7)                   [1, 197, 768]        [1, 197, 768]        (7,087,872)          False\n",
              "│    │    └─EncoderBlock (encoder_layer_8)                   [1, 197, 768]        [1, 197, 768]        (7,087,872)          False\n",
              "│    │    └─EncoderBlock (encoder_layer_9)                   [1, 197, 768]        [1, 197, 768]        (7,087,872)          False\n",
              "│    │    └─EncoderBlock (encoder_layer_10)                  [1, 197, 768]        [1, 197, 768]        (7,087,872)          False\n",
              "│    │    └─EncoderBlock (encoder_layer_11)                  [1, 197, 768]        [1, 197, 768]        (7,087,872)          False\n",
              "│    └─LayerNorm (ln)                                        [1, 197, 768]        [1, 197, 768]        (1,536)              False\n",
              "├─Sequential (heads)                                         [1, 768]             [1, 3]               --                   True\n",
              "│    └─Linear (0)                                            [1, 768]             [1, 3]               2,307                True\n",
              "============================================================================================================================================\n",
              "Total params: 85,800,963\n",
              "Trainable params: 2,307\n",
              "Non-trainable params: 85,798,656\n",
              "Total mult-adds (M): 172.47\n",
              "============================================================================================================================================\n",
              "Input size (MB): 0.60\n",
              "Forward/backward pass size (MB): 104.09\n",
              "Params size (MB): 229.20\n",
              "Estimated Total Size (MB): 333.89\n",
              "============================================================================================================================================"
            ]
          },
          "execution_count": 23,
          "metadata": {},
          "output_type": "execute_result"
        }
      ],
      "source": [
        "from torchinfo import summary\n",
        "\n",
        "summary(model=vit,\n",
        "        input_size=(1, 3, 224, 224),\n",
        "        col_names=[\"input_size\", \"output_size\", \"num_params\", \"trainable\"],\n",
        "        col_width=20,\n",
        "        row_settings=[\"var_names\"])"
      ]
    },
    {
      "cell_type": "markdown",
      "metadata": {
        "id": "FS8N6A_s-i7C"
      },
      "source": [
        "### - Create DataLoaders for ViT"
      ]
    },
    {
      "cell_type": "code",
      "execution_count": null,
      "metadata": {
        "id": "Tn8H3sQo-i7D"
      },
      "outputs": [],
      "source": [
        "# Setup ViT DataLoaders\n",
        "from going_modular.going_modular import data_setup\n",
        "\n",
        "train_dataloader_vit, test_dataloader_vit, class_names = data_setup.create_dataloaders(train_dir=train_dir,\n",
        "                                                                                       test_dir=test_dir,\n",
        "                                                                                       transform=vit_transforms,\n",
        "                                                                                       batch_size=32)"
      ]
    },
    {
      "cell_type": "markdown",
      "metadata": {
        "id": "4FPuTvcW-i7D"
      },
      "source": [
        "### - Training ViT feature extractor"
      ]
    },
    {
      "cell_type": "code",
      "execution_count": null,
      "metadata": {
        "colab": {
          "referenced_widgets": [
            "200a27f4bd6f4765a73168d9af755233"
          ]
        },
        "id": "Z_tqz4gp-i7D",
        "outputId": "b6eaddc4-30de-477c-9e84-067e6f62371a"
      },
      "outputs": [
        {
          "data": {
            "application/vnd.jupyter.widget-view+json": {
              "model_id": "200a27f4bd6f4765a73168d9af755233",
              "version_major": 2,
              "version_minor": 0
            },
            "text/plain": [
              "  0%|          | 0/10 [00:00<?, ?it/s]"
            ]
          },
          "metadata": {},
          "output_type": "display_data"
        },
        {
          "name": "stdout",
          "output_type": "stream",
          "text": [
            "Epoch: 1 | train_loss: 0.7020 | train_acc: 0.7521 | test_loss: 0.2714 | test_acc: 0.9381\n",
            "Epoch: 2 | train_loss: 0.2532 | train_acc: 0.9062 | test_loss: 0.1672 | test_acc: 0.9602\n",
            "Epoch: 3 | train_loss: 0.1764 | train_acc: 0.9542 | test_loss: 0.1273 | test_acc: 0.9693\n",
            "Epoch: 4 | train_loss: 0.1276 | train_acc: 0.9625 | test_loss: 0.1074 | test_acc: 0.9722\n",
            "Epoch: 5 | train_loss: 0.1159 | train_acc: 0.9646 | test_loss: 0.0953 | test_acc: 0.9784\n",
            "Epoch: 6 | train_loss: 0.1274 | train_acc: 0.9375 | test_loss: 0.0832 | test_acc: 0.9722\n",
            "Epoch: 7 | train_loss: 0.0897 | train_acc: 0.9771 | test_loss: 0.0845 | test_acc: 0.9784\n",
            "Epoch: 8 | train_loss: 0.0919 | train_acc: 0.9812 | test_loss: 0.0764 | test_acc: 0.9722\n",
            "Epoch: 9 | train_loss: 0.0922 | train_acc: 0.9792 | test_loss: 0.0734 | test_acc: 0.9784\n",
            "Epoch: 10 | train_loss: 0.0658 | train_acc: 0.9833 | test_loss: 0.0644 | test_acc: 0.9847\n"
          ]
        }
      ],
      "source": [
        "from going_modular.going_modular import engine\n",
        "\n",
        "# Setup optimzier\n",
        "optimizer = torch.optim.Adam(params=vit.parameters(),\n",
        "                             lr=1e-3)\n",
        "\n",
        "# Setup loss function\n",
        "loss_fn = torch.nn.CrossEntropyLoss()\n",
        "\n",
        "# Train ViT model with seeds set for reproducibility\n",
        "set_seeds()\n",
        "vit_results = engine.train(model=vit,\n",
        "                           train_dataloader=train_dataloader_vit,\n",
        "                           test_dataloader=test_dataloader_vit,\n",
        "                           optimizer=optimizer,\n",
        "                           loss_fn=loss_fn,\n",
        "                           epochs=10,\n",
        "                           device=device)"
      ]
    },
    {
      "cell_type": "markdown",
      "metadata": {
        "id": "XoRHSKcF-i7D"
      },
      "source": [
        "### - Inspecting ViT loss curves"
      ]
    },
    {
      "cell_type": "code",
      "execution_count": null,
      "metadata": {
        "id": "X4APxP2s-i7D",
        "outputId": "09151bd8-c56b-4e60-a474-e12207c71509"
      },
      "outputs": [
        {
          "data": {
            "image/png": "[encoded data removed]",
            "text/plain": [
              "<Figure size 1500x700 with 2 Axes>"
            ]
          },
          "metadata": {},
          "output_type": "display_data"
        }
      ],
      "source": [
        "from helper_functions import plot_loss_curves\n",
        "\n",
        "plot_loss_curves(vit_results)"
      ]
    },
    {
      "cell_type": "markdown",
      "metadata": {
        "id": "YJzx1cj7-i7H"
      },
      "source": [
        "### - Saving ViT feature extractor"
      ]
    },
    {
      "cell_type": "code",
      "execution_count": null,
      "metadata": {
        "id": "x1cHPtOP-i7H",
        "outputId": "41071ae8-d7ea-49ae-af70-8577f857a95f"
      },
      "outputs": [
        {
          "name": "stdout",
          "output_type": "stream",
          "text": [
            "[INFO] Saving model to: models\\09_pretrained_vit_feature_extractor_pizza_steak_sushi_20_percent.pth\n"
          ]
        }
      ],
      "source": [
        "# Save the model\n",
        "from going_modular.going_modular import utils\n",
        "\n",
        "utils.save_model(model=vit,\n",
        "                 target_dir=\"models\",\n",
        "                 model_name=\"09_pretrained_vit_feature_extractor_pizza_steak_sushi_20_percent.pth\")"
      ]
    },
    {
      "cell_type": "markdown",
      "metadata": {
        "id": "fBzrOC50-i7H"
      },
      "source": [
        "### - Checking the size of ViT feature extractor"
      ]
    },
    {
      "cell_type": "code",
      "execution_count": null,
      "metadata": {
        "id": "tHrn0Nki-i7H",
        "outputId": "a86c4cbb-7030-4ae7-8f81-87c46035d171"
      },
      "outputs": [
        {
          "name": "stdout",
          "output_type": "stream",
          "text": [
            "Pretrained ViT featuer extractor model size: 327 MB\n"
          ]
        }
      ],
      "source": [
        "from pathlib import Path\n",
        "\n",
        "pretrianed_vit_model_size = Path(\"models/09_pretrained_vit_feature_extractor_pizza_steak_sushi_20_percent.pth\").stat().st_size // (1024 * 1024)\n",
        "print(f\"Pretrained ViT featuer extractor model size: {pretrianed_vit_model_size} MB\")"
      ]
    },
    {
      "cell_type": "markdown",
      "metadata": {
        "id": "HRejqgv1-i7I"
      },
      "source": [
        "### - Collecting ViT feature extracor stats"
      ]
    },
    {
      "cell_type": "code",
      "execution_count": null,
      "metadata": {
        "id": "6p5ifA6I-i7I",
        "outputId": "6035b3ea-e464-4bb0-d7d5-610f53264d26"
      },
      "outputs": [
        {
          "data": {
            "text/plain": [
              "85800963"
            ]
          },
          "execution_count": 29,
          "metadata": {},
          "output_type": "execute_result"
        }
      ],
      "source": [
        "# Count number of parameters in ViT\n",
        "vit_total_params = sum(torch.numel(param) for param in vit.parameters())\n",
        "vit_total_params"
      ]
    },
    {
      "cell_type": "code",
      "execution_count": null,
      "metadata": {
        "id": "qzWhrdcM-i7I",
        "outputId": "6235af70-cc36-43a4-c587-ac2868c65b33"
      },
      "outputs": [
        {
          "data": {
            "text/plain": [
              "{'test_loss': 0.0644345329143107,\n",
              " 'test_acc': 0.984659090909091,\n",
              " 'number_of_parameters': 85800963,\n",
              " 'model size (MB)': 327}"
            ]
          },
          "execution_count": 30,
          "metadata": {},
          "output_type": "execute_result"
        }
      ],
      "source": [
        "# Create ViT statistics dictionary\n",
        "vit_stats = {\"test_loss\": vit_results[\"test_loss\"][-1],\n",
        "             \"test_acc\": vit_results[\"test_acc\"][-1],\n",
        "             \"number_of_parameters\": vit_total_params,\n",
        "             \"model size (MB)\": pretrianed_vit_model_size}\n",
        "vit_stats"
      ]
    },
    {
      "cell_type": "markdown",
      "metadata": {
        "id": "YblqPRJk-i7I"
      },
      "source": [
        "## Making predictions with our trained models and timing them"
      ]
    },
    {
      "cell_type": "code",
      "execution_count": null,
      "metadata": {
        "id": "8JJ82gRR-i7I",
        "outputId": "ee312330-956a-4851-9b4a-d7a859fe9efe"
      },
      "outputs": [
        {
          "name": "stdout",
          "output_type": "stream",
          "text": [
            "[INFO] Finding all filepaths ending with '.jpg' in directory: data\\pizza_steak_sushi_20_percent\\test\n"
          ]
        },
        {
          "data": {
            "text/plain": [
              "[WindowsPath('data/pizza_steak_sushi_20_percent/test/pizza/1001116.jpg'),\n",
              " WindowsPath('data/pizza_steak_sushi_20_percent/test/pizza/1032754.jpg'),\n",
              " WindowsPath('data/pizza_steak_sushi_20_percent/test/pizza/1067986.jpg'),\n",
              " WindowsPath('data/pizza_steak_sushi_20_percent/test/pizza/129666.jpg'),\n",
              " WindowsPath('data/pizza_steak_sushi_20_percent/test/pizza/1315645.jpg')]"
            ]
          },
          "execution_count": 31,
          "metadata": {},
          "output_type": "execute_result"
        }
      ],
      "source": [
        "from pathlib import Path\n",
        "\n",
        "# Get all test data paths\n",
        "print(f\"[INFO] Finding all filepaths ending with '.jpg' in directory: {test_dir}\")\n",
        "test_data_paths = list(Path(test_dir).glob(\"*/*.jpg\"))\n",
        "test_data_paths[:5]"
      ]
    },
    {
      "cell_type": "code",
      "execution_count": null,
      "metadata": {
        "id": "d4OKyAHF-i7J"
      },
      "outputs": [],
      "source": [
        "import pathlib\n",
        "import torch\n",
        "\n",
        "from PIL import Image\n",
        "from timeit import default_timer as timer\n",
        "from tqdm.auto import tqdm\n",
        "from typing import List, Dict\n",
        "\n",
        "# 1. Create a function to return a list of dictionaries with sample, truth label, prediction, prediction probability and prediciton time\n",
        "def pred_and_store(paths: List[pathlib.Path],\n",
        "                   model: torch.nn.Module,\n",
        "                   transform: torchvision.transforms,\n",
        "                   class_names: List[str],\n",
        "                    device: str = \"cuda\" if torch.cuda.is_available() else \"cpu\") -> List[Dict]:\n",
        "\n",
        "    # 2. Create an empty list to store prediction dictionaries\n",
        "    pred_list = []\n",
        "\n",
        "    # 3. Loop through target paths\n",
        "    for path in tqdm(paths):\n",
        "\n",
        "        # 4. Create empty dictionary to store prediction information for each sample\n",
        "        pred_dict = {}\n",
        "\n",
        "        # 5. Get the sample path and ground truth class name\n",
        "        pred_dict[\"image_path\"] = path\n",
        "        class_name = path.parent.stem\n",
        "        pred_dict[\"class_name\"] = class_name\n",
        "\n",
        "        # 6. Start the prediction timer\n",
        "        start_time = timer()\n",
        "\n",
        "        # 7. Open image path\n",
        "        img = Image.open(path)\n",
        "\n",
        "        # 8. Transform the image, add abatch dimension and put image on target device\n",
        "        transformed_image = transform(img).unsqueeze(0).to(device)\n",
        "\n",
        "        # 9. Prepare model for inference by sending it to target device and turning on eval() mode\n",
        "        model.to(device)\n",
        "        model.eval()\n",
        "\n",
        "        # 10. Get prediction probability, prediction label and prediction class\n",
        "        with torch.inference_mode():\n",
        "            pred_logit = model(transformed_image) # perform inference on target sample\n",
        "            pred_prob = torch.softmax(pred_logit, dim=1) # turn logits into prediction probability\n",
        "            pred_label = pred_prob.argmax(dim=1) # turn prediction probabilities into prediction label\n",
        "            pred_class = class_names[pred_label.cpu()] # hardcode prediction class to be on CPU\n",
        "\n",
        "            # 11. Make sure things in the dictionary are on CPU (required for inspecting predictions later on)\n",
        "            pred_dict[\"pred_prob\"] = round(pred_prob.unsqueeze(0).max().cpu().item(), 4)\n",
        "            pred_dict[\"pred_class\"] = pred_class\n",
        "\n",
        "            # 12. End the timer and calculate time per pred\n",
        "            end_time = timer()\n",
        "            pred_dict[\"time_for_pred\"] = round(end_time-start_time, 4)\n",
        "\n",
        "        # 13. Does the pred match the true label?\n",
        "        pred_dict[\"correct\"] = class_name == pred_class\n",
        "\n",
        "        # 14. Add the dictionary to the list of preds\n",
        "        pred_list.append(pred_dict)\n",
        "\n",
        "    # 15. Return list of prediction dictionaries\n",
        "    return pred_list\n"
      ]
    },
    {
      "cell_type": "markdown",
      "metadata": {
        "id": "yFpX6fx4-i7J"
      },
      "source": [
        "### - Making and timing predictions with EffNetB2"
      ]
    },
    {
      "cell_type": "code",
      "execution_count": null,
      "metadata": {
        "colab": {
          "referenced_widgets": [
            "bbf92770a0884e7eb81f943898433896"
          ]
        },
        "id": "2-tw5qNl-i7J",
        "outputId": "3ff5d370-d5ea-44a5-f6ac-1f8d7ed3a83b"
      },
      "outputs": [
        {
          "data": {
            "application/vnd.jupyter.widget-view+json": {
              "model_id": "bbf92770a0884e7eb81f943898433896",
              "version_major": 2,
              "version_minor": 0
            },
            "text/plain": [
              "  0%|          | 0/150 [00:00<?, ?it/s]"
            ]
          },
          "metadata": {},
          "output_type": "display_data"
        },
        {
          "data": {
            "text/plain": [
              "[{'image_path': WindowsPath('data/pizza_steak_sushi_20_percent/test/pizza/1001116.jpg'),\n",
              "  'class_name': 'pizza',\n",
              "  'pred_prob': 0.9999,\n",
              "  'pred_class': 'pizza',\n",
              "  'time_for_pred': 0.4702,\n",
              "  'correct': True},\n",
              " {'image_path': WindowsPath('data/pizza_steak_sushi_20_percent/test/pizza/1032754.jpg'),\n",
              "  'class_name': 'pizza',\n",
              "  'pred_prob': 0.5436,\n",
              "  'pred_class': 'pizza',\n",
              "  'time_for_pred': 0.1473,\n",
              "  'correct': True},\n",
              " {'image_path': WindowsPath('data/pizza_steak_sushi_20_percent/test/pizza/1067986.jpg'),\n",
              "  'class_name': 'pizza',\n",
              "  'pred_prob': 0.9997,\n",
              "  'pred_class': 'pizza',\n",
              "  'time_for_pred': 0.1432,\n",
              "  'correct': True},\n",
              " {'image_path': WindowsPath('data/pizza_steak_sushi_20_percent/test/pizza/129666.jpg'),\n",
              "  'class_name': 'pizza',\n",
              "  'pred_prob': 0.8744,\n",
              "  'pred_class': 'pizza',\n",
              "  'time_for_pred': 0.6281,\n",
              "  'correct': True},\n",
              " {'image_path': WindowsPath('data/pizza_steak_sushi_20_percent/test/pizza/1315645.jpg'),\n",
              "  'class_name': 'pizza',\n",
              "  'pred_prob': 0.9207,\n",
              "  'pred_class': 'pizza',\n",
              "  'time_for_pred': 0.1462,\n",
              "  'correct': True},\n",
              " {'image_path': WindowsPath('data/pizza_steak_sushi_20_percent/test/pizza/138961.jpg'),\n",
              "  'class_name': 'pizza',\n",
              "  'pred_prob': 0.5637,\n",
              "  'pred_class': 'pizza',\n",
              "  'time_for_pred': 0.1258,\n",
              "  'correct': True},\n",
              " {'image_path': WindowsPath('data/pizza_steak_sushi_20_percent/test/pizza/148765.jpg'),\n",
              "  'class_name': 'pizza',\n",
              "  'pred_prob': 0.992,\n",
              "  'pred_class': 'pizza',\n",
              "  'time_for_pred': 0.1179,\n",
              "  'correct': True},\n",
              " {'image_path': WindowsPath('data/pizza_steak_sushi_20_percent/test/pizza/1555015.jpg'),\n",
              "  'class_name': 'pizza',\n",
              "  'pred_prob': 0.9973,\n",
              "  'pred_class': 'pizza',\n",
              "  'time_for_pred': 0.1183,\n",
              "  'correct': True},\n",
              " {'image_path': WindowsPath('data/pizza_steak_sushi_20_percent/test/pizza/1618659.jpg'),\n",
              "  'class_name': 'pizza',\n",
              "  'pred_prob': 0.4804,\n",
              "  'pred_class': 'sushi',\n",
              "  'time_for_pred': 0.1197,\n",
              "  'correct': False},\n",
              " {'image_path': WindowsPath('data/pizza_steak_sushi_20_percent/test/pizza/1687143.jpg'),\n",
              "  'class_name': 'pizza',\n",
              "  'pred_prob': 0.9895,\n",
              "  'pred_class': 'pizza',\n",
              "  'time_for_pred': 0.1159,\n",
              "  'correct': True},\n",
              " {'image_path': WindowsPath('data/pizza_steak_sushi_20_percent/test/pizza/204151.jpg'),\n",
              "  'class_name': 'pizza',\n",
              "  'pred_prob': 0.9947,\n",
              "  'pred_class': 'pizza',\n",
              "  'time_for_pred': 0.1442,\n",
              "  'correct': True},\n",
              " {'image_path': WindowsPath('data/pizza_steak_sushi_20_percent/test/pizza/2111981.jpg'),\n",
              "  'class_name': 'pizza',\n",
              "  'pred_prob': 0.9958,\n",
              "  'pred_class': 'pizza',\n",
              "  'time_for_pred': 0.1444,\n",
              "  'correct': True},\n",
              " {'image_path': WindowsPath('data/pizza_steak_sushi_20_percent/test/pizza/2250611.jpg'),\n",
              "  'class_name': 'pizza',\n",
              "  'pred_prob': 0.9553,\n",
              "  'pred_class': 'pizza',\n",
              "  'time_for_pred': 0.1766,\n",
              "  'correct': True},\n",
              " {'image_path': WindowsPath('data/pizza_steak_sushi_20_percent/test/pizza/2398925.jpg'),\n",
              "  'class_name': 'pizza',\n",
              "  'pred_prob': 0.985,\n",
              "  'pred_class': 'pizza',\n",
              "  'time_for_pred': 0.1576,\n",
              "  'correct': True},\n",
              " {'image_path': WindowsPath('data/pizza_steak_sushi_20_percent/test/pizza/2549661.jpg'),\n",
              "  'class_name': 'pizza',\n",
              "  'pred_prob': 0.9983,\n",
              "  'pred_class': 'pizza',\n",
              "  'time_for_pred': 0.1445,\n",
              "  'correct': True},\n",
              " {'image_path': WindowsPath('data/pizza_steak_sushi_20_percent/test/pizza/2572488.jpg'),\n",
              "  'class_name': 'pizza',\n",
              "  'pred_prob': 0.9928,\n",
              "  'pred_class': 'pizza',\n",
              "  'time_for_pred': 0.1087,\n",
              "  'correct': True},\n",
              " {'image_path': WindowsPath('data/pizza_steak_sushi_20_percent/test/pizza/2582289.jpg'),\n",
              "  'class_name': 'pizza',\n",
              "  'pred_prob': 0.9972,\n",
              "  'pred_class': 'pizza',\n",
              "  'time_for_pred': 0.1206,\n",
              "  'correct': True},\n",
              " {'image_path': WindowsPath('data/pizza_steak_sushi_20_percent/test/pizza/2782998.jpg'),\n",
              "  'class_name': 'pizza',\n",
              "  'pred_prob': 0.8901,\n",
              "  'pred_class': 'pizza',\n",
              "  'time_for_pred': 0.1179,\n",
              "  'correct': True},\n",
              " {'image_path': WindowsPath('data/pizza_steak_sushi_20_percent/test/pizza/2901001.jpg'),\n",
              "  'class_name': 'pizza',\n",
              "  'pred_prob': 0.8682,\n",
              "  'pred_class': 'pizza',\n",
              "  'time_for_pred': 0.1556,\n",
              "  'correct': True},\n",
              " {'image_path': WindowsPath('data/pizza_steak_sushi_20_percent/test/pizza/296426.jpg'),\n",
              "  'class_name': 'pizza',\n",
              "  'pred_prob': 0.9668,\n",
              "  'pred_class': 'pizza',\n",
              "  'time_for_pred': 0.1251,\n",
              "  'correct': True},\n",
              " {'image_path': WindowsPath('data/pizza_steak_sushi_20_percent/test/pizza/2997525.jpg'),\n",
              "  'class_name': 'pizza',\n",
              "  'pred_prob': 0.9995,\n",
              "  'pred_class': 'pizza',\n",
              "  'time_for_pred': 0.116,\n",
              "  'correct': True},\n",
              " {'image_path': WindowsPath('data/pizza_steak_sushi_20_percent/test/pizza/3174637.jpg'),\n",
              "  'class_name': 'pizza',\n",
              "  'pred_prob': 0.9916,\n",
              "  'pred_class': 'pizza',\n",
              "  'time_for_pred': 0.1158,\n",
              "  'correct': True},\n",
              " {'image_path': WindowsPath('data/pizza_steak_sushi_20_percent/test/pizza/3375083.jpg'),\n",
              "  'class_name': 'pizza',\n",
              "  'pred_prob': 0.9809,\n",
              "  'pred_class': 'pizza',\n",
              "  'time_for_pred': 0.1133,\n",
              "  'correct': True},\n",
              " {'image_path': WindowsPath('data/pizza_steak_sushi_20_percent/test/pizza/3376617.jpg'),\n",
              "  'class_name': 'pizza',\n",
              "  'pred_prob': 0.894,\n",
              "  'pred_class': 'pizza',\n",
              "  'time_for_pred': 0.1149,\n",
              "  'correct': True},\n",
              " {'image_path': WindowsPath('data/pizza_steak_sushi_20_percent/test/pizza/3486640.jpg'),\n",
              "  'class_name': 'pizza',\n",
              "  'pred_prob': 0.9977,\n",
              "  'pred_class': 'pizza',\n",
              "  'time_for_pred': 0.1256,\n",
              "  'correct': True},\n",
              " {'image_path': WindowsPath('data/pizza_steak_sushi_20_percent/test/pizza/3497151.jpg'),\n",
              "  'class_name': 'pizza',\n",
              "  'pred_prob': 0.9993,\n",
              "  'pred_class': 'pizza',\n",
              "  'time_for_pred': 0.1265,\n",
              "  'correct': True},\n",
              " {'image_path': WindowsPath('data/pizza_steak_sushi_20_percent/test/pizza/3729167.jpg'),\n",
              "  'class_name': 'pizza',\n",
              "  'pred_prob': 0.9944,\n",
              "  'pred_class': 'pizza',\n",
              "  'time_for_pred': 0.1599,\n",
              "  'correct': True},\n",
              " {'image_path': WindowsPath('data/pizza_steak_sushi_20_percent/test/pizza/3770514.jpg'),\n",
              "  'class_name': 'pizza',\n",
              "  'pred_prob': 0.9995,\n",
              "  'pred_class': 'pizza',\n",
              "  'time_for_pred': 0.1494,\n",
              "  'correct': True},\n",
              " {'image_path': WindowsPath('data/pizza_steak_sushi_20_percent/test/pizza/3785667.jpg'),\n",
              "  'class_name': 'pizza',\n",
              "  'pred_prob': 0.9404,\n",
              "  'pred_class': 'pizza',\n",
              "  'time_for_pred': 0.1234,\n",
              "  'correct': True},\n",
              " {'image_path': WindowsPath('data/pizza_steak_sushi_20_percent/test/pizza/380739.jpg'),\n",
              "  'class_name': 'pizza',\n",
              "  'pred_prob': 0.9965,\n",
              "  'pred_class': 'pizza',\n",
              "  'time_for_pred': 0.112,\n",
              "  'correct': True},\n",
              " {'image_path': WindowsPath('data/pizza_steak_sushi_20_percent/test/pizza/416067.jpg'),\n",
              "  'class_name': 'pizza',\n",
              "  'pred_prob': 0.9961,\n",
              "  'pred_class': 'pizza',\n",
              "  'time_for_pred': 0.1155,\n",
              "  'correct': True},\n",
              " {'image_path': WindowsPath('data/pizza_steak_sushi_20_percent/test/pizza/419962.jpg'),\n",
              "  'class_name': 'pizza',\n",
              "  'pred_prob': 0.4413,\n",
              "  'pred_class': 'pizza',\n",
              "  'time_for_pred': 0.1138,\n",
              "  'correct': True},\n",
              " {'image_path': WindowsPath('data/pizza_steak_sushi_20_percent/test/pizza/420409.jpg'),\n",
              "  'class_name': 'pizza',\n",
              "  'pred_prob': 0.9296,\n",
              "  'pred_class': 'pizza',\n",
              "  'time_for_pred': 0.1233,\n",
              "  'correct': True},\n",
              " {'image_path': WindowsPath('data/pizza_steak_sushi_20_percent/test/pizza/441659.jpg'),\n",
              "  'class_name': 'pizza',\n",
              "  'pred_prob': 0.9188,\n",
              "  'pred_class': 'pizza',\n",
              "  'time_for_pred': 0.1343,\n",
              "  'correct': True},\n",
              " {'image_path': WindowsPath('data/pizza_steak_sushi_20_percent/test/pizza/44810.jpg'),\n",
              "  'class_name': 'pizza',\n",
              "  'pred_prob': 0.9518,\n",
              "  'pred_class': 'pizza',\n",
              "  'time_for_pred': 0.1541,\n",
              "  'correct': True},\n",
              " {'image_path': WindowsPath('data/pizza_steak_sushi_20_percent/test/pizza/476421.jpg'),\n",
              "  'class_name': 'pizza',\n",
              "  'pred_prob': 0.8822,\n",
              "  'pred_class': 'pizza',\n",
              "  'time_for_pred': 0.1471,\n",
              "  'correct': True},\n",
              " {'image_path': WindowsPath('data/pizza_steak_sushi_20_percent/test/pizza/482858.jpg'),\n",
              "  'class_name': 'pizza',\n",
              "  'pred_prob': 0.9993,\n",
              "  'pred_class': 'pizza',\n",
              "  'time_for_pred': 0.1998,\n",
              "  'correct': True},\n",
              " {'image_path': WindowsPath('data/pizza_steak_sushi_20_percent/test/pizza/61656.jpg'),\n",
              "  'class_name': 'pizza',\n",
              "  'pred_prob': 0.7732,\n",
              "  'pred_class': 'pizza',\n",
              "  'time_for_pred': 0.1606,\n",
              "  'correct': True},\n",
              " {'image_path': WindowsPath('data/pizza_steak_sushi_20_percent/test/pizza/648055.jpg'),\n",
              "  'class_name': 'pizza',\n",
              "  'pred_prob': 0.9511,\n",
              "  'pred_class': 'pizza',\n",
              "  'time_for_pred': 0.307,\n",
              "  'correct': True},\n",
              " {'image_path': WindowsPath('data/pizza_steak_sushi_20_percent/test/pizza/724290.jpg'),\n",
              "  'class_name': 'pizza',\n",
              "  'pred_prob': 0.9097,\n",
              "  'pred_class': 'pizza',\n",
              "  'time_for_pred': 0.1929,\n",
              "  'correct': True},\n",
              " {'image_path': WindowsPath('data/pizza_steak_sushi_20_percent/test/pizza/771336.jpg'),\n",
              "  'class_name': 'pizza',\n",
              "  'pred_prob': 0.9759,\n",
              "  'pred_class': 'pizza',\n",
              "  'time_for_pred': 0.2404,\n",
              "  'correct': True},\n",
              " {'image_path': WindowsPath('data/pizza_steak_sushi_20_percent/test/pizza/788315.jpg'),\n",
              "  'class_name': 'pizza',\n",
              "  'pred_prob': 0.9267,\n",
              "  'pred_class': 'pizza',\n",
              "  'time_for_pred': 0.2474,\n",
              "  'correct': True},\n",
              " {'image_path': WindowsPath('data/pizza_steak_sushi_20_percent/test/pizza/796922.jpg'),\n",
              "  'class_name': 'pizza',\n",
              "  'pred_prob': 0.8932,\n",
              "  'pred_class': 'pizza',\n",
              "  'time_for_pred': 0.1739,\n",
              "  'correct': True},\n",
              " {'image_path': WindowsPath('data/pizza_steak_sushi_20_percent/test/pizza/833711.jpg'),\n",
              "  'class_name': 'pizza',\n",
              "  'pred_prob': 0.9035,\n",
              "  'pred_class': 'pizza',\n",
              "  'time_for_pred': 0.1516,\n",
              "  'correct': True},\n",
              " {'image_path': WindowsPath('data/pizza_steak_sushi_20_percent/test/pizza/930553.jpg'),\n",
              "  'class_name': 'pizza',\n",
              "  'pred_prob': 0.9903,\n",
              "  'pred_class': 'pizza',\n",
              "  'time_for_pred': 0.1408,\n",
              "  'correct': True},\n",
              " {'image_path': WindowsPath('data/pizza_steak_sushi_20_percent/test/pizza/998005.jpg'),\n",
              "  'class_name': 'pizza',\n",
              "  'pred_prob': 0.8978,\n",
              "  'pred_class': 'pizza',\n",
              "  'time_for_pred': 0.1317,\n",
              "  'correct': True},\n",
              " {'image_path': WindowsPath('data/pizza_steak_sushi_20_percent/test/steak/100274.jpg'),\n",
              "  'class_name': 'steak',\n",
              "  'pred_prob': 0.4099,\n",
              "  'pred_class': 'steak',\n",
              "  'time_for_pred': 0.128,\n",
              "  'correct': True},\n",
              " {'image_path': WindowsPath('data/pizza_steak_sushi_20_percent/test/steak/1082384.jpg'),\n",
              "  'class_name': 'steak',\n",
              "  'pred_prob': 0.7632,\n",
              "  'pred_class': 'steak',\n",
              "  'time_for_pred': 0.1224,\n",
              "  'correct': True},\n",
              " {'image_path': WindowsPath('data/pizza_steak_sushi_20_percent/test/steak/108310.jpg'),\n",
              "  'class_name': 'steak',\n",
              "  'pred_prob': 0.9717,\n",
              "  'pred_class': 'steak',\n",
              "  'time_for_pred': 0.1127,\n",
              "  'correct': True},\n",
              " {'image_path': WindowsPath('data/pizza_steak_sushi_20_percent/test/steak/1166047.jpg'),\n",
              "  'class_name': 'steak',\n",
              "  'pred_prob': 0.9037,\n",
              "  'pred_class': 'steak',\n",
              "  'time_for_pred': 0.1092,\n",
              "  'correct': True},\n",
              " {'image_path': WindowsPath('data/pizza_steak_sushi_20_percent/test/steak/1285886.jpg'),\n",
              "  'class_name': 'steak',\n",
              "  'pred_prob': 0.9568,\n",
              "  'pred_class': 'steak',\n",
              "  'time_for_pred': 0.1165,\n",
              "  'correct': True},\n",
              " {'image_path': WindowsPath('data/pizza_steak_sushi_20_percent/test/steak/1302563.jpg'),\n",
              "  'class_name': 'steak',\n",
              "  'pred_prob': 0.9994,\n",
              "  'pred_class': 'steak',\n",
              "  'time_for_pred': 0.1473,\n",
              "  'correct': True},\n",
              " {'image_path': WindowsPath('data/pizza_steak_sushi_20_percent/test/steak/1335842.jpg'),\n",
              "  'class_name': 'steak',\n",
              "  'pred_prob': 0.695,\n",
              "  'pred_class': 'steak',\n",
              "  'time_for_pred': 0.1485,\n",
              "  'correct': True},\n",
              " {'image_path': WindowsPath('data/pizza_steak_sushi_20_percent/test/steak/1482489.jpg'),\n",
              "  'class_name': 'steak',\n",
              "  'pred_prob': 0.988,\n",
              "  'pred_class': 'steak',\n",
              "  'time_for_pred': 0.1314,\n",
              "  'correct': True},\n",
              " {'image_path': WindowsPath('data/pizza_steak_sushi_20_percent/test/steak/1523026.jpg'),\n",
              "  'class_name': 'steak',\n",
              "  'pred_prob': 0.6729,\n",
              "  'pred_class': 'steak',\n",
              "  'time_for_pred': 0.1061,\n",
              "  'correct': True},\n",
              " {'image_path': WindowsPath('data/pizza_steak_sushi_20_percent/test/steak/1655387.jpg'),\n",
              "  'class_name': 'steak',\n",
              "  'pred_prob': 0.8784,\n",
              "  'pred_class': 'steak',\n",
              "  'time_for_pred': 0.1134,\n",
              "  'correct': True},\n",
              " {'image_path': WindowsPath('data/pizza_steak_sushi_20_percent/test/steak/1848936.jpg'),\n",
              "  'class_name': 'steak',\n",
              "  'pred_prob': 0.9094,\n",
              "  'pred_class': 'steak',\n",
              "  'time_for_pred': 0.1155,\n",
              "  'correct': True},\n",
              " {'image_path': WindowsPath('data/pizza_steak_sushi_20_percent/test/steak/1882831.jpg'),\n",
              "  'class_name': 'steak',\n",
              "  'pred_prob': 0.9439,\n",
              "  'pred_class': 'steak',\n",
              "  'time_for_pred': 0.12,\n",
              "  'correct': True},\n",
              " {'image_path': WindowsPath('data/pizza_steak_sushi_20_percent/test/steak/1902895.jpg'),\n",
              "  'class_name': 'steak',\n",
              "  'pred_prob': 0.4169,\n",
              "  'pred_class': 'sushi',\n",
              "  'time_for_pred': 0.1126,\n",
              "  'correct': False},\n",
              " {'image_path': WindowsPath('data/pizza_steak_sushi_20_percent/test/steak/1972463.jpg'),\n",
              "  'class_name': 'steak',\n",
              "  'pred_prob': 0.879,\n",
              "  'pred_class': 'steak',\n",
              "  'time_for_pred': 0.1193,\n",
              "  'correct': True},\n",
              " {'image_path': WindowsPath('data/pizza_steak_sushi_20_percent/test/steak/1982192.jpg'),\n",
              "  'class_name': 'steak',\n",
              "  'pred_prob': 0.788,\n",
              "  'pred_class': 'steak',\n",
              "  'time_for_pred': 0.1508,\n",
              "  'correct': True},\n",
              " {'image_path': WindowsPath('data/pizza_steak_sushi_20_percent/test/steak/2061929.jpg'),\n",
              "  'class_name': 'steak',\n",
              "  'pred_prob': 0.9847,\n",
              "  'pred_class': 'steak',\n",
              "  'time_for_pred': 0.1642,\n",
              "  'correct': True},\n",
              " {'image_path': WindowsPath('data/pizza_steak_sushi_20_percent/test/steak/2069289.jpg'),\n",
              "  'class_name': 'steak',\n",
              "  'pred_prob': 0.9225,\n",
              "  'pred_class': 'steak',\n",
              "  'time_for_pred': 0.1843,\n",
              "  'correct': True},\n",
              " {'image_path': WindowsPath('data/pizza_steak_sushi_20_percent/test/steak/2117351.jpg'),\n",
              "  'class_name': 'steak',\n",
              "  'pred_prob': 0.9706,\n",
              "  'pred_class': 'steak',\n",
              "  'time_for_pred': 0.1863,\n",
              "  'correct': True},\n",
              " {'image_path': WindowsPath('data/pizza_steak_sushi_20_percent/test/steak/219196.jpg'),\n",
              "  'class_name': 'steak',\n",
              "  'pred_prob': 0.9865,\n",
              "  'pred_class': 'steak',\n",
              "  'time_for_pred': 0.116,\n",
              "  'correct': True},\n",
              " {'image_path': WindowsPath('data/pizza_steak_sushi_20_percent/test/steak/2246332.jpg'),\n",
              "  'class_name': 'steak',\n",
              "  'pred_prob': 0.9842,\n",
              "  'pred_class': 'steak',\n",
              "  'time_for_pred': 0.11,\n",
              "  'correct': True},\n",
              " {'image_path': WindowsPath('data/pizza_steak_sushi_20_percent/test/steak/2307638.jpg'),\n",
              "  'class_name': 'steak',\n",
              "  'pred_prob': 0.7292,\n",
              "  'pred_class': 'steak',\n",
              "  'time_for_pred': 0.2014,\n",
              "  'correct': True},\n",
              " {'image_path': WindowsPath('data/pizza_steak_sushi_20_percent/test/steak/2315011.jpg'),\n",
              "  'class_name': 'steak',\n",
              "  'pred_prob': 0.9221,\n",
              "  'pred_class': 'steak',\n",
              "  'time_for_pred': 0.2246,\n",
              "  'correct': True},\n",
              " {'image_path': WindowsPath('data/pizza_steak_sushi_20_percent/test/steak/2353677.jpg'),\n",
              "  'class_name': 'steak',\n",
              "  'pred_prob': 0.6222,\n",
              "  'pred_class': 'steak',\n",
              "  'time_for_pred': 0.1235,\n",
              "  'correct': True},\n",
              " {'image_path': WindowsPath('data/pizza_steak_sushi_20_percent/test/steak/2365038.jpg'),\n",
              "  'class_name': 'steak',\n",
              "  'pred_prob': 0.9366,\n",
              "  'pred_class': 'steak',\n",
              "  'time_for_pred': 0.1249,\n",
              "  'correct': True},\n",
              " {'image_path': WindowsPath('data/pizza_steak_sushi_20_percent/test/steak/2475366.jpg'),\n",
              "  'class_name': 'steak',\n",
              "  'pred_prob': 0.9678,\n",
              "  'pred_class': 'steak',\n",
              "  'time_for_pred': 0.163,\n",
              "  'correct': True},\n",
              " {'image_path': WindowsPath('data/pizza_steak_sushi_20_percent/test/steak/2716791.jpg'),\n",
              "  'class_name': 'steak',\n",
              "  'pred_prob': 0.8363,\n",
              "  'pred_class': 'steak',\n",
              "  'time_for_pred': 0.1368,\n",
              "  'correct': True},\n",
              " {'image_path': WindowsPath('data/pizza_steak_sushi_20_percent/test/steak/2752603.jpg'),\n",
              "  'class_name': 'steak',\n",
              "  'pred_prob': 0.8617,\n",
              "  'pred_class': 'steak',\n",
              "  'time_for_pred': 0.1057,\n",
              "  'correct': True},\n",
              " {'image_path': WindowsPath('data/pizza_steak_sushi_20_percent/test/steak/2756200.jpg'),\n",
              "  'class_name': 'steak',\n",
              "  'pred_prob': 0.9945,\n",
              "  'pred_class': 'steak',\n",
              "  'time_for_pred': 0.1751,\n",
              "  'correct': True},\n",
              " {'image_path': WindowsPath('data/pizza_steak_sushi_20_percent/test/steak/289822.jpg'),\n",
              "  'class_name': 'steak',\n",
              "  'pred_prob': 0.9997,\n",
              "  'pred_class': 'steak',\n",
              "  'time_for_pred': 0.2095,\n",
              "  'correct': True},\n",
              " {'image_path': WindowsPath('data/pizza_steak_sushi_20_percent/test/steak/3063435.jpg'),\n",
              "  'class_name': 'steak',\n",
              "  'pred_prob': 0.9881,\n",
              "  'pred_class': 'steak',\n",
              "  'time_for_pred': 0.1325,\n",
              "  'correct': True},\n",
              " {'image_path': WindowsPath('data/pizza_steak_sushi_20_percent/test/steak/3100563.jpg'),\n",
              "  'class_name': 'steak',\n",
              "  'pred_prob': 0.9911,\n",
              "  'pred_class': 'steak',\n",
              "  'time_for_pred': 0.11,\n",
              "  'correct': True},\n",
              " {'image_path': WindowsPath('data/pizza_steak_sushi_20_percent/test/steak/3138001.jpg'),\n",
              "  'class_name': 'steak',\n",
              "  'pred_prob': 0.9499,\n",
              "  'pred_class': 'steak',\n",
              "  'time_for_pred': 0.2272,\n",
              "  'correct': True},\n",
              " {'image_path': WindowsPath('data/pizza_steak_sushi_20_percent/test/steak/3173402.jpg'),\n",
              "  'class_name': 'steak',\n",
              "  'pred_prob': 0.9609,\n",
              "  'pred_class': 'steak',\n",
              "  'time_for_pred': 0.174,\n",
              "  'correct': True},\n",
              " {'image_path': WindowsPath('data/pizza_steak_sushi_20_percent/test/steak/3479599.jpg'),\n",
              "  'class_name': 'steak',\n",
              "  'pred_prob': 0.9631,\n",
              "  'pred_class': 'steak',\n",
              "  'time_for_pred': 0.1508,\n",
              "  'correct': True},\n",
              " {'image_path': WindowsPath('data/pizza_steak_sushi_20_percent/test/steak/3497585.jpg'),\n",
              "  'class_name': 'steak',\n",
              "  'pred_prob': 0.8343,\n",
              "  'pred_class': 'steak',\n",
              "  'time_for_pred': 0.1419,\n",
              "  'correct': True},\n",
              " {'image_path': WindowsPath('data/pizza_steak_sushi_20_percent/test/steak/3541033.jpg'),\n",
              "  'class_name': 'steak',\n",
              "  'pred_prob': 0.9728,\n",
              "  'pred_class': 'steak',\n",
              "  'time_for_pred': 0.1174,\n",
              "  'correct': True},\n",
              " {'image_path': WindowsPath('data/pizza_steak_sushi_20_percent/test/steak/3553838.jpg'),\n",
              "  'class_name': 'steak',\n",
              "  'pred_prob': 0.6009,\n",
              "  'pred_class': 'steak',\n",
              "  'time_for_pred': 0.116,\n",
              "  'correct': True},\n",
              " {'image_path': WindowsPath('data/pizza_steak_sushi_20_percent/test/steak/3622237.jpg'),\n",
              "  'class_name': 'steak',\n",
              "  'pred_prob': 0.9812,\n",
              "  'pred_class': 'steak',\n",
              "  'time_for_pred': 0.1116,\n",
              "  'correct': True},\n",
              " {'image_path': WindowsPath('data/pizza_steak_sushi_20_percent/test/steak/367422.jpg'),\n",
              "  'class_name': 'steak',\n",
              "  'pred_prob': 0.9948,\n",
              "  'pred_class': 'steak',\n",
              "  'time_for_pred': 0.1087,\n",
              "  'correct': True},\n",
              " {'image_path': WindowsPath('data/pizza_steak_sushi_20_percent/test/steak/3757027.jpg'),\n",
              "  'class_name': 'steak',\n",
              "  'pred_prob': 0.6298,\n",
              "  'pred_class': 'sushi',\n",
              "  'time_for_pred': 0.112,\n",
              "  'correct': False},\n",
              " {'image_path': WindowsPath('data/pizza_steak_sushi_20_percent/test/steak/3873655.jpg'),\n",
              "  'class_name': 'steak',\n",
              "  'pred_prob': 0.9731,\n",
              "  'pred_class': 'steak',\n",
              "  'time_for_pred': 0.1218,\n",
              "  'correct': True},\n",
              " {'image_path': WindowsPath('data/pizza_steak_sushi_20_percent/test/steak/39461.jpg'),\n",
              "  'class_name': 'steak',\n",
              "  'pred_prob': 0.654,\n",
              "  'pred_class': 'steak',\n",
              "  'time_for_pred': 0.1518,\n",
              "  'correct': True},\n",
              " {'image_path': WindowsPath('data/pizza_steak_sushi_20_percent/test/steak/399377.jpg'),\n",
              "  'class_name': 'steak',\n",
              "  'pred_prob': 0.8053,\n",
              "  'pred_class': 'steak',\n",
              "  'time_for_pred': 0.1319,\n",
              "  'correct': True},\n",
              " {'image_path': WindowsPath('data/pizza_steak_sushi_20_percent/test/steak/40947.jpg'),\n",
              "  'class_name': 'steak',\n",
              "  'pred_prob': 0.7803,\n",
              "  'pred_class': 'steak',\n",
              "  'time_for_pred': 0.1456,\n",
              "  'correct': True},\n",
              " {'image_path': WindowsPath('data/pizza_steak_sushi_20_percent/test/steak/413497.jpg'),\n",
              "  'class_name': 'steak',\n",
              "  'pred_prob': 0.984,\n",
              "  'pred_class': 'steak',\n",
              "  'time_for_pred': 0.1073,\n",
              "  'correct': True},\n",
              " {'image_path': WindowsPath('data/pizza_steak_sushi_20_percent/test/steak/476333.jpg'),\n",
              "  'class_name': 'steak',\n",
              "  'pred_prob': 0.9873,\n",
              "  'pred_class': 'steak',\n",
              "  'time_for_pred': 0.1118,\n",
              "  'correct': True},\n",
              " {'image_path': WindowsPath('data/pizza_steak_sushi_20_percent/test/steak/48208.jpg'),\n",
              "  'class_name': 'steak',\n",
              "  'pred_prob': 0.6788,\n",
              "  'pred_class': 'steak',\n",
              "  'time_for_pred': 0.1141,\n",
              "  'correct': True},\n",
              " {'image_path': WindowsPath('data/pizza_steak_sushi_20_percent/test/steak/550687.jpg'),\n",
              "  'class_name': 'steak',\n",
              "  'pred_prob': 0.9568,\n",
              "  'pred_class': 'steak',\n",
              "  'time_for_pred': 0.1118,\n",
              "  'correct': True},\n",
              " {'image_path': WindowsPath('data/pizza_steak_sushi_20_percent/test/steak/552171.jpg'),\n",
              "  'class_name': 'steak',\n",
              "  'pred_prob': 0.9915,\n",
              "  'pred_class': 'steak',\n",
              "  'time_for_pred': 0.1223,\n",
              "  'correct': True},\n",
              " {'image_path': WindowsPath('data/pizza_steak_sushi_20_percent/test/steak/595836.jpg'),\n",
              "  'class_name': 'steak',\n",
              "  'pred_prob': 0.8801,\n",
              "  'pred_class': 'steak',\n",
              "  'time_for_pred': 0.1485,\n",
              "  'correct': True},\n",
              " {'image_path': WindowsPath('data/pizza_steak_sushi_20_percent/test/steak/66858.jpg'),\n",
              "  'class_name': 'steak',\n",
              "  'pred_prob': 0.7612,\n",
              "  'pred_class': 'steak',\n",
              "  'time_for_pred': 0.1535,\n",
              "  'correct': True},\n",
              " {'image_path': WindowsPath('data/pizza_steak_sushi_20_percent/test/steak/670345.jpg'),\n",
              "  'class_name': 'steak',\n",
              "  'pred_prob': 0.6744,\n",
              "  'pred_class': 'steak',\n",
              "  'time_for_pred': 0.1252,\n",
              "  'correct': True},\n",
              " {'image_path': WindowsPath('data/pizza_steak_sushi_20_percent/test/steak/697562.jpg'),\n",
              "  'class_name': 'steak',\n",
              "  'pred_prob': 0.887,\n",
              "  'pred_class': 'steak',\n",
              "  'time_for_pred': 0.1093,\n",
              "  'correct': True},\n",
              " {'image_path': WindowsPath('data/pizza_steak_sushi_20_percent/test/steak/730464.jpg'),\n",
              "  'class_name': 'steak',\n",
              "  'pred_prob': 0.977,\n",
              "  'pred_class': 'steak',\n",
              "  'time_for_pred': 0.1079,\n",
              "  'correct': True},\n",
              " {'image_path': WindowsPath('data/pizza_steak_sushi_20_percent/test/steak/746921.jpg'),\n",
              "  'class_name': 'steak',\n",
              "  'pred_prob': 0.9898,\n",
              "  'pred_class': 'steak',\n",
              "  'time_for_pred': 0.1159,\n",
              "  'correct': True},\n",
              " {'image_path': WindowsPath('data/pizza_steak_sushi_20_percent/test/steak/831681.jpg'),\n",
              "  'class_name': 'steak',\n",
              "  'pred_prob': 0.9896,\n",
              "  'pred_class': 'steak',\n",
              "  'time_for_pred': 0.1205,\n",
              "  'correct': True},\n",
              " {'image_path': WindowsPath('data/pizza_steak_sushi_20_percent/test/steak/864661.jpg'),\n",
              "  'class_name': 'steak',\n",
              "  'pred_prob': 0.5419,\n",
              "  'pred_class': 'steak',\n",
              "  'time_for_pred': 0.1589,\n",
              "  'correct': True},\n",
              " {'image_path': WindowsPath('data/pizza_steak_sushi_20_percent/test/steak/86782.jpg'),\n",
              "  'class_name': 'steak',\n",
              "  'pred_prob': 0.9005,\n",
              "  'pred_class': 'steak',\n",
              "  'time_for_pred': 0.1503,\n",
              "  'correct': True},\n",
              " {'image_path': WindowsPath('data/pizza_steak_sushi_20_percent/test/sushi/1063878.jpg'),\n",
              "  'class_name': 'sushi',\n",
              "  'pred_prob': 0.9961,\n",
              "  'pred_class': 'sushi',\n",
              "  'time_for_pred': 0.1489,\n",
              "  'correct': True},\n",
              " {'image_path': WindowsPath('data/pizza_steak_sushi_20_percent/test/sushi/1203702.jpg'),\n",
              "  'class_name': 'sushi',\n",
              "  'pred_prob': 0.9622,\n",
              "  'pred_class': 'sushi',\n",
              "  'time_for_pred': 0.1093,\n",
              "  'correct': True},\n",
              " {'image_path': WindowsPath('data/pizza_steak_sushi_20_percent/test/sushi/124279.jpg'),\n",
              "  'class_name': 'sushi',\n",
              "  'pred_prob': 0.5704,\n",
              "  'pred_class': 'sushi',\n",
              "  'time_for_pred': 0.1488,\n",
              "  'correct': True},\n",
              " {'image_path': WindowsPath('data/pizza_steak_sushi_20_percent/test/sushi/1245545.jpg'),\n",
              "  'class_name': 'sushi',\n",
              "  'pred_prob': 0.9805,\n",
              "  'pred_class': 'sushi',\n",
              "  'time_for_pred': 0.1484,\n",
              "  'correct': True},\n",
              " {'image_path': WindowsPath('data/pizza_steak_sushi_20_percent/test/sushi/128616.jpg'),\n",
              "  'class_name': 'sushi',\n",
              "  'pred_prob': 0.987,\n",
              "  'pred_class': 'sushi',\n",
              "  'time_for_pred': 0.1731,\n",
              "  'correct': True},\n",
              " {'image_path': WindowsPath('data/pizza_steak_sushi_20_percent/test/sushi/1346344.jpg'),\n",
              "  'class_name': 'sushi',\n",
              "  'pred_prob': 0.9948,\n",
              "  'pred_class': 'sushi',\n",
              "  'time_for_pred': 0.1427,\n",
              "  'correct': True},\n",
              " {'image_path': WindowsPath('data/pizza_steak_sushi_20_percent/test/sushi/1383396.jpg'),\n",
              "  'class_name': 'sushi',\n",
              "  'pred_prob': 0.8805,\n",
              "  'pred_class': 'sushi',\n",
              "  'time_for_pred': 0.1811,\n",
              "  'correct': True},\n",
              " {'image_path': WindowsPath('data/pizza_steak_sushi_20_percent/test/sushi/1404154.jpg'),\n",
              "  'class_name': 'sushi',\n",
              "  'pred_prob': 0.7266,\n",
              "  'pred_class': 'steak',\n",
              "  'time_for_pred': 0.2131,\n",
              "  'correct': False},\n",
              " {'image_path': WindowsPath('data/pizza_steak_sushi_20_percent/test/sushi/1600999.jpg'),\n",
              "  'class_name': 'sushi',\n",
              "  'pred_prob': 0.9935,\n",
              "  'pred_class': 'sushi',\n",
              "  'time_for_pred': 0.1642,\n",
              "  'correct': True},\n",
              " {'image_path': WindowsPath('data/pizza_steak_sushi_20_percent/test/sushi/167716.jpg'),\n",
              "  'class_name': 'sushi',\n",
              "  'pred_prob': 0.5979,\n",
              "  'pred_class': 'steak',\n",
              "  'time_for_pred': 0.1114,\n",
              "  'correct': False},\n",
              " {'image_path': WindowsPath('data/pizza_steak_sushi_20_percent/test/sushi/1683426.jpg'),\n",
              "  'class_name': 'sushi',\n",
              "  'pred_prob': 0.7237,\n",
              "  'pred_class': 'sushi',\n",
              "  'time_for_pred': 0.1223,\n",
              "  'correct': True},\n",
              " {'image_path': WindowsPath('data/pizza_steak_sushi_20_percent/test/sushi/1844723.jpg'),\n",
              "  'class_name': 'sushi',\n",
              "  'pred_prob': 0.9613,\n",
              "  'pred_class': 'sushi',\n",
              "  'time_for_pred': 0.1756,\n",
              "  'correct': True},\n",
              " {'image_path': WindowsPath('data/pizza_steak_sushi_20_percent/test/sushi/1944743.jpg'),\n",
              "  'class_name': 'sushi',\n",
              "  'pred_prob': 0.9706,\n",
              "  'pred_class': 'sushi',\n",
              "  'time_for_pred': 0.1584,\n",
              "  'correct': True},\n",
              " {'image_path': WindowsPath('data/pizza_steak_sushi_20_percent/test/sushi/1994748.jpg'),\n",
              "  'class_name': 'sushi',\n",
              "  'pred_prob': 0.4992,\n",
              "  'pred_class': 'steak',\n",
              "  'time_for_pred': 0.1489,\n",
              "  'correct': False},\n",
              " {'image_path': WindowsPath('data/pizza_steak_sushi_20_percent/test/sushi/2012780.jpg'),\n",
              "  'class_name': 'sushi',\n",
              "  'pred_prob': 0.9331,\n",
              "  'pred_class': 'sushi',\n",
              "  'time_for_pred': 0.1891,\n",
              "  'correct': True},\n",
              " {'image_path': WindowsPath('data/pizza_steak_sushi_20_percent/test/sushi/2274102.jpg'),\n",
              "  'class_name': 'sushi',\n",
              "  'pred_prob': 0.7578,\n",
              "  'pred_class': 'sushi',\n",
              "  'time_for_pred': 0.1257,\n",
              "  'correct': True},\n",
              " {'image_path': WindowsPath('data/pizza_steak_sushi_20_percent/test/sushi/2352914.jpg'),\n",
              "  'class_name': 'sushi',\n",
              "  'pred_prob': 0.9436,\n",
              "  'pred_class': 'sushi',\n",
              "  'time_for_pred': 0.1521,\n",
              "  'correct': True},\n",
              " {'image_path': WindowsPath('data/pizza_steak_sushi_20_percent/test/sushi/2378406.jpg'),\n",
              "  'class_name': 'sushi',\n",
              "  'pred_prob': 0.593,\n",
              "  'pred_class': 'sushi',\n",
              "  'time_for_pred': 0.1429,\n",
              "  'correct': True},\n",
              " {'image_path': WindowsPath('data/pizza_steak_sushi_20_percent/test/sushi/2394442.jpg'),\n",
              "  'class_name': 'sushi',\n",
              "  'pred_prob': 0.9416,\n",
              "  'pred_class': 'sushi',\n",
              "  'time_for_pred': 0.1428,\n",
              "  'correct': True},\n",
              " {'image_path': WindowsPath('data/pizza_steak_sushi_20_percent/test/sushi/2416569.jpg'),\n",
              "  'class_name': 'sushi',\n",
              "  'pred_prob': 0.9927,\n",
              "  'pred_class': 'sushi',\n",
              "  'time_for_pred': 0.1286,\n",
              "  'correct': True},\n",
              " {'image_path': WindowsPath('data/pizza_steak_sushi_20_percent/test/sushi/2743100.jpg'),\n",
              "  'class_name': 'sushi',\n",
              "  'pred_prob': 0.9791,\n",
              "  'pred_class': 'sushi',\n",
              "  'time_for_pred': 0.1074,\n",
              "  'correct': True},\n",
              " {'image_path': WindowsPath('data/pizza_steak_sushi_20_percent/test/sushi/2819945.jpg'),\n",
              "  'class_name': 'sushi',\n",
              "  'pred_prob': 0.9676,\n",
              "  'pred_class': 'sushi',\n",
              "  'time_for_pred': 0.1144,\n",
              "  'correct': True},\n",
              " {'image_path': WindowsPath('data/pizza_steak_sushi_20_percent/test/sushi/2903125.jpg'),\n",
              "  'class_name': 'sushi',\n",
              "  'pred_prob': 0.9033,\n",
              "  'pred_class': 'sushi',\n",
              "  'time_for_pred': 0.117,\n",
              "  'correct': True},\n",
              " {'image_path': WindowsPath('data/pizza_steak_sushi_20_percent/test/sushi/2903621.jpg'),\n",
              "  'class_name': 'sushi',\n",
              "  'pred_prob': 0.8099,\n",
              "  'pred_class': 'sushi',\n",
              "  'time_for_pred': 0.1082,\n",
              "  'correct': True},\n",
              " {'image_path': WindowsPath('data/pizza_steak_sushi_20_percent/test/sushi/2948087.jpg'),\n",
              "  'class_name': 'sushi',\n",
              "  'pred_prob': 0.914,\n",
              "  'pred_class': 'sushi',\n",
              "  'time_for_pred': 0.121,\n",
              "  'correct': True},\n",
              " {'image_path': WindowsPath('data/pizza_steak_sushi_20_percent/test/sushi/301603.jpg'),\n",
              "  'class_name': 'sushi',\n",
              "  'pred_prob': 0.959,\n",
              "  'pred_class': 'sushi',\n",
              "  'time_for_pred': 0.1185,\n",
              "  'correct': True},\n",
              " {'image_path': WindowsPath('data/pizza_steak_sushi_20_percent/test/sushi/3177743.jpg'),\n",
              "  'class_name': 'sushi',\n",
              "  'pred_prob': 0.892,\n",
              "  'pred_class': 'sushi',\n",
              "  'time_for_pred': 0.2357,\n",
              "  'correct': True},\n",
              " {'image_path': WindowsPath('data/pizza_steak_sushi_20_percent/test/sushi/3227791.jpg'),\n",
              "  'class_name': 'sushi',\n",
              "  'pred_prob': 0.9019,\n",
              "  'pred_class': 'sushi',\n",
              "  'time_for_pred': 0.1544,\n",
              "  'correct': True},\n",
              " {'image_path': WindowsPath('data/pizza_steak_sushi_20_percent/test/sushi/3365273.jpg'),\n",
              "  'class_name': 'sushi',\n",
              "  'pred_prob': 0.971,\n",
              "  'pred_class': 'sushi',\n",
              "  'time_for_pred': 0.1401,\n",
              "  'correct': True},\n",
              " {'image_path': WindowsPath('data/pizza_steak_sushi_20_percent/test/sushi/3401466.jpg'),\n",
              "  'class_name': 'sushi',\n",
              "  'pred_prob': 0.9151,\n",
              "  'pred_class': 'sushi',\n",
              "  'time_for_pred': 0.1119,\n",
              "  'correct': True},\n",
              " {'image_path': WindowsPath('data/pizza_steak_sushi_20_percent/test/sushi/3494950.jpg'),\n",
              "  'class_name': 'sushi',\n",
              "  'pred_prob': 0.8452,\n",
              "  'pred_class': 'sushi',\n",
              "  'time_for_pred': 0.1083,\n",
              "  'correct': True},\n",
              " {'image_path': WindowsPath('data/pizza_steak_sushi_20_percent/test/sushi/3834718.jpg'),\n",
              "  'class_name': 'sushi',\n",
              "  'pred_prob': 0.671,\n",
              "  'pred_class': 'sushi',\n",
              "  'time_for_pred': 0.1057,\n",
              "  'correct': True},\n",
              " {'image_path': WindowsPath('data/pizza_steak_sushi_20_percent/test/sushi/3886015.jpg'),\n",
              "  'class_name': 'sushi',\n",
              "  'pred_prob': 0.9925,\n",
              "  'pred_class': 'sushi',\n",
              "  'time_for_pred': 0.1072,\n",
              "  'correct': True},\n",
              " {'image_path': WindowsPath('data/pizza_steak_sushi_20_percent/test/sushi/389730.jpg'),\n",
              "  'class_name': 'sushi',\n",
              "  'pred_prob': 0.5187,\n",
              "  'pred_class': 'sushi',\n",
              "  'time_for_pred': 0.1163,\n",
              "  'correct': True},\n",
              " {'image_path': WindowsPath('data/pizza_steak_sushi_20_percent/test/sushi/46797.jpg'),\n",
              "  'class_name': 'sushi',\n",
              "  'pred_prob': 0.9433,\n",
              "  'pred_class': 'sushi',\n",
              "  'time_for_pred': 0.1526,\n",
              "  'correct': True},\n",
              " {'image_path': WindowsPath('data/pizza_steak_sushi_20_percent/test/sushi/472912.jpg'),\n",
              "  'class_name': 'sushi',\n",
              "  'pred_prob': 0.7468,\n",
              "  'pred_class': 'sushi',\n",
              "  'time_for_pred': 0.1332,\n",
              "  'correct': True},\n",
              " {'image_path': WindowsPath('data/pizza_steak_sushi_20_percent/test/sushi/511818.jpg'),\n",
              "  'class_name': 'sushi',\n",
              "  'pred_prob': 0.6371,\n",
              "  'pred_class': 'sushi',\n",
              "  'time_for_pred': 0.1121,\n",
              "  'correct': True},\n",
              " {'image_path': WindowsPath('data/pizza_steak_sushi_20_percent/test/sushi/57230.jpg'),\n",
              "  'class_name': 'sushi',\n",
              "  'pred_prob': 0.7715,\n",
              "  'pred_class': 'sushi',\n",
              "  'time_for_pred': 0.1143,\n",
              "  'correct': True},\n",
              " {'image_path': WindowsPath('data/pizza_steak_sushi_20_percent/test/sushi/592799.jpg'),\n",
              "  'class_name': 'sushi',\n",
              "  'pred_prob': 0.974,\n",
              "  'pred_class': 'sushi',\n",
              "  'time_for_pred': 0.116,\n",
              "  'correct': True},\n",
              " {'image_path': WindowsPath('data/pizza_steak_sushi_20_percent/test/sushi/593071.jpg'),\n",
              "  'class_name': 'sushi',\n",
              "  'pred_prob': 0.9541,\n",
              "  'pred_class': 'sushi',\n",
              "  'time_for_pred': 0.1093,\n",
              "  'correct': True},\n",
              " {'image_path': WindowsPath('data/pizza_steak_sushi_20_percent/test/sushi/705150.jpg'),\n",
              "  'class_name': 'sushi',\n",
              "  'pred_prob': 0.4595,\n",
              "  'pred_class': 'sushi',\n",
              "  'time_for_pred': 0.1191,\n",
              "  'correct': True},\n",
              " {'image_path': WindowsPath('data/pizza_steak_sushi_20_percent/test/sushi/715227.jpg'),\n",
              "  'class_name': 'sushi',\n",
              "  'pred_prob': 0.8498,\n",
              "  'pred_class': 'sushi',\n",
              "  'time_for_pred': 0.1188,\n",
              "  'correct': True},\n",
              " {'image_path': WindowsPath('data/pizza_steak_sushi_20_percent/test/sushi/720302.jpg'),\n",
              "  'class_name': 'sushi',\n",
              "  'pred_prob': 0.4722,\n",
              "  'pred_class': 'pizza',\n",
              "  'time_for_pred': 0.1628,\n",
              "  'correct': False},\n",
              " {'image_path': WindowsPath('data/pizza_steak_sushi_20_percent/test/sushi/780283.jpg'),\n",
              "  'class_name': 'sushi',\n",
              "  'pred_prob': 0.8948,\n",
              "  'pred_class': 'sushi',\n",
              "  'time_for_pred': 0.1536,\n",
              "  'correct': True},\n",
              " {'image_path': WindowsPath('data/pizza_steak_sushi_20_percent/test/sushi/804460.jpg'),\n",
              "  'class_name': 'sushi',\n",
              "  'pred_prob': 0.5575,\n",
              "  'pred_class': 'sushi',\n",
              "  'time_for_pred': 0.107,\n",
              "  'correct': True},\n",
              " {'image_path': WindowsPath('data/pizza_steak_sushi_20_percent/test/sushi/911808.jpg'),\n",
              "  'class_name': 'sushi',\n",
              "  'pred_prob': 0.8662,\n",
              "  'pred_class': 'sushi',\n",
              "  'time_for_pred': 0.1791,\n",
              "  'correct': True}]"
            ]
          },
          "execution_count": 33,
          "metadata": {},
          "output_type": "execute_result"
        }
      ],
      "source": [
        "# Make predictions across test dataset with EffNetB2\n",
        "effnetb2_test_pred_dicts = pred_and_store(paths=test_data_paths,\n",
        "                                          model=effnetb2,\n",
        "                                          transform=effnetb2_transforms,\n",
        "                                          class_names=class_names,\n",
        "                                          device=\"cpu\")\n",
        "effnetb2_test_pred_dicts"
      ]
    },
    {
      "cell_type": "code",
      "execution_count": null,
      "metadata": {
        "id": "uVVnFxkF-i7J",
        "outputId": "86d4ec22-9578-4905-cf48-968cd4e02f90"
      },
      "outputs": [
        {
          "data": {
            "text/html": [
              "<div>\n",
              "<style scoped>\n",
              "    .dataframe tbody tr th:only-of-type {\n",
              "        vertical-align: middle;\n",
              "    }\n",
              "\n",
              "    .dataframe tbody tr th {\n",
              "        vertical-align: top;\n",
              "    }\n",
              "\n",
              "    .dataframe thead th {\n",
              "        text-align: right;\n",
              "    }\n",
              "</style>\n",
              "<table border=\"1\" class=\"dataframe\">\n",
              "  <thead>\n",
              "    <tr style=\"text-align: right;\">\n",
              "      <th></th>\n",
              "      <th>image_path</th>\n",
              "      <th>class_name</th>\n",
              "      <th>pred_prob</th>\n",
              "      <th>pred_class</th>\n",
              "      <th>time_for_pred</th>\n",
              "      <th>correct</th>\n",
              "    </tr>\n",
              "  </thead>\n",
              "  <tbody>\n",
              "    <tr>\n",
              "      <th>0</th>\n",
              "      <td>data\\pizza_steak_sushi_20_percent\\test\\pizza\\1...</td>\n",
              "      <td>pizza</td>\n",
              "      <td>0.9999</td>\n",
              "      <td>pizza</td>\n",
              "      <td>0.4702</td>\n",
              "      <td>True</td>\n",
              "    </tr>\n",
              "    <tr>\n",
              "      <th>1</th>\n",
              "      <td>data\\pizza_steak_sushi_20_percent\\test\\pizza\\1...</td>\n",
              "      <td>pizza</td>\n",
              "      <td>0.5436</td>\n",
              "      <td>pizza</td>\n",
              "      <td>0.1473</td>\n",
              "      <td>True</td>\n",
              "    </tr>\n",
              "    <tr>\n",
              "      <th>2</th>\n",
              "      <td>data\\pizza_steak_sushi_20_percent\\test\\pizza\\1...</td>\n",
              "      <td>pizza</td>\n",
              "      <td>0.9997</td>\n",
              "      <td>pizza</td>\n",
              "      <td>0.1432</td>\n",
              "      <td>True</td>\n",
              "    </tr>\n",
              "    <tr>\n",
              "      <th>3</th>\n",
              "      <td>data\\pizza_steak_sushi_20_percent\\test\\pizza\\1...</td>\n",
              "      <td>pizza</td>\n",
              "      <td>0.8744</td>\n",
              "      <td>pizza</td>\n",
              "      <td>0.6281</td>\n",
              "      <td>True</td>\n",
              "    </tr>\n",
              "    <tr>\n",
              "      <th>4</th>\n",
              "      <td>data\\pizza_steak_sushi_20_percent\\test\\pizza\\1...</td>\n",
              "      <td>pizza</td>\n",
              "      <td>0.9207</td>\n",
              "      <td>pizza</td>\n",
              "      <td>0.1462</td>\n",
              "      <td>True</td>\n",
              "    </tr>\n",
              "  </tbody>\n",
              "</table>\n",
              "</div>"
            ],
            "text/plain": [
              "                                          image_path class_name  pred_prob  \\\n",
              "0  data\\pizza_steak_sushi_20_percent\\test\\pizza\\1...      pizza     0.9999   \n",
              "1  data\\pizza_steak_sushi_20_percent\\test\\pizza\\1...      pizza     0.5436   \n",
              "2  data\\pizza_steak_sushi_20_percent\\test\\pizza\\1...      pizza     0.9997   \n",
              "3  data\\pizza_steak_sushi_20_percent\\test\\pizza\\1...      pizza     0.8744   \n",
              "4  data\\pizza_steak_sushi_20_percent\\test\\pizza\\1...      pizza     0.9207   \n",
              "\n",
              "  pred_class  time_for_pred  correct  \n",
              "0      pizza         0.4702     True  \n",
              "1      pizza         0.1473     True  \n",
              "2      pizza         0.1432     True  \n",
              "3      pizza         0.6281     True  \n",
              "4      pizza         0.1462     True  "
            ]
          },
          "execution_count": 34,
          "metadata": {},
          "output_type": "execute_result"
        }
      ],
      "source": [
        "# Turn the test_pred_dicts into a DataFrame\n",
        "import pandas as pd\n",
        "\n",
        "effnetb2_test_pred_df = pd.DataFrame(effnetb2_test_pred_dicts)\n",
        "effnetb2_test_pred_df.head()"
      ]
    },
    {
      "cell_type": "code",
      "execution_count": null,
      "metadata": {
        "id": "KVsCu6_2-i7K",
        "outputId": "19e5e3d5-1844-4f93-efdd-314f1555adae"
      },
      "outputs": [
        {
          "data": {
            "text/plain": [
              "correct\n",
              "True     143\n",
              "False      7\n",
              "Name: count, dtype: int64"
            ]
          },
          "execution_count": 35,
          "metadata": {},
          "output_type": "execute_result"
        }
      ],
      "source": [
        "# Check number of correct predictions\n",
        "effnetb2_test_pred_df.correct.value_counts()"
      ]
    },
    {
      "cell_type": "code",
      "execution_count": null,
      "metadata": {
        "id": "WnYU5esL-i7K",
        "outputId": "f87d2f4d-5abc-40f1-96ce-e51aa47fd791"
      },
      "outputs": [
        {
          "name": "stdout",
          "output_type": "stream",
          "text": [
            "EffNetB2 average time per prediction: 0.1452 seconds\n"
          ]
        }
      ],
      "source": [
        "# Find the average time per prediction\n",
        "effnetb2_average_time_per_pred = round(effnetb2_test_pred_df.time_for_pred.mean(), 4)\n",
        "print(f\"EffNetB2 average time per prediction: {effnetb2_average_time_per_pred} seconds\")"
      ]
    },
    {
      "cell_type": "code",
      "execution_count": null,
      "metadata": {
        "id": "jL3z33sN-i7K",
        "outputId": "9e35f8ee-f4f9-4d7d-c0f3-3b494ecf1ce3"
      },
      "outputs": [
        {
          "data": {
            "text/plain": [
              "{'test_loss': 0.18803058564662933,\n",
              " 'testa_acc': 0.953409090909091,\n",
              " 'number_of_parameters': 7705221,\n",
              " 'time_per_pred_cpu': 0.1452,\n",
              " 'model size (MB)': 29}"
            ]
          },
          "execution_count": 37,
          "metadata": {},
          "output_type": "execute_result"
        }
      ],
      "source": [
        "# Add EffNetB2 average prediction time to stats dictionary\n",
        "effnetb2_stats[\"time_per_pred_cpu\"] = effnetb2_average_time_per_pred\n",
        "effnetb2_stats[\"model size (MB)\"] = effnetb2_stats[\"model_size (MB)\"]\n",
        "del effnetb2_stats[\"model_size (MB)\"]\n",
        "effnetb2_stats"
      ]
    },
    {
      "cell_type": "code",
      "execution_count": null,
      "metadata": {
        "id": "Rd8_SyJU-i7K",
        "outputId": "2649dc2b-5907-43b1-c144-fc4dbd94c808"
      },
      "outputs": [
        {
          "data": {
            "text/plain": [
              "{'test_loss': 0.18803058564662933,\n",
              " 'number_of_parameters': 7705221,\n",
              " 'time_per_pred_cpu': 0.1452,\n",
              " 'model size (MB)': 29,\n",
              " 'test_acc': 0.953409090909091}"
            ]
          },
          "execution_count": 38,
          "metadata": {},
          "output_type": "execute_result"
        }
      ],
      "source": [
        "effnetb2_stats[\"test_acc\"] = effnetb2_stats[\"testa_acc\"]\n",
        "del effnetb2_stats[\"testa_acc\"]\n",
        "effnetb2_stats"
      ]
    },
    {
      "cell_type": "markdown",
      "metadata": {
        "id": "wl0dJS8a-i7K"
      },
      "source": [
        "### - Making and timing predictions with ViT"
      ]
    },
    {
      "cell_type": "code",
      "execution_count": null,
      "metadata": {
        "colab": {
          "referenced_widgets": [
            "b6883e837c71417282512a5565d49f82"
          ]
        },
        "id": "Bru0QmNg-i7L",
        "outputId": "16a1e95d-e4bd-4c1b-9574-2ed2d957da3a"
      },
      "outputs": [
        {
          "data": {
            "application/vnd.jupyter.widget-view+json": {
              "model_id": "b6883e837c71417282512a5565d49f82",
              "version_major": 2,
              "version_minor": 0
            },
            "text/plain": [
              "  0%|          | 0/150 [00:00<?, ?it/s]"
            ]
          },
          "metadata": {},
          "output_type": "display_data"
        },
        {
          "data": {
            "text/plain": [
              "[{'image_path': WindowsPath('data/pizza_steak_sushi_20_percent/test/pizza/1001116.jpg'),\n",
              "  'class_name': 'pizza',\n",
              "  'pred_prob': 0.9987,\n",
              "  'pred_class': 'pizza',\n",
              "  'time_for_pred': 0.3282,\n",
              "  'correct': True},\n",
              " {'image_path': WindowsPath('data/pizza_steak_sushi_20_percent/test/pizza/1032754.jpg'),\n",
              "  'class_name': 'pizza',\n",
              "  'pred_prob': 0.9957,\n",
              "  'pred_class': 'pizza',\n",
              "  'time_for_pred': 0.3049,\n",
              "  'correct': True},\n",
              " {'image_path': WindowsPath('data/pizza_steak_sushi_20_percent/test/pizza/1067986.jpg'),\n",
              "  'class_name': 'pizza',\n",
              "  'pred_prob': 0.9987,\n",
              "  'pred_class': 'pizza',\n",
              "  'time_for_pred': 0.202,\n",
              "  'correct': True},\n",
              " {'image_path': WindowsPath('data/pizza_steak_sushi_20_percent/test/pizza/129666.jpg'),\n",
              "  'class_name': 'pizza',\n",
              "  'pred_prob': 0.9869,\n",
              "  'pred_class': 'pizza',\n",
              "  'time_for_pred': 0.2227,\n",
              "  'correct': True},\n",
              " {'image_path': WindowsPath('data/pizza_steak_sushi_20_percent/test/pizza/1315645.jpg'),\n",
              "  'class_name': 'pizza',\n",
              "  'pred_prob': 0.9698,\n",
              "  'pred_class': 'pizza',\n",
              "  'time_for_pred': 0.1937,\n",
              "  'correct': True},\n",
              " {'image_path': WindowsPath('data/pizza_steak_sushi_20_percent/test/pizza/138961.jpg'),\n",
              "  'class_name': 'pizza',\n",
              "  'pred_prob': 0.9948,\n",
              "  'pred_class': 'pizza',\n",
              "  'time_for_pred': 0.324,\n",
              "  'correct': True},\n",
              " {'image_path': WindowsPath('data/pizza_steak_sushi_20_percent/test/pizza/148765.jpg'),\n",
              "  'class_name': 'pizza',\n",
              "  'pred_prob': 0.9984,\n",
              "  'pred_class': 'pizza',\n",
              "  'time_for_pred': 0.2327,\n",
              "  'correct': True},\n",
              " {'image_path': WindowsPath('data/pizza_steak_sushi_20_percent/test/pizza/1555015.jpg'),\n",
              "  'class_name': 'pizza',\n",
              "  'pred_prob': 0.9981,\n",
              "  'pred_class': 'pizza',\n",
              "  'time_for_pred': 0.1721,\n",
              "  'correct': True},\n",
              " {'image_path': WindowsPath('data/pizza_steak_sushi_20_percent/test/pizza/1618659.jpg'),\n",
              "  'class_name': 'pizza',\n",
              "  'pred_prob': 0.9963,\n",
              "  'pred_class': 'pizza',\n",
              "  'time_for_pred': 0.2501,\n",
              "  'correct': True},\n",
              " {'image_path': WindowsPath('data/pizza_steak_sushi_20_percent/test/pizza/1687143.jpg'),\n",
              "  'class_name': 'pizza',\n",
              "  'pred_prob': 0.9987,\n",
              "  'pred_class': 'pizza',\n",
              "  'time_for_pred': 0.2002,\n",
              "  'correct': True},\n",
              " {'image_path': WindowsPath('data/pizza_steak_sushi_20_percent/test/pizza/204151.jpg'),\n",
              "  'class_name': 'pizza',\n",
              "  'pred_prob': 0.9974,\n",
              "  'pred_class': 'pizza',\n",
              "  'time_for_pred': 0.172,\n",
              "  'correct': True},\n",
              " {'image_path': WindowsPath('data/pizza_steak_sushi_20_percent/test/pizza/2111981.jpg'),\n",
              "  'class_name': 'pizza',\n",
              "  'pred_prob': 0.9983,\n",
              "  'pred_class': 'pizza',\n",
              "  'time_for_pred': 0.1701,\n",
              "  'correct': True},\n",
              " {'image_path': WindowsPath('data/pizza_steak_sushi_20_percent/test/pizza/2250611.jpg'),\n",
              "  'class_name': 'pizza',\n",
              "  'pred_prob': 0.9986,\n",
              "  'pred_class': 'pizza',\n",
              "  'time_for_pred': 0.1703,\n",
              "  'correct': True},\n",
              " {'image_path': WindowsPath('data/pizza_steak_sushi_20_percent/test/pizza/2398925.jpg'),\n",
              "  'class_name': 'pizza',\n",
              "  'pred_prob': 0.9982,\n",
              "  'pred_class': 'pizza',\n",
              "  'time_for_pred': 0.2181,\n",
              "  'correct': True},\n",
              " {'image_path': WindowsPath('data/pizza_steak_sushi_20_percent/test/pizza/2549661.jpg'),\n",
              "  'class_name': 'pizza',\n",
              "  'pred_prob': 0.9977,\n",
              "  'pred_class': 'pizza',\n",
              "  'time_for_pred': 0.1775,\n",
              "  'correct': True},\n",
              " {'image_path': WindowsPath('data/pizza_steak_sushi_20_percent/test/pizza/2572488.jpg'),\n",
              "  'class_name': 'pizza',\n",
              "  'pred_prob': 0.9977,\n",
              "  'pred_class': 'pizza',\n",
              "  'time_for_pred': 0.1683,\n",
              "  'correct': True},\n",
              " {'image_path': WindowsPath('data/pizza_steak_sushi_20_percent/test/pizza/2582289.jpg'),\n",
              "  'class_name': 'pizza',\n",
              "  'pred_prob': 0.9981,\n",
              "  'pred_class': 'pizza',\n",
              "  'time_for_pred': 0.1673,\n",
              "  'correct': True},\n",
              " {'image_path': WindowsPath('data/pizza_steak_sushi_20_percent/test/pizza/2782998.jpg'),\n",
              "  'class_name': 'pizza',\n",
              "  'pred_prob': 0.999,\n",
              "  'pred_class': 'pizza',\n",
              "  'time_for_pred': 0.1789,\n",
              "  'correct': True},\n",
              " {'image_path': WindowsPath('data/pizza_steak_sushi_20_percent/test/pizza/2901001.jpg'),\n",
              "  'class_name': 'pizza',\n",
              "  'pred_prob': 0.997,\n",
              "  'pred_class': 'pizza',\n",
              "  'time_for_pred': 0.2101,\n",
              "  'correct': True},\n",
              " {'image_path': WindowsPath('data/pizza_steak_sushi_20_percent/test/pizza/296426.jpg'),\n",
              "  'class_name': 'pizza',\n",
              "  'pred_prob': 0.9983,\n",
              "  'pred_class': 'pizza',\n",
              "  'time_for_pred': 0.2081,\n",
              "  'correct': True},\n",
              " {'image_path': WindowsPath('data/pizza_steak_sushi_20_percent/test/pizza/2997525.jpg'),\n",
              "  'class_name': 'pizza',\n",
              "  'pred_prob': 0.9986,\n",
              "  'pred_class': 'pizza',\n",
              "  'time_for_pred': 0.1675,\n",
              "  'correct': True},\n",
              " {'image_path': WindowsPath('data/pizza_steak_sushi_20_percent/test/pizza/3174637.jpg'),\n",
              "  'class_name': 'pizza',\n",
              "  'pred_prob': 0.9989,\n",
              "  'pred_class': 'pizza',\n",
              "  'time_for_pred': 0.1707,\n",
              "  'correct': True},\n",
              " {'image_path': WindowsPath('data/pizza_steak_sushi_20_percent/test/pizza/3375083.jpg'),\n",
              "  'class_name': 'pizza',\n",
              "  'pred_prob': 0.9985,\n",
              "  'pred_class': 'pizza',\n",
              "  'time_for_pred': 0.1758,\n",
              "  'correct': True},\n",
              " {'image_path': WindowsPath('data/pizza_steak_sushi_20_percent/test/pizza/3376617.jpg'),\n",
              "  'class_name': 'pizza',\n",
              "  'pred_prob': 0.9968,\n",
              "  'pred_class': 'pizza',\n",
              "  'time_for_pred': 0.2849,\n",
              "  'correct': True},\n",
              " {'image_path': WindowsPath('data/pizza_steak_sushi_20_percent/test/pizza/3486640.jpg'),\n",
              "  'class_name': 'pizza',\n",
              "  'pred_prob': 0.9966,\n",
              "  'pred_class': 'pizza',\n",
              "  'time_for_pred': 0.1844,\n",
              "  'correct': True},\n",
              " {'image_path': WindowsPath('data/pizza_steak_sushi_20_percent/test/pizza/3497151.jpg'),\n",
              "  'class_name': 'pizza',\n",
              "  'pred_prob': 0.9938,\n",
              "  'pred_class': 'pizza',\n",
              "  'time_for_pred': 0.1546,\n",
              "  'correct': True},\n",
              " {'image_path': WindowsPath('data/pizza_steak_sushi_20_percent/test/pizza/3729167.jpg'),\n",
              "  'class_name': 'pizza',\n",
              "  'pred_prob': 0.998,\n",
              "  'pred_class': 'pizza',\n",
              "  'time_for_pred': 0.2488,\n",
              "  'correct': True},\n",
              " {'image_path': WindowsPath('data/pizza_steak_sushi_20_percent/test/pizza/3770514.jpg'),\n",
              "  'class_name': 'pizza',\n",
              "  'pred_prob': 0.9971,\n",
              "  'pred_class': 'pizza',\n",
              "  'time_for_pred': 0.1765,\n",
              "  'correct': True},\n",
              " {'image_path': WindowsPath('data/pizza_steak_sushi_20_percent/test/pizza/3785667.jpg'),\n",
              "  'class_name': 'pizza',\n",
              "  'pred_prob': 0.9935,\n",
              "  'pred_class': 'pizza',\n",
              "  'time_for_pred': 0.1756,\n",
              "  'correct': True},\n",
              " {'image_path': WindowsPath('data/pizza_steak_sushi_20_percent/test/pizza/380739.jpg'),\n",
              "  'class_name': 'pizza',\n",
              "  'pred_prob': 0.9977,\n",
              "  'pred_class': 'pizza',\n",
              "  'time_for_pred': 0.2767,\n",
              "  'correct': True},\n",
              " {'image_path': WindowsPath('data/pizza_steak_sushi_20_percent/test/pizza/416067.jpg'),\n",
              "  'class_name': 'pizza',\n",
              "  'pred_prob': 0.9959,\n",
              "  'pred_class': 'pizza',\n",
              "  'time_for_pred': 0.168,\n",
              "  'correct': True},\n",
              " {'image_path': WindowsPath('data/pizza_steak_sushi_20_percent/test/pizza/419962.jpg'),\n",
              "  'class_name': 'pizza',\n",
              "  'pred_prob': 0.9977,\n",
              "  'pred_class': 'pizza',\n",
              "  'time_for_pred': 0.2163,\n",
              "  'correct': True},\n",
              " {'image_path': WindowsPath('data/pizza_steak_sushi_20_percent/test/pizza/420409.jpg'),\n",
              "  'class_name': 'pizza',\n",
              "  'pred_prob': 0.9989,\n",
              "  'pred_class': 'pizza',\n",
              "  'time_for_pred': 0.2094,\n",
              "  'correct': True},\n",
              " {'image_path': WindowsPath('data/pizza_steak_sushi_20_percent/test/pizza/441659.jpg'),\n",
              "  'class_name': 'pizza',\n",
              "  'pred_prob': 0.9935,\n",
              "  'pred_class': 'pizza',\n",
              "  'time_for_pred': 0.2299,\n",
              "  'correct': True},\n",
              " {'image_path': WindowsPath('data/pizza_steak_sushi_20_percent/test/pizza/44810.jpg'),\n",
              "  'class_name': 'pizza',\n",
              "  'pred_prob': 0.9917,\n",
              "  'pred_class': 'pizza',\n",
              "  'time_for_pred': 0.2496,\n",
              "  'correct': True},\n",
              " {'image_path': WindowsPath('data/pizza_steak_sushi_20_percent/test/pizza/476421.jpg'),\n",
              "  'class_name': 'pizza',\n",
              "  'pred_prob': 0.9877,\n",
              "  'pred_class': 'pizza',\n",
              "  'time_for_pred': 0.2565,\n",
              "  'correct': True},\n",
              " {'image_path': WindowsPath('data/pizza_steak_sushi_20_percent/test/pizza/482858.jpg'),\n",
              "  'class_name': 'pizza',\n",
              "  'pred_prob': 0.9988,\n",
              "  'pred_class': 'pizza',\n",
              "  'time_for_pred': 0.1933,\n",
              "  'correct': True},\n",
              " {'image_path': WindowsPath('data/pizza_steak_sushi_20_percent/test/pizza/61656.jpg'),\n",
              "  'class_name': 'pizza',\n",
              "  'pred_prob': 0.9855,\n",
              "  'pred_class': 'pizza',\n",
              "  'time_for_pred': 0.2324,\n",
              "  'correct': True},\n",
              " {'image_path': WindowsPath('data/pizza_steak_sushi_20_percent/test/pizza/648055.jpg'),\n",
              "  'class_name': 'pizza',\n",
              "  'pred_prob': 0.9969,\n",
              "  'pred_class': 'pizza',\n",
              "  'time_for_pred': 0.2926,\n",
              "  'correct': True},\n",
              " {'image_path': WindowsPath('data/pizza_steak_sushi_20_percent/test/pizza/724290.jpg'),\n",
              "  'class_name': 'pizza',\n",
              "  'pred_prob': 0.9946,\n",
              "  'pred_class': 'pizza',\n",
              "  'time_for_pred': 0.2207,\n",
              "  'correct': True},\n",
              " {'image_path': WindowsPath('data/pizza_steak_sushi_20_percent/test/pizza/771336.jpg'),\n",
              "  'class_name': 'pizza',\n",
              "  'pred_prob': 0.9974,\n",
              "  'pred_class': 'pizza',\n",
              "  'time_for_pred': 0.2265,\n",
              "  'correct': True},\n",
              " {'image_path': WindowsPath('data/pizza_steak_sushi_20_percent/test/pizza/788315.jpg'),\n",
              "  'class_name': 'pizza',\n",
              "  'pred_prob': 0.998,\n",
              "  'pred_class': 'pizza',\n",
              "  'time_for_pred': 0.2127,\n",
              "  'correct': True},\n",
              " {'image_path': WindowsPath('data/pizza_steak_sushi_20_percent/test/pizza/796922.jpg'),\n",
              "  'class_name': 'pizza',\n",
              "  'pred_prob': 0.9732,\n",
              "  'pred_class': 'pizza',\n",
              "  'time_for_pred': 0.1975,\n",
              "  'correct': True},\n",
              " {'image_path': WindowsPath('data/pizza_steak_sushi_20_percent/test/pizza/833711.jpg'),\n",
              "  'class_name': 'pizza',\n",
              "  'pred_prob': 0.9984,\n",
              "  'pred_class': 'pizza',\n",
              "  'time_for_pred': 0.1723,\n",
              "  'correct': True},\n",
              " {'image_path': WindowsPath('data/pizza_steak_sushi_20_percent/test/pizza/930553.jpg'),\n",
              "  'class_name': 'pizza',\n",
              "  'pred_prob': 0.9982,\n",
              "  'pred_class': 'pizza',\n",
              "  'time_for_pred': 0.2137,\n",
              "  'correct': True},\n",
              " {'image_path': WindowsPath('data/pizza_steak_sushi_20_percent/test/pizza/998005.jpg'),\n",
              "  'class_name': 'pizza',\n",
              "  'pred_prob': 0.9984,\n",
              "  'pred_class': 'pizza',\n",
              "  'time_for_pred': 0.1935,\n",
              "  'correct': True},\n",
              " {'image_path': WindowsPath('data/pizza_steak_sushi_20_percent/test/steak/100274.jpg'),\n",
              "  'class_name': 'steak',\n",
              "  'pred_prob': 0.9931,\n",
              "  'pred_class': 'steak',\n",
              "  'time_for_pred': 0.2355,\n",
              "  'correct': True},\n",
              " {'image_path': WindowsPath('data/pizza_steak_sushi_20_percent/test/steak/1082384.jpg'),\n",
              "  'class_name': 'steak',\n",
              "  'pred_prob': 0.9931,\n",
              "  'pred_class': 'steak',\n",
              "  'time_for_pred': 0.2654,\n",
              "  'correct': True},\n",
              " {'image_path': WindowsPath('data/pizza_steak_sushi_20_percent/test/steak/108310.jpg'),\n",
              "  'class_name': 'steak',\n",
              "  'pred_prob': 0.9777,\n",
              "  'pred_class': 'steak',\n",
              "  'time_for_pred': 0.2051,\n",
              "  'correct': True},\n",
              " {'image_path': WindowsPath('data/pizza_steak_sushi_20_percent/test/steak/1166047.jpg'),\n",
              "  'class_name': 'steak',\n",
              "  'pred_prob': 0.995,\n",
              "  'pred_class': 'steak',\n",
              "  'time_for_pred': 0.1634,\n",
              "  'correct': True},\n",
              " {'image_path': WindowsPath('data/pizza_steak_sushi_20_percent/test/steak/1285886.jpg'),\n",
              "  'class_name': 'steak',\n",
              "  'pred_prob': 0.9736,\n",
              "  'pred_class': 'steak',\n",
              "  'time_for_pred': 0.197,\n",
              "  'correct': True},\n",
              " {'image_path': WindowsPath('data/pizza_steak_sushi_20_percent/test/steak/1302563.jpg'),\n",
              "  'class_name': 'steak',\n",
              "  'pred_prob': 0.9866,\n",
              "  'pred_class': 'steak',\n",
              "  'time_for_pred': 0.2384,\n",
              "  'correct': True},\n",
              " {'image_path': WindowsPath('data/pizza_steak_sushi_20_percent/test/steak/1335842.jpg'),\n",
              "  'class_name': 'steak',\n",
              "  'pred_prob': 0.587,\n",
              "  'pred_class': 'steak',\n",
              "  'time_for_pred': 0.2139,\n",
              "  'correct': True},\n",
              " {'image_path': WindowsPath('data/pizza_steak_sushi_20_percent/test/steak/1482489.jpg'),\n",
              "  'class_name': 'steak',\n",
              "  'pred_prob': 0.9978,\n",
              "  'pred_class': 'steak',\n",
              "  'time_for_pred': 0.1977,\n",
              "  'correct': True},\n",
              " {'image_path': WindowsPath('data/pizza_steak_sushi_20_percent/test/steak/1523026.jpg'),\n",
              "  'class_name': 'steak',\n",
              "  'pred_prob': 0.9949,\n",
              "  'pred_class': 'steak',\n",
              "  'time_for_pred': 0.188,\n",
              "  'correct': True},\n",
              " {'image_path': WindowsPath('data/pizza_steak_sushi_20_percent/test/steak/1655387.jpg'),\n",
              "  'class_name': 'steak',\n",
              "  'pred_prob': 0.9143,\n",
              "  'pred_class': 'steak',\n",
              "  'time_for_pred': 0.2047,\n",
              "  'correct': True},\n",
              " {'image_path': WindowsPath('data/pizza_steak_sushi_20_percent/test/steak/1848936.jpg'),\n",
              "  'class_name': 'steak',\n",
              "  'pred_prob': 0.9756,\n",
              "  'pred_class': 'steak',\n",
              "  'time_for_pred': 0.295,\n",
              "  'correct': True},\n",
              " {'image_path': WindowsPath('data/pizza_steak_sushi_20_percent/test/steak/1882831.jpg'),\n",
              "  'class_name': 'steak',\n",
              "  'pred_prob': 0.9944,\n",
              "  'pred_class': 'steak',\n",
              "  'time_for_pred': 0.3232,\n",
              "  'correct': True},\n",
              " {'image_path': WindowsPath('data/pizza_steak_sushi_20_percent/test/steak/1902895.jpg'),\n",
              "  'class_name': 'steak',\n",
              "  'pred_prob': 0.5065,\n",
              "  'pred_class': 'sushi',\n",
              "  'time_for_pred': 0.3642,\n",
              "  'correct': False},\n",
              " {'image_path': WindowsPath('data/pizza_steak_sushi_20_percent/test/steak/1972463.jpg'),\n",
              "  'class_name': 'steak',\n",
              "  'pred_prob': 0.9986,\n",
              "  'pred_class': 'steak',\n",
              "  'time_for_pred': 0.1925,\n",
              "  'correct': True},\n",
              " {'image_path': WindowsPath('data/pizza_steak_sushi_20_percent/test/steak/1982192.jpg'),\n",
              "  'class_name': 'steak',\n",
              "  'pred_prob': 0.9863,\n",
              "  'pred_class': 'steak',\n",
              "  'time_for_pred': 0.2759,\n",
              "  'correct': True},\n",
              " {'image_path': WindowsPath('data/pizza_steak_sushi_20_percent/test/steak/2061929.jpg'),\n",
              "  'class_name': 'steak',\n",
              "  'pred_prob': 0.9725,\n",
              "  'pred_class': 'steak',\n",
              "  'time_for_pred': 0.2098,\n",
              "  'correct': True},\n",
              " {'image_path': WindowsPath('data/pizza_steak_sushi_20_percent/test/steak/2069289.jpg'),\n",
              "  'class_name': 'steak',\n",
              "  'pred_prob': 0.9441,\n",
              "  'pred_class': 'steak',\n",
              "  'time_for_pred': 0.2576,\n",
              "  'correct': True},\n",
              " {'image_path': WindowsPath('data/pizza_steak_sushi_20_percent/test/steak/2117351.jpg'),\n",
              "  'class_name': 'steak',\n",
              "  'pred_prob': 0.9839,\n",
              "  'pred_class': 'steak',\n",
              "  'time_for_pred': 0.2233,\n",
              "  'correct': True},\n",
              " {'image_path': WindowsPath('data/pizza_steak_sushi_20_percent/test/steak/219196.jpg'),\n",
              "  'class_name': 'steak',\n",
              "  'pred_prob': 0.9823,\n",
              "  'pred_class': 'steak',\n",
              "  'time_for_pred': 0.2484,\n",
              "  'correct': True},\n",
              " {'image_path': WindowsPath('data/pizza_steak_sushi_20_percent/test/steak/2246332.jpg'),\n",
              "  'class_name': 'steak',\n",
              "  'pred_prob': 0.9981,\n",
              "  'pred_class': 'steak',\n",
              "  'time_for_pred': 0.2338,\n",
              "  'correct': True},\n",
              " {'image_path': WindowsPath('data/pizza_steak_sushi_20_percent/test/steak/2307638.jpg'),\n",
              "  'class_name': 'steak',\n",
              "  'pred_prob': 0.9931,\n",
              "  'pred_class': 'steak',\n",
              "  'time_for_pred': 0.166,\n",
              "  'correct': True},\n",
              " {'image_path': WindowsPath('data/pizza_steak_sushi_20_percent/test/steak/2315011.jpg'),\n",
              "  'class_name': 'steak',\n",
              "  'pred_prob': 0.9604,\n",
              "  'pred_class': 'steak',\n",
              "  'time_for_pred': 0.1866,\n",
              "  'correct': True},\n",
              " {'image_path': WindowsPath('data/pizza_steak_sushi_20_percent/test/steak/2353677.jpg'),\n",
              "  'class_name': 'steak',\n",
              "  'pred_prob': 0.9519,\n",
              "  'pred_class': 'steak',\n",
              "  'time_for_pred': 0.2735,\n",
              "  'correct': True},\n",
              " {'image_path': WindowsPath('data/pizza_steak_sushi_20_percent/test/steak/2365038.jpg'),\n",
              "  'class_name': 'steak',\n",
              "  'pred_prob': 0.9752,\n",
              "  'pred_class': 'steak',\n",
              "  'time_for_pred': 0.2665,\n",
              "  'correct': True},\n",
              " {'image_path': WindowsPath('data/pizza_steak_sushi_20_percent/test/steak/2475366.jpg'),\n",
              "  'class_name': 'steak',\n",
              "  'pred_prob': 0.9959,\n",
              "  'pred_class': 'steak',\n",
              "  'time_for_pred': 0.1813,\n",
              "  'correct': True},\n",
              " {'image_path': WindowsPath('data/pizza_steak_sushi_20_percent/test/steak/2716791.jpg'),\n",
              "  'class_name': 'steak',\n",
              "  'pred_prob': 0.9909,\n",
              "  'pred_class': 'steak',\n",
              "  'time_for_pred': 0.295,\n",
              "  'correct': True},\n",
              " {'image_path': WindowsPath('data/pizza_steak_sushi_20_percent/test/steak/2752603.jpg'),\n",
              "  'class_name': 'steak',\n",
              "  'pred_prob': 0.9969,\n",
              "  'pred_class': 'steak',\n",
              "  'time_for_pred': 0.2086,\n",
              "  'correct': True},\n",
              " {'image_path': WindowsPath('data/pizza_steak_sushi_20_percent/test/steak/2756200.jpg'),\n",
              "  'class_name': 'steak',\n",
              "  'pred_prob': 0.9194,\n",
              "  'pred_class': 'steak',\n",
              "  'time_for_pred': 0.2519,\n",
              "  'correct': True},\n",
              " {'image_path': WindowsPath('data/pizza_steak_sushi_20_percent/test/steak/289822.jpg'),\n",
              "  'class_name': 'steak',\n",
              "  'pred_prob': 0.9972,\n",
              "  'pred_class': 'steak',\n",
              "  'time_for_pred': 0.2597,\n",
              "  'correct': True},\n",
              " {'image_path': WindowsPath('data/pizza_steak_sushi_20_percent/test/steak/3063435.jpg'),\n",
              "  'class_name': 'steak',\n",
              "  'pred_prob': 0.9966,\n",
              "  'pred_class': 'steak',\n",
              "  'time_for_pred': 0.2537,\n",
              "  'correct': True},\n",
              " {'image_path': WindowsPath('data/pizza_steak_sushi_20_percent/test/steak/3100563.jpg'),\n",
              "  'class_name': 'steak',\n",
              "  'pred_prob': 0.989,\n",
              "  'pred_class': 'steak',\n",
              "  'time_for_pred': 0.1738,\n",
              "  'correct': True},\n",
              " {'image_path': WindowsPath('data/pizza_steak_sushi_20_percent/test/steak/3138001.jpg'),\n",
              "  'class_name': 'steak',\n",
              "  'pred_prob': 0.9765,\n",
              "  'pred_class': 'steak',\n",
              "  'time_for_pred': 0.2945,\n",
              "  'correct': True},\n",
              " {'image_path': WindowsPath('data/pizza_steak_sushi_20_percent/test/steak/3173402.jpg'),\n",
              "  'class_name': 'steak',\n",
              "  'pred_prob': 0.9923,\n",
              "  'pred_class': 'steak',\n",
              "  'time_for_pred': 0.2026,\n",
              "  'correct': True},\n",
              " {'image_path': WindowsPath('data/pizza_steak_sushi_20_percent/test/steak/3479599.jpg'),\n",
              "  'class_name': 'steak',\n",
              "  'pred_prob': 0.9021,\n",
              "  'pred_class': 'steak',\n",
              "  'time_for_pred': 0.1719,\n",
              "  'correct': True},\n",
              " {'image_path': WindowsPath('data/pizza_steak_sushi_20_percent/test/steak/3497585.jpg'),\n",
              "  'class_name': 'steak',\n",
              "  'pred_prob': 0.9929,\n",
              "  'pred_class': 'steak',\n",
              "  'time_for_pred': 0.1791,\n",
              "  'correct': True},\n",
              " {'image_path': WindowsPath('data/pizza_steak_sushi_20_percent/test/steak/3541033.jpg'),\n",
              "  'class_name': 'steak',\n",
              "  'pred_prob': 0.5366,\n",
              "  'pred_class': 'steak',\n",
              "  'time_for_pred': 0.2094,\n",
              "  'correct': True},\n",
              " {'image_path': WindowsPath('data/pizza_steak_sushi_20_percent/test/steak/3553838.jpg'),\n",
              "  'class_name': 'steak',\n",
              "  'pred_prob': 0.918,\n",
              "  'pred_class': 'steak',\n",
              "  'time_for_pred': 0.1748,\n",
              "  'correct': True},\n",
              " {'image_path': WindowsPath('data/pizza_steak_sushi_20_percent/test/steak/3622237.jpg'),\n",
              "  'class_name': 'steak',\n",
              "  'pred_prob': 0.9948,\n",
              "  'pred_class': 'steak',\n",
              "  'time_for_pred': 0.1717,\n",
              "  'correct': True},\n",
              " {'image_path': WindowsPath('data/pizza_steak_sushi_20_percent/test/steak/367422.jpg'),\n",
              "  'class_name': 'steak',\n",
              "  'pred_prob': 0.8307,\n",
              "  'pred_class': 'steak',\n",
              "  'time_for_pred': 0.1643,\n",
              "  'correct': True},\n",
              " {'image_path': WindowsPath('data/pizza_steak_sushi_20_percent/test/steak/3757027.jpg'),\n",
              "  'class_name': 'steak',\n",
              "  'pred_prob': 0.4739,\n",
              "  'pred_class': 'steak',\n",
              "  'time_for_pred': 0.1684,\n",
              "  'correct': True},\n",
              " {'image_path': WindowsPath('data/pizza_steak_sushi_20_percent/test/steak/3873655.jpg'),\n",
              "  'class_name': 'steak',\n",
              "  'pred_prob': 0.9958,\n",
              "  'pred_class': 'steak',\n",
              "  'time_for_pred': 0.1749,\n",
              "  'correct': True},\n",
              " {'image_path': WindowsPath('data/pizza_steak_sushi_20_percent/test/steak/39461.jpg'),\n",
              "  'class_name': 'steak',\n",
              "  'pred_prob': 0.7757,\n",
              "  'pred_class': 'steak',\n",
              "  'time_for_pred': 0.2112,\n",
              "  'correct': True},\n",
              " {'image_path': WindowsPath('data/pizza_steak_sushi_20_percent/test/steak/399377.jpg'),\n",
              "  'class_name': 'steak',\n",
              "  'pred_prob': 0.8564,\n",
              "  'pred_class': 'steak',\n",
              "  'time_for_pred': 0.1774,\n",
              "  'correct': True},\n",
              " {'image_path': WindowsPath('data/pizza_steak_sushi_20_percent/test/steak/40947.jpg'),\n",
              "  'class_name': 'steak',\n",
              "  'pred_prob': 0.9895,\n",
              "  'pred_class': 'steak',\n",
              "  'time_for_pred': 0.1866,\n",
              "  'correct': True},\n",
              " {'image_path': WindowsPath('data/pizza_steak_sushi_20_percent/test/steak/413497.jpg'),\n",
              "  'class_name': 'steak',\n",
              "  'pred_prob': 0.7962,\n",
              "  'pred_class': 'steak',\n",
              "  'time_for_pred': 0.1814,\n",
              "  'correct': True},\n",
              " {'image_path': WindowsPath('data/pizza_steak_sushi_20_percent/test/steak/476333.jpg'),\n",
              "  'class_name': 'steak',\n",
              "  'pred_prob': 0.9916,\n",
              "  'pred_class': 'steak',\n",
              "  'time_for_pred': 0.1842,\n",
              "  'correct': True},\n",
              " {'image_path': WindowsPath('data/pizza_steak_sushi_20_percent/test/steak/48208.jpg'),\n",
              "  'class_name': 'steak',\n",
              "  'pred_prob': 0.997,\n",
              "  'pred_class': 'steak',\n",
              "  'time_for_pred': 0.2469,\n",
              "  'correct': True},\n",
              " {'image_path': WindowsPath('data/pizza_steak_sushi_20_percent/test/steak/550687.jpg'),\n",
              "  'class_name': 'steak',\n",
              "  'pred_prob': 0.93,\n",
              "  'pred_class': 'steak',\n",
              "  'time_for_pred': 0.1654,\n",
              "  'correct': True},\n",
              " {'image_path': WindowsPath('data/pizza_steak_sushi_20_percent/test/steak/552171.jpg'),\n",
              "  'class_name': 'steak',\n",
              "  'pred_prob': 0.9123,\n",
              "  'pred_class': 'steak',\n",
              "  'time_for_pred': 0.1717,\n",
              "  'correct': True},\n",
              " {'image_path': WindowsPath('data/pizza_steak_sushi_20_percent/test/steak/595836.jpg'),\n",
              "  'class_name': 'steak',\n",
              "  'pred_prob': 0.9387,\n",
              "  'pred_class': 'steak',\n",
              "  'time_for_pred': 0.1659,\n",
              "  'correct': True},\n",
              " {'image_path': WindowsPath('data/pizza_steak_sushi_20_percent/test/steak/66858.jpg'),\n",
              "  'class_name': 'steak',\n",
              "  'pred_prob': 0.9985,\n",
              "  'pred_class': 'steak',\n",
              "  'time_for_pred': 0.1691,\n",
              "  'correct': True},\n",
              " {'image_path': WindowsPath('data/pizza_steak_sushi_20_percent/test/steak/670345.jpg'),\n",
              "  'class_name': 'steak',\n",
              "  'pred_prob': 0.9985,\n",
              "  'pred_class': 'steak',\n",
              "  'time_for_pred': 0.1996,\n",
              "  'correct': True},\n",
              " {'image_path': WindowsPath('data/pizza_steak_sushi_20_percent/test/steak/697562.jpg'),\n",
              "  'class_name': 'steak',\n",
              "  'pred_prob': 0.9105,\n",
              "  'pred_class': 'steak',\n",
              "  'time_for_pred': 0.1845,\n",
              "  'correct': True},\n",
              " {'image_path': WindowsPath('data/pizza_steak_sushi_20_percent/test/steak/730464.jpg'),\n",
              "  'class_name': 'steak',\n",
              "  'pred_prob': 0.9533,\n",
              "  'pred_class': 'steak',\n",
              "  'time_for_pred': 0.1702,\n",
              "  'correct': True},\n",
              " {'image_path': WindowsPath('data/pizza_steak_sushi_20_percent/test/steak/746921.jpg'),\n",
              "  'class_name': 'steak',\n",
              "  'pred_prob': 0.9916,\n",
              "  'pred_class': 'steak',\n",
              "  'time_for_pred': 0.1674,\n",
              "  'correct': True},\n",
              " {'image_path': WindowsPath('data/pizza_steak_sushi_20_percent/test/steak/831681.jpg'),\n",
              "  'class_name': 'steak',\n",
              "  'pred_prob': 0.9934,\n",
              "  'pred_class': 'steak',\n",
              "  'time_for_pred': 0.179,\n",
              "  'correct': True},\n",
              " {'image_path': WindowsPath('data/pizza_steak_sushi_20_percent/test/steak/864661.jpg'),\n",
              "  'class_name': 'steak',\n",
              "  'pred_prob': 0.963,\n",
              "  'pred_class': 'steak',\n",
              "  'time_for_pred': 0.178,\n",
              "  'correct': True},\n",
              " {'image_path': WindowsPath('data/pizza_steak_sushi_20_percent/test/steak/86782.jpg'),\n",
              "  'class_name': 'steak',\n",
              "  'pred_prob': 0.9738,\n",
              "  'pred_class': 'steak',\n",
              "  'time_for_pred': 0.2164,\n",
              "  'correct': True},\n",
              " {'image_path': WindowsPath('data/pizza_steak_sushi_20_percent/test/sushi/1063878.jpg'),\n",
              "  'class_name': 'sushi',\n",
              "  'pred_prob': 0.9659,\n",
              "  'pred_class': 'sushi',\n",
              "  'time_for_pred': 0.1734,\n",
              "  'correct': True},\n",
              " {'image_path': WindowsPath('data/pizza_steak_sushi_20_percent/test/sushi/1203702.jpg'),\n",
              "  'class_name': 'sushi',\n",
              "  'pred_prob': 0.9632,\n",
              "  'pred_class': 'sushi',\n",
              "  'time_for_pred': 0.1726,\n",
              "  'correct': True},\n",
              " {'image_path': WindowsPath('data/pizza_steak_sushi_20_percent/test/sushi/124279.jpg'),\n",
              "  'class_name': 'sushi',\n",
              "  'pred_prob': 0.888,\n",
              "  'pred_class': 'sushi',\n",
              "  'time_for_pred': 0.1858,\n",
              "  'correct': True},\n",
              " {'image_path': WindowsPath('data/pizza_steak_sushi_20_percent/test/sushi/1245545.jpg'),\n",
              "  'class_name': 'sushi',\n",
              "  'pred_prob': 0.9862,\n",
              "  'pred_class': 'sushi',\n",
              "  'time_for_pred': 0.1769,\n",
              "  'correct': True},\n",
              " {'image_path': WindowsPath('data/pizza_steak_sushi_20_percent/test/sushi/128616.jpg'),\n",
              "  'class_name': 'sushi',\n",
              "  'pred_prob': 0.9876,\n",
              "  'pred_class': 'sushi',\n",
              "  'time_for_pred': 0.2283,\n",
              "  'correct': True},\n",
              " {'image_path': WindowsPath('data/pizza_steak_sushi_20_percent/test/sushi/1346344.jpg'),\n",
              "  'class_name': 'sushi',\n",
              "  'pred_prob': 0.9956,\n",
              "  'pred_class': 'sushi',\n",
              "  'time_for_pred': 0.1804,\n",
              "  'correct': True},\n",
              " {'image_path': WindowsPath('data/pizza_steak_sushi_20_percent/test/sushi/1383396.jpg'),\n",
              "  'class_name': 'sushi',\n",
              "  'pred_prob': 0.5532,\n",
              "  'pred_class': 'sushi',\n",
              "  'time_for_pred': 0.1744,\n",
              "  'correct': True},\n",
              " {'image_path': WindowsPath('data/pizza_steak_sushi_20_percent/test/sushi/1404154.jpg'),\n",
              "  'class_name': 'sushi',\n",
              "  'pred_prob': 0.6095,\n",
              "  'pred_class': 'sushi',\n",
              "  'time_for_pred': 0.181,\n",
              "  'correct': True},\n",
              " {'image_path': WindowsPath('data/pizza_steak_sushi_20_percent/test/sushi/1600999.jpg'),\n",
              "  'class_name': 'sushi',\n",
              "  'pred_prob': 0.9945,\n",
              "  'pred_class': 'sushi',\n",
              "  'time_for_pred': 0.1683,\n",
              "  'correct': True},\n",
              " {'image_path': WindowsPath('data/pizza_steak_sushi_20_percent/test/sushi/167716.jpg'),\n",
              "  'class_name': 'sushi',\n",
              "  'pred_prob': 0.6123,\n",
              "  'pred_class': 'sushi',\n",
              "  'time_for_pred': 0.173,\n",
              "  'correct': True},\n",
              " {'image_path': WindowsPath('data/pizza_steak_sushi_20_percent/test/sushi/1683426.jpg'),\n",
              "  'class_name': 'sushi',\n",
              "  'pred_prob': 0.7384,\n",
              "  'pred_class': 'sushi',\n",
              "  'time_for_pred': 0.2112,\n",
              "  'correct': True},\n",
              " {'image_path': WindowsPath('data/pizza_steak_sushi_20_percent/test/sushi/1844723.jpg'),\n",
              "  'class_name': 'sushi',\n",
              "  'pred_prob': 0.9872,\n",
              "  'pred_class': 'sushi',\n",
              "  'time_for_pred': 0.1643,\n",
              "  'correct': True},\n",
              " {'image_path': WindowsPath('data/pizza_steak_sushi_20_percent/test/sushi/1944743.jpg'),\n",
              "  'class_name': 'sushi',\n",
              "  'pred_prob': 0.996,\n",
              "  'pred_class': 'sushi',\n",
              "  'time_for_pred': 0.2421,\n",
              "  'correct': True},\n",
              " {'image_path': WindowsPath('data/pizza_steak_sushi_20_percent/test/sushi/1994748.jpg'),\n",
              "  'class_name': 'sushi',\n",
              "  'pred_prob': 0.9655,\n",
              "  'pred_class': 'sushi',\n",
              "  'time_for_pred': 0.2371,\n",
              "  'correct': True},\n",
              " {'image_path': WindowsPath('data/pizza_steak_sushi_20_percent/test/sushi/2012780.jpg'),\n",
              "  'class_name': 'sushi',\n",
              "  'pred_prob': 0.9672,\n",
              "  'pred_class': 'sushi',\n",
              "  'time_for_pred': 0.25,\n",
              "  'correct': True},\n",
              " {'image_path': WindowsPath('data/pizza_steak_sushi_20_percent/test/sushi/2274102.jpg'),\n",
              "  'class_name': 'sushi',\n",
              "  'pred_prob': 0.9843,\n",
              "  'pred_class': 'sushi',\n",
              "  'time_for_pred': 0.2579,\n",
              "  'correct': True},\n",
              " {'image_path': WindowsPath('data/pizza_steak_sushi_20_percent/test/sushi/2352914.jpg'),\n",
              "  'class_name': 'sushi',\n",
              "  'pred_prob': 0.9447,\n",
              "  'pred_class': 'sushi',\n",
              "  'time_for_pred': 0.2282,\n",
              "  'correct': True},\n",
              " {'image_path': WindowsPath('data/pizza_steak_sushi_20_percent/test/sushi/2378406.jpg'),\n",
              "  'class_name': 'sushi',\n",
              "  'pred_prob': 0.9759,\n",
              "  'pred_class': 'sushi',\n",
              "  'time_for_pred': 0.2447,\n",
              "  'correct': True},\n",
              " {'image_path': WindowsPath('data/pizza_steak_sushi_20_percent/test/sushi/2394442.jpg'),\n",
              "  'class_name': 'sushi',\n",
              "  'pred_prob': 0.9632,\n",
              "  'pred_class': 'sushi',\n",
              "  'time_for_pred': 0.2526,\n",
              "  'correct': True},\n",
              " {'image_path': WindowsPath('data/pizza_steak_sushi_20_percent/test/sushi/2416569.jpg'),\n",
              "  'class_name': 'sushi',\n",
              "  'pred_prob': 0.9903,\n",
              "  'pred_class': 'sushi',\n",
              "  'time_for_pred': 0.207,\n",
              "  'correct': True},\n",
              " {'image_path': WindowsPath('data/pizza_steak_sushi_20_percent/test/sushi/2743100.jpg'),\n",
              "  'class_name': 'sushi',\n",
              "  'pred_prob': 0.9963,\n",
              "  'pred_class': 'sushi',\n",
              "  'time_for_pred': 0.1725,\n",
              "  'correct': True},\n",
              " {'image_path': WindowsPath('data/pizza_steak_sushi_20_percent/test/sushi/2819945.jpg'),\n",
              "  'class_name': 'sushi',\n",
              "  'pred_prob': 0.9795,\n",
              "  'pred_class': 'sushi',\n",
              "  'time_for_pred': 0.1625,\n",
              "  'correct': True},\n",
              " {'image_path': WindowsPath('data/pizza_steak_sushi_20_percent/test/sushi/2903125.jpg'),\n",
              "  'class_name': 'sushi',\n",
              "  'pred_prob': 0.9975,\n",
              "  'pred_class': 'sushi',\n",
              "  'time_for_pred': 0.1705,\n",
              "  'correct': True},\n",
              " {'image_path': WindowsPath('data/pizza_steak_sushi_20_percent/test/sushi/2903621.jpg'),\n",
              "  'class_name': 'sushi',\n",
              "  'pred_prob': 0.9072,\n",
              "  'pred_class': 'sushi',\n",
              "  'time_for_pred': 0.1727,\n",
              "  'correct': True},\n",
              " {'image_path': WindowsPath('data/pizza_steak_sushi_20_percent/test/sushi/2948087.jpg'),\n",
              "  'class_name': 'sushi',\n",
              "  'pred_prob': 0.9956,\n",
              "  'pred_class': 'sushi',\n",
              "  'time_for_pred': 0.2125,\n",
              "  'correct': True},\n",
              " {'image_path': WindowsPath('data/pizza_steak_sushi_20_percent/test/sushi/301603.jpg'),\n",
              "  'class_name': 'sushi',\n",
              "  'pred_prob': 0.9047,\n",
              "  'pred_class': 'sushi',\n",
              "  'time_for_pred': 0.1678,\n",
              "  'correct': True},\n",
              " {'image_path': WindowsPath('data/pizza_steak_sushi_20_percent/test/sushi/3177743.jpg'),\n",
              "  'class_name': 'sushi',\n",
              "  'pred_prob': 0.9629,\n",
              "  'pred_class': 'sushi',\n",
              "  'time_for_pred': 0.1753,\n",
              "  'correct': True},\n",
              " {'image_path': WindowsPath('data/pizza_steak_sushi_20_percent/test/sushi/3227791.jpg'),\n",
              "  'class_name': 'sushi',\n",
              "  'pred_prob': 0.4975,\n",
              "  'pred_class': 'pizza',\n",
              "  'time_for_pred': 0.2057,\n",
              "  'correct': False},\n",
              " {'image_path': WindowsPath('data/pizza_steak_sushi_20_percent/test/sushi/3365273.jpg'),\n",
              "  'class_name': 'sushi',\n",
              "  'pred_prob': 0.9951,\n",
              "  'pred_class': 'sushi',\n",
              "  'time_for_pred': 0.1714,\n",
              "  'correct': True},\n",
              " {'image_path': WindowsPath('data/pizza_steak_sushi_20_percent/test/sushi/3401466.jpg'),\n",
              "  'class_name': 'sushi',\n",
              "  'pred_prob': 0.9828,\n",
              "  'pred_class': 'sushi',\n",
              "  'time_for_pred': 0.2121,\n",
              "  'correct': True},\n",
              " {'image_path': WindowsPath('data/pizza_steak_sushi_20_percent/test/sushi/3494950.jpg'),\n",
              "  'class_name': 'sushi',\n",
              "  'pred_prob': 0.9657,\n",
              "  'pred_class': 'sushi',\n",
              "  'time_for_pred': 0.1784,\n",
              "  'correct': True},\n",
              " {'image_path': WindowsPath('data/pizza_steak_sushi_20_percent/test/sushi/3834718.jpg'),\n",
              "  'class_name': 'sushi',\n",
              "  'pred_prob': 0.9886,\n",
              "  'pred_class': 'sushi',\n",
              "  'time_for_pred': 0.1717,\n",
              "  'correct': True},\n",
              " {'image_path': WindowsPath('data/pizza_steak_sushi_20_percent/test/sushi/3886015.jpg'),\n",
              "  'class_name': 'sushi',\n",
              "  'pred_prob': 0.9441,\n",
              "  'pred_class': 'sushi',\n",
              "  'time_for_pred': 0.1638,\n",
              "  'correct': True},\n",
              " {'image_path': WindowsPath('data/pizza_steak_sushi_20_percent/test/sushi/389730.jpg'),\n",
              "  'class_name': 'sushi',\n",
              "  'pred_prob': 0.991,\n",
              "  'pred_class': 'sushi',\n",
              "  'time_for_pred': 0.175,\n",
              "  'correct': True},\n",
              " {'image_path': WindowsPath('data/pizza_steak_sushi_20_percent/test/sushi/46797.jpg'),\n",
              "  'class_name': 'sushi',\n",
              "  'pred_prob': 0.9923,\n",
              "  'pred_class': 'sushi',\n",
              "  'time_for_pred': 0.1793,\n",
              "  'correct': True},\n",
              " {'image_path': WindowsPath('data/pizza_steak_sushi_20_percent/test/sushi/472912.jpg'),\n",
              "  'class_name': 'sushi',\n",
              "  'pred_prob': 0.848,\n",
              "  'pred_class': 'sushi',\n",
              "  'time_for_pred': 0.2169,\n",
              "  'correct': True},\n",
              " {'image_path': WindowsPath('data/pizza_steak_sushi_20_percent/test/sushi/511818.jpg'),\n",
              "  'class_name': 'sushi',\n",
              "  'pred_prob': 0.9895,\n",
              "  'pred_class': 'sushi',\n",
              "  'time_for_pred': 0.173,\n",
              "  'correct': True},\n",
              " {'image_path': WindowsPath('data/pizza_steak_sushi_20_percent/test/sushi/57230.jpg'),\n",
              "  'class_name': 'sushi',\n",
              "  'pred_prob': 0.7776,\n",
              "  'pred_class': 'sushi',\n",
              "  'time_for_pred': 0.183,\n",
              "  'correct': True},\n",
              " {'image_path': WindowsPath('data/pizza_steak_sushi_20_percent/test/sushi/592799.jpg'),\n",
              "  'class_name': 'sushi',\n",
              "  'pred_prob': 0.9891,\n",
              "  'pred_class': 'sushi',\n",
              "  'time_for_pred': 0.1688,\n",
              "  'correct': True},\n",
              " {'image_path': WindowsPath('data/pizza_steak_sushi_20_percent/test/sushi/593071.jpg'),\n",
              "  'class_name': 'sushi',\n",
              "  'pred_prob': 0.9967,\n",
              "  'pred_class': 'sushi',\n",
              "  'time_for_pred': 0.172,\n",
              "  'correct': True},\n",
              " {'image_path': WindowsPath('data/pizza_steak_sushi_20_percent/test/sushi/705150.jpg'),\n",
              "  'class_name': 'sushi',\n",
              "  'pred_prob': 0.9478,\n",
              "  'pred_class': 'sushi',\n",
              "  'time_for_pred': 0.21,\n",
              "  'correct': True},\n",
              " {'image_path': WindowsPath('data/pizza_steak_sushi_20_percent/test/sushi/715227.jpg'),\n",
              "  'class_name': 'sushi',\n",
              "  'pred_prob': 0.9852,\n",
              "  'pred_class': 'sushi',\n",
              "  'time_for_pred': 0.175,\n",
              "  'correct': True},\n",
              " {'image_path': WindowsPath('data/pizza_steak_sushi_20_percent/test/sushi/720302.jpg'),\n",
              "  'class_name': 'sushi',\n",
              "  'pred_prob': 0.878,\n",
              "  'pred_class': 'sushi',\n",
              "  'time_for_pred': 0.1703,\n",
              "  'correct': True},\n",
              " {'image_path': WindowsPath('data/pizza_steak_sushi_20_percent/test/sushi/780283.jpg'),\n",
              "  'class_name': 'sushi',\n",
              "  'pred_prob': 0.8256,\n",
              "  'pred_class': 'sushi',\n",
              "  'time_for_pred': 0.1638,\n",
              "  'correct': True},\n",
              " {'image_path': WindowsPath('data/pizza_steak_sushi_20_percent/test/sushi/804460.jpg'),\n",
              "  'class_name': 'sushi',\n",
              "  'pred_prob': 0.9779,\n",
              "  'pred_class': 'sushi',\n",
              "  'time_for_pred': 0.1731,\n",
              "  'correct': True},\n",
              " {'image_path': WindowsPath('data/pizza_steak_sushi_20_percent/test/sushi/911808.jpg'),\n",
              "  'class_name': 'sushi',\n",
              "  'pred_prob': 0.9985,\n",
              "  'pred_class': 'sushi',\n",
              "  'time_for_pred': 0.1815,\n",
              "  'correct': True}]"
            ]
          },
          "execution_count": 39,
          "metadata": {},
          "output_type": "execute_result"
        }
      ],
      "source": [
        "# Make list of prediction dictionaries with ViT feature extractor model on test images\n",
        "vit_test_pred_dicts = pred_and_store(paths=test_data_paths,\n",
        "                                     model=vit,\n",
        "                                     transform=vit_transforms,\n",
        "                                     class_names=class_names,\n",
        "                                     device=\"cpu\")\n",
        "vit_test_pred_dicts"
      ]
    },
    {
      "cell_type": "code",
      "execution_count": null,
      "metadata": {
        "id": "U4L608JA-i7L",
        "outputId": "745bb883-5a6c-4664-a3e6-524afa4c7154"
      },
      "outputs": [
        {
          "data": {
            "text/html": [
              "<div>\n",
              "<style scoped>\n",
              "    .dataframe tbody tr th:only-of-type {\n",
              "        vertical-align: middle;\n",
              "    }\n",
              "\n",
              "    .dataframe tbody tr th {\n",
              "        vertical-align: top;\n",
              "    }\n",
              "\n",
              "    .dataframe thead th {\n",
              "        text-align: right;\n",
              "    }\n",
              "</style>\n",
              "<table border=\"1\" class=\"dataframe\">\n",
              "  <thead>\n",
              "    <tr style=\"text-align: right;\">\n",
              "      <th></th>\n",
              "      <th>image_path</th>\n",
              "      <th>class_name</th>\n",
              "      <th>pred_prob</th>\n",
              "      <th>pred_class</th>\n",
              "      <th>time_for_pred</th>\n",
              "      <th>correct</th>\n",
              "    </tr>\n",
              "  </thead>\n",
              "  <tbody>\n",
              "    <tr>\n",
              "      <th>0</th>\n",
              "      <td>data\\pizza_steak_sushi_20_percent\\test\\pizza\\1...</td>\n",
              "      <td>pizza</td>\n",
              "      <td>0.9987</td>\n",
              "      <td>pizza</td>\n",
              "      <td>0.3282</td>\n",
              "      <td>True</td>\n",
              "    </tr>\n",
              "    <tr>\n",
              "      <th>1</th>\n",
              "      <td>data\\pizza_steak_sushi_20_percent\\test\\pizza\\1...</td>\n",
              "      <td>pizza</td>\n",
              "      <td>0.9957</td>\n",
              "      <td>pizza</td>\n",
              "      <td>0.3049</td>\n",
              "      <td>True</td>\n",
              "    </tr>\n",
              "    <tr>\n",
              "      <th>2</th>\n",
              "      <td>data\\pizza_steak_sushi_20_percent\\test\\pizza\\1...</td>\n",
              "      <td>pizza</td>\n",
              "      <td>0.9987</td>\n",
              "      <td>pizza</td>\n",
              "      <td>0.2020</td>\n",
              "      <td>True</td>\n",
              "    </tr>\n",
              "    <tr>\n",
              "      <th>3</th>\n",
              "      <td>data\\pizza_steak_sushi_20_percent\\test\\pizza\\1...</td>\n",
              "      <td>pizza</td>\n",
              "      <td>0.9869</td>\n",
              "      <td>pizza</td>\n",
              "      <td>0.2227</td>\n",
              "      <td>True</td>\n",
              "    </tr>\n",
              "    <tr>\n",
              "      <th>4</th>\n",
              "      <td>data\\pizza_steak_sushi_20_percent\\test\\pizza\\1...</td>\n",
              "      <td>pizza</td>\n",
              "      <td>0.9698</td>\n",
              "      <td>pizza</td>\n",
              "      <td>0.1937</td>\n",
              "      <td>True</td>\n",
              "    </tr>\n",
              "  </tbody>\n",
              "</table>\n",
              "</div>"
            ],
            "text/plain": [
              "                                          image_path class_name  pred_prob  \\\n",
              "0  data\\pizza_steak_sushi_20_percent\\test\\pizza\\1...      pizza     0.9987   \n",
              "1  data\\pizza_steak_sushi_20_percent\\test\\pizza\\1...      pizza     0.9957   \n",
              "2  data\\pizza_steak_sushi_20_percent\\test\\pizza\\1...      pizza     0.9987   \n",
              "3  data\\pizza_steak_sushi_20_percent\\test\\pizza\\1...      pizza     0.9869   \n",
              "4  data\\pizza_steak_sushi_20_percent\\test\\pizza\\1...      pizza     0.9698   \n",
              "\n",
              "  pred_class  time_for_pred  correct  \n",
              "0      pizza         0.3282     True  \n",
              "1      pizza         0.3049     True  \n",
              "2      pizza         0.2020     True  \n",
              "3      pizza         0.2227     True  \n",
              "4      pizza         0.1937     True  "
            ]
          },
          "execution_count": 40,
          "metadata": {},
          "output_type": "execute_result"
        }
      ],
      "source": [
        "# Turn vit_test_pred_dicts into a DataFrame\n",
        "import pandas as pd\n",
        "\n",
        "vit_test_pred_df = pd.DataFrame(vit_test_pred_dicts)\n",
        "vit_test_pred_df.head()"
      ]
    },
    {
      "cell_type": "code",
      "execution_count": null,
      "metadata": {
        "id": "KuNg_11m-i7L",
        "outputId": "d4a51b00-a641-4b9e-8b03-14a8eaf12724"
      },
      "outputs": [
        {
          "data": {
            "text/plain": [
              "correct\n",
              "True     148\n",
              "False      2\n",
              "Name: count, dtype: int64"
            ]
          },
          "execution_count": 41,
          "metadata": {},
          "output_type": "execute_result"
        }
      ],
      "source": [
        "# Count the number of correct predictions\n",
        "vit_test_pred_df.correct.value_counts()"
      ]
    },
    {
      "cell_type": "code",
      "execution_count": null,
      "metadata": {
        "id": "3_r5ZxG--i7L",
        "outputId": "5716bf37-7add-4a5d-f061-b0d148b3526a"
      },
      "outputs": [
        {
          "name": "stdout",
          "output_type": "stream",
          "text": [
            "ViT average time per prediction: 0.2058 seconds\n"
          ]
        }
      ],
      "source": [
        "# Calculate average time per prediction for ViT model\n",
        "vit_average_time_per_pred = round(vit_test_pred_df.time_for_pred.mean(), 4)\n",
        "print(f\"ViT average time per prediction: {vit_average_time_per_pred} seconds\")"
      ]
    },
    {
      "cell_type": "code",
      "execution_count": null,
      "metadata": {
        "id": "XJMtIcl3-i7L",
        "outputId": "050d099e-d9b6-487a-c5d6-35ae8f71b7e1"
      },
      "outputs": [
        {
          "data": {
            "text/plain": [
              "{'test_loss': 0.0644345329143107,\n",
              " 'test_acc': 0.984659090909091,\n",
              " 'number_of_parameters': 85800963,\n",
              " 'model size (MB)': 327,\n",
              " 'time_per_pred_cpu': 0.2058}"
            ]
          },
          "execution_count": 43,
          "metadata": {},
          "output_type": "execute_result"
        }
      ],
      "source": [
        "# Add average prediction time for ViT model on CPU\n",
        "vit_stats[\"time_per_pred_cpu\"] = vit_average_time_per_pred\n",
        "vit_stats"
      ]
    },
    {
      "cell_type": "markdown",
      "metadata": {
        "id": "t9vY3Ypq-i7M"
      },
      "source": [
        "## Comparing model results, prediction times and size"
      ]
    },
    {
      "cell_type": "code",
      "execution_count": null,
      "metadata": {
        "id": "cRDbcMBS-i7M",
        "outputId": "1ddcdab5-7621-402e-9bc3-621eeb74eedb"
      },
      "outputs": [
        {
          "data": {
            "text/html": [
              "<div>\n",
              "<style scoped>\n",
              "    .dataframe tbody tr th:only-of-type {\n",
              "        vertical-align: middle;\n",
              "    }\n",
              "\n",
              "    .dataframe tbody tr th {\n",
              "        vertical-align: top;\n",
              "    }\n",
              "\n",
              "    .dataframe thead th {\n",
              "        text-align: right;\n",
              "    }\n",
              "</style>\n",
              "<table border=\"1\" class=\"dataframe\">\n",
              "  <thead>\n",
              "    <tr style=\"text-align: right;\">\n",
              "      <th></th>\n",
              "      <th>test_loss</th>\n",
              "      <th>number_of_parameters</th>\n",
              "      <th>time_per_pred_cpu</th>\n",
              "      <th>model size (MB)</th>\n",
              "      <th>test_acc</th>\n",
              "      <th>model</th>\n",
              "    </tr>\n",
              "  </thead>\n",
              "  <tbody>\n",
              "    <tr>\n",
              "      <th>0</th>\n",
              "      <td>0.188031</td>\n",
              "      <td>7705221</td>\n",
              "      <td>0.1452</td>\n",
              "      <td>29</td>\n",
              "      <td>95.34</td>\n",
              "      <td>EffNetB2</td>\n",
              "    </tr>\n",
              "    <tr>\n",
              "      <th>1</th>\n",
              "      <td>0.064435</td>\n",
              "      <td>85800963</td>\n",
              "      <td>0.2058</td>\n",
              "      <td>327</td>\n",
              "      <td>98.47</td>\n",
              "      <td>ViT</td>\n",
              "    </tr>\n",
              "  </tbody>\n",
              "</table>\n",
              "</div>"
            ],
            "text/plain": [
              "   test_loss  number_of_parameters  time_per_pred_cpu  model size (MB)  \\\n",
              "0   0.188031               7705221             0.1452               29   \n",
              "1   0.064435              85800963             0.2058              327   \n",
              "\n",
              "   test_acc     model  \n",
              "0     95.34  EffNetB2  \n",
              "1     98.47       ViT  "
            ]
          },
          "execution_count": 44,
          "metadata": {},
          "output_type": "execute_result"
        }
      ],
      "source": [
        "# Turn stat dictionaries into DataFrame\n",
        "df = pd.DataFrame([effnetb2_stats, vit_stats])\n",
        "\n",
        "# Add coloumn for model names\n",
        "df[\"model\"] = [\"EffNetB2\", \"ViT\"]\n",
        "\n",
        "# Convert accuracy to percentages\n",
        "df[\"test_acc\"] = round(df[\"test_acc\"] * 100, 2)\n",
        "\n",
        "df"
      ]
    },
    {
      "cell_type": "code",
      "execution_count": null,
      "metadata": {
        "id": "JXnxAseQ-i7M",
        "outputId": "019968f7-9e1b-48f6-9c28-66f33ad08bac"
      },
      "outputs": [
        {
          "data": {
            "text/html": [
              "<div>\n",
              "<style scoped>\n",
              "    .dataframe tbody tr th:only-of-type {\n",
              "        vertical-align: middle;\n",
              "    }\n",
              "\n",
              "    .dataframe tbody tr th {\n",
              "        vertical-align: top;\n",
              "    }\n",
              "\n",
              "    .dataframe thead th {\n",
              "        text-align: right;\n",
              "    }\n",
              "</style>\n",
              "<table border=\"1\" class=\"dataframe\">\n",
              "  <thead>\n",
              "    <tr style=\"text-align: right;\">\n",
              "      <th></th>\n",
              "      <th>test_loss</th>\n",
              "      <th>number_of_parameters</th>\n",
              "      <th>time_per_pred_cpu</th>\n",
              "      <th>model size (MB)</th>\n",
              "      <th>test_acc</th>\n",
              "    </tr>\n",
              "  </thead>\n",
              "  <tbody>\n",
              "    <tr>\n",
              "      <th>Vit to EffNetB2 ratios</th>\n",
              "      <td>0.342681</td>\n",
              "      <td>11.135432</td>\n",
              "      <td>1.417355</td>\n",
              "      <td>11.275862</td>\n",
              "      <td>1.03283</td>\n",
              "    </tr>\n",
              "  </tbody>\n",
              "</table>\n",
              "</div>"
            ],
            "text/plain": [
              "                        test_loss  number_of_parameters  time_per_pred_cpu  \\\n",
              "Vit to EffNetB2 ratios   0.342681             11.135432           1.417355   \n",
              "\n",
              "                        model size (MB)  test_acc  \n",
              "Vit to EffNetB2 ratios        11.275862   1.03283  "
            ]
          },
          "execution_count": 45,
          "metadata": {},
          "output_type": "execute_result"
        }
      ],
      "source": [
        "# Compare ViT to EffNetB2 across different characteristics\n",
        "pd.DataFrame(data=(df.set_index(\"model\").loc[\"ViT\"] / df.set_index(\"model\").loc[\"EffNetB2\"]),\n",
        "             columns=[\"Vit to EffNetB2 ratios\"]).T"
      ]
    },
    {
      "cell_type": "markdown",
      "metadata": {
        "id": "LEKEzhKG-i7M"
      },
      "source": [
        "### - Visualizing the speed vs. performance tradeoff"
      ]
    },
    {
      "cell_type": "code",
      "execution_count": null,
      "metadata": {
        "id": "XaFItBny-i7M",
        "outputId": "ceca5ead-bf5a-4e93-8244-c0f3b3de9264"
      },
      "outputs": [
        {
          "data": {
            "image/png": "[encoded data removed]",
            "text/plain": [
              "<Figure size 1200x800 with 1 Axes>"
            ]
          },
          "metadata": {},
          "output_type": "display_data"
        }
      ],
      "source": [
        "# 1. Create a plot from model comparison DataFrame\n",
        "fig, ax = plt.subplots(figsize=(12, 8))\n",
        "scatter = ax.scatter(data=df,\n",
        "                     x=\"time_per_pred_cpu\",\n",
        "                     y=\"test_acc\",\n",
        "                     c=[\"blue\", \"orange\"], # what colours to use?\n",
        "                     s=\"model size (MB)\") # size the dots by the model sizes\n",
        "\n",
        "# 2. Add titles, labels and customize fontsize for aesthetics\n",
        "ax.set_title(\"FoodVision Mini Inference Speed vs Performance\", fontsize=18)\n",
        "ax.set_xlabel(\"Prediction time per image (seconds)\", fontsize=14)\n",
        "ax.set_ylabel(\"Test accuracy (%)\", fontsize=14)\n",
        "ax.tick_params(axis=\"both\", labelsize=12)\n",
        "ax.grid(True)\n",
        "\n",
        "# 3. Annotate with model names\n",
        "for index, row in df.iterrows():\n",
        "    ax.annotate(text=row[\"model\"],\n",
        "                xy=(row[\"time_per_pred_cpu\"]+0.0006, row[\"test_acc\"]+0.03),\n",
        "                size=12)\n",
        "\n",
        "# 4. Create a legend based on model sizes\n",
        "handles, labels = scatter.legend_elements(prop=\"sizes\", alpha=0.5)\n",
        "model_size_legend = ax.legend(handles,\n",
        "                              labels,\n",
        "                              loc=\"lower right\",\n",
        "                              title=\"Model size (MB)\",\n",
        "                              fontsize=12)\n",
        "\n",
        "# Save the figure\n",
        "plt.savefig(\"images/09-foodvision-mini-inference-speed-vs-performance.jpg\")\n",
        "\n",
        "# Show the figure\n",
        "plt.show()"
      ]
    },
    {
      "cell_type": "markdown",
      "metadata": {
        "id": "wcFDxXSa-i7N"
      },
      "source": [
        "## Bringing Food Vision Mini to life by creating a Gradio demo"
      ]
    },
    {
      "cell_type": "code",
      "execution_count": null,
      "metadata": {
        "id": "ebP5evTH-i7N",
        "outputId": "820766e7-b318-4ad8-c271-6f55da455315"
      },
      "outputs": [
        {
          "name": "stdout",
          "output_type": "stream",
          "text": [
            "Gradio version: 3.36.1\n"
          ]
        }
      ],
      "source": [
        "# Import/install Gradio\n",
        "try:\n",
        "    import gradio as gr\n",
        "except:\n",
        "    !pip -q install gradio\n",
        "    import gradio as gr\n",
        "\n",
        "print(f\"Gradio version: {gr.__version__}\")"
      ]
    },
    {
      "cell_type": "code",
      "execution_count": null,
      "metadata": {
        "id": "2TOFgY1w-i7N",
        "outputId": "e2bf2a43-6236-4056-f7e4-75cf2626d494"
      },
      "outputs": [
        {
          "data": {
            "text/plain": [
              "device(type='cpu')"
            ]
          },
          "execution_count": 49,
          "metadata": {},
          "output_type": "execute_result"
        }
      ],
      "source": [
        "# Put EffNetB2 on CPU\n",
        "effnetb2.to(\"cpu\")\n",
        "\n",
        "# Check the device\n",
        "next(iter(effnetb2.parameters())).device"
      ]
    },
    {
      "cell_type": "code",
      "execution_count": null,
      "metadata": {
        "id": "nInhXXPV-i7N"
      },
      "outputs": [],
      "source": [
        "from typing import Tuple, Dict\n",
        "\n",
        "def predict(img) -> Tuple[Dict, float]:\n",
        "    \"\"\"Transforms and performs a prediction on img and returns predictions and time taken.\"\"\"\n",
        "    # Start the timer\n",
        "    start_time = timer()\n",
        "\n",
        "    # Transform the target image and add a batch dimension\n",
        "    img = effnetb2_transforms(img).unsqueeze(0)\n",
        "\n",
        "    # Put model into evaluation mode and turn on inference mode\n",
        "    effnetb2.eval()\n",
        "    with torch.inference_mode():\n",
        "        # Pass the transformed images through the model and turn the prediction logit into prediction probabilities\n",
        "        pred_probs = torch.softmax(effnetb2(img), dim=1)\n",
        "\n",
        "    # Create a prediction label and prediction probability dictionary for each prediction class (this is the required format for Gradio's output parameter)\n",
        "    pred_label_and_probs = {class_names[i]: float(pred_probs[0][i]) for i in range(len(class_names))}\n",
        "\n",
        "    # Calculate the prediction time\n",
        "    pred_time = round(timer() - start_time, 5)\n",
        "\n",
        "    # Return the prediction dictionary and prediction time\n",
        "    return pred_label_and_probs, pred_time"
      ]
    },
    {
      "cell_type": "code",
      "execution_count": null,
      "metadata": {
        "id": "qHC_BKho-i7N",
        "outputId": "039af7fc-9eb4-4900-8256-cb5fb1295775"
      },
      "outputs": [
        {
          "name": "stdout",
          "output_type": "stream",
          "text": [
            "[INFO] Predicting on image at path: data\\pizza_steak_sushi_20_percent\\test\\steak\\3497585.jpg\n",
            "\n",
            "Prediction label and probability dictionary: \n",
            "{'pizza': 0.15864162147045135, 'steak': 0.834311306476593, 'sushi': 0.007047031074762344}\n",
            "Prediction time: 0.14889 seconds\n"
          ]
        }
      ],
      "source": [
        "import random\n",
        "from PIL import Image\n",
        "\n",
        "# Get a list of all test image filepaths\n",
        "test_data_paths = list(Path(test_dir).glob(\"*/*.jpg\"))\n",
        "\n",
        "# Randomly select a test image path\n",
        "random_image_path = random.sample(test_data_paths, k=1)[0]\n",
        "\n",
        "# Open the target image\n",
        "image = Image.open(random_image_path)\n",
        "print(f\"[INFO] Predicting on image at path: {random_image_path}\\n\")\n",
        "\n",
        "# Predict on the target image and print out the outputs\n",
        "pred_dict, pred_time = predict(img=image)\n",
        "print(f\"Prediction label and probability dictionary: \\n{pred_dict}\")\n",
        "print(f\"Prediction time: {pred_time} seconds\")"
      ]
    },
    {
      "cell_type": "markdown",
      "metadata": {
        "id": "eHUL2Nn--i7O"
      },
      "source": [
        "### - Creating a list of example images"
      ]
    },
    {
      "cell_type": "code",
      "execution_count": null,
      "metadata": {
        "id": "MNJ_ipVI-i7O",
        "outputId": "0c5b6e50-4b2a-4f19-a6f2-6ef6af01cc1e"
      },
      "outputs": [
        {
          "data": {
            "text/plain": [
              "[['data\\\\pizza_steak_sushi_20_percent\\\\test\\\\steak\\\\289822.jpg'],\n",
              " ['data\\\\pizza_steak_sushi_20_percent\\\\test\\\\sushi\\\\3494950.jpg'],\n",
              " ['data\\\\pizza_steak_sushi_20_percent\\\\test\\\\pizza\\\\419962.jpg']]"
            ]
          },
          "execution_count": 52,
          "metadata": {},
          "output_type": "execute_result"
        }
      ],
      "source": [
        "# Create a list of example inputs to our Gradio demo\n",
        "example_list = [[str(filepath)] for filepath in random.sample(test_data_paths, k=3)]\n",
        "example_list"
      ]
    },
    {
      "cell_type": "markdown",
      "metadata": {
        "id": "KYt2OGhh-i7O"
      },
      "source": [
        "### Building a Gradio interface"
      ]
    },
    {
      "cell_type": "code",
      "execution_count": null,
      "metadata": {
        "id": "y2hvWadG-i7O",
        "outputId": "9ac985ad-5f2e-4282-c09c-6e898186d51c"
      },
      "outputs": [
        {
          "name": "stdout",
          "output_type": "stream",
          "text": [
            "Running on local URL:  http://127.0.0.1:7860\n",
            "Running on public URL: https://d4be5ab34f77640dc9.gradio.live\n",
            "\n",
            "This share link expires in 72 hours. For free permanent hosting and GPU upgrades, run `gradio deploy` from Terminal to deploy to Spaces (https://huggingface.co/spaces)\n"
          ]
        },
        {
          "data": {
            "text/html": [
              "<div><iframe src=\"https://d4be5ab34f77640dc9.gradio.live\" width=\"100%\" height=\"500\" allow=\"autoplay; camera; microphone; clipboard-read; clipboard-write;\" frameborder=\"0\" allowfullscreen></iframe></div>"
            ],
            "text/plain": [
              "<IPython.core.display.HTML object>"
            ]
          },
          "metadata": {},
          "output_type": "display_data"
        },
        {
          "data": {
            "text/plain": []
          },
          "execution_count": 53,
          "metadata": {},
          "output_type": "execute_result"
        }
      ],
      "source": [
        "import gradio as gr\n",
        "\n",
        "# Create title, description and article strings\n",
        "title = \"FoodVision Mini\"\n",
        "description = \"An EfficientNetB2 feature extractor computer vision model to classify images of food as pizza, steak or sushi.\"\n",
        "article = \"Created at [09. PyTorch Model Deployment](https://www.learnpytorch.io/09_pytorch_model_deployment/).\"\n",
        "\n",
        "# Create the Gradio demo\n",
        "demo = gr.Interface(fn=predict,\n",
        "                    inputs=gr.Image(type=\"pil\"),\n",
        "                    outputs=[gr.Label(num_top_classes=3, label=\"Predictions\"),\n",
        "                             gr.Number(label=\"Prediction time (s)\")],\n",
        "                    examples=example_list,\n",
        "                    title=title,\n",
        "                    description=description,\n",
        "                    article=article)\n",
        "\n",
        "# Launch the demo!\n",
        "demo.launch(debug=False,\n",
        "            share=True)"
      ]
    },
    {
      "cell_type": "markdown",
      "metadata": {
        "id": "Vuew5l0s-i7O"
      },
      "source": [
        "## Turning our FoodVision Mini Gradio Demo into a deployable app"
      ]
    },
    {
      "cell_type": "code",
      "execution_count": null,
      "metadata": {
        "id": "fFmvOxIS-i7O",
        "outputId": "656c0301-3ad6-49ef-9f1e-64a1b23cb43f"
      },
      "outputs": [
        {
          "name": "stderr",
          "output_type": "stream",
          "text": [
            "'ls'��(��) ���� �Ǵ� �ܺ� ����, ������ �� �ִ� ���α׷�, �Ǵ�\n",
            "��ġ ������ �ƴմϴ�.\n"
          ]
        }
      ],
      "source": [
        "import shutil\n",
        "from pathlib import Path\n",
        "\n",
        "# Create FoodVision mini demo path\n",
        "foodvision_mini_demo_path = Path(\"demos/foodivision_mini/\")\n",
        "\n",
        "# Remove files that might already exist there and create new directory\n",
        "if foodvision_mini_demo_path.exists():\n",
        "    shutil.rmtree(foodvision_mini_demo_path)\n",
        "    foodvision_mini_demo_path.mkdir(parents=True, # make the parent folders?\n",
        "                                    exist_ok=True) # create it even if it already exists?\n",
        "\n",
        "else:\n",
        "    # If the file doesn't exist, create it anyway\n",
        "    foodvision_mini_demo_path.mkdir(parents=True,\n",
        "                                    exist_ok=True)\n",
        "\n",
        "# Check what's in the folder\n",
        "!ls demos/foodvision_mini/"
      ]
    },
    {
      "cell_type": "markdown",
      "metadata": {
        "id": "yS3jKpsH-i7P"
      },
      "source": [
        "### - Creating a folder of example images to use with our FoodVision Mini demo"
      ]
    },
    {
      "cell_type": "code",
      "execution_count": null,
      "metadata": {
        "id": "YQG_FAyN-i7P",
        "outputId": "3153adbb-3a90-4484-d668-2beabdc27996"
      },
      "outputs": [
        {
          "name": "stdout",
          "output_type": "stream",
          "text": [
            "[INFO] Copying data\\pizza_steak_sushi_20_percent\\test\\sushi\\592799.jpg to demos\\foodivision_mini\\examples\\592799.jpg\n",
            "[INFO] Copying data\\pizza_steak_sushi_20_percent\\test\\steak\\3622237.jpg to demos\\foodivision_mini\\examples\\3622237.jpg\n",
            "[INFO] Copying data\\pizza_steak_sushi_20_percent\\test\\pizza\\2582289.jpg to demos\\foodivision_mini\\examples\\2582289.jpg\n"
          ]
        }
      ],
      "source": [
        "import shutil\n",
        "from pathlib import Path\n",
        "\n",
        "# 1. Create an examples directory\n",
        "foodvision_mini_examples_path = foodvision_mini_demo_path / \"examples\"\n",
        "foodvision_mini_examples_path.mkdir(parents=True, exist_ok=True)\n",
        "\n",
        "# 2. Collect three random test dataset image paths\n",
        "foodvision_mini_examples = [Path('data/pizza_steak_sushi_20_percent/test/sushi/592799.jpg'),\n",
        "                            Path('data/pizza_steak_sushi_20_percent/test/steak/3622237.jpg'),\n",
        "                            Path('data/pizza_steak_sushi_20_percent/test/pizza/2582289.jpg')]\n",
        "\n",
        "# 3. Copy the three random images to the examples directory\n",
        "for example in foodvision_mini_examples:\n",
        "    destination = foodvision_mini_examples_path / example.name\n",
        "    print(f\"[INFO] Copying {example} to {destination}\")\n",
        "    shutil.copy2(src=example, dst=destination)"
      ]
    },
    {
      "cell_type": "code",
      "execution_count": null,
      "metadata": {
        "id": "3s3o22NV-i7P",
        "outputId": "07378dc7-86bf-413d-c2d4-40a7809444b6"
      },
      "outputs": [
        {
          "data": {
            "text/plain": [
              "['examples/2582289.jpg', 'examples/3622237.jpg', 'examples/592799.jpg']"
            ]
          },
          "execution_count": 57,
          "metadata": {},
          "output_type": "execute_result"
        }
      ],
      "source": [
        "import os\n",
        "\n",
        "# Get example filepaths in a list of lists\n",
        "example_list =[\"examples/\" + example for example in os.listdir(foodvision_mini_examples_path)]\n",
        "example_list"
      ]
    },
    {
      "cell_type": "markdown",
      "metadata": {
        "id": "tgXY-qa5-i7P"
      },
      "source": [
        "### - Moving our trained EffNetB2 model to our FoodVision Mini demo directory"
      ]
    },
    {
      "cell_type": "code",
      "execution_count": null,
      "metadata": {
        "id": "Pqde8uKw-i7P",
        "outputId": "b65ed4b1-6dfc-4739-eb39-9613ae8f4595"
      },
      "outputs": [
        {
          "name": "stdout",
          "output_type": "stream",
          "text": [
            "[INFO] Attempting to move models/09_pretrained_effnetb2_feature_extractor_pizza_steak_sushi_20_percent.pth to demos\\foodivision_mini\\09_pretrained_effnetb2_feature_extractor_pizza_steak_sushi_20_percent.pth\n",
            "[INFO] MOdel move complete.\n"
          ]
        }
      ],
      "source": [
        "import shutil\n",
        "\n",
        "# Create a source path for our target model\n",
        "effnetb2_foodvision_mini_model_path = \"models/09_pretrained_effnetb2_feature_extractor_pizza_steak_sushi_20_percent.pth\"\n",
        "\n",
        "# Create a destination path for our target model\n",
        "effnetb2_foodvision_mini_model_destination = foodvision_mini_demo_path / effnetb2_foodvision_mini_model_path.split(\"/\")[1]\n",
        "\n",
        "# Try to move the file\n",
        "try:\n",
        "    print(f\"[INFO] Attempting to move {effnetb2_foodvision_mini_model_path} to {effnetb2_foodvision_mini_model_destination}\")\n",
        "\n",
        "    # Move the model\n",
        "    shutil.move(src=effnetb2_foodvision_mini_model_path,\n",
        "                dst=effnetb2_foodvision_mini_model_destination)\n",
        "\n",
        "    print(f\"[INFO] MOdel move complete.\")\n",
        "\n",
        "# If the model has already been moved, check if it exists\n",
        "except:\n",
        "    print(f\"[INFO] No model found at {effnetb2_foodvision_mini_model_path}, perhaps its already been moved?\")\n",
        "    print(f\"[INFO] MOdel exists at {effnetb2_foodvision_mini_model_destination}: {effnetb2_foodvision_mini_model_destination.exists()}\")"
      ]
    },
    {
      "cell_type": "markdown",
      "metadata": {
        "id": "Jk_fbuEb-i7Q"
      },
      "source": [
        "### - Turning our EffNetB2 into a Python script (model.py)"
      ]
    },
    {
      "cell_type": "code",
      "execution_count": null,
      "metadata": {
        "colab": {
          "base_uri": "https://localhost:8080/"
        },
        "id": "yLL2IcLg-i7Q",
        "outputId": "31abb27a-bbba-4f44-c4c4-9d597886b42d"
      },
      "outputs": [
        {
          "output_type": "stream",
          "name": "stdout",
          "text": [
            "Writing D:\\cs\\ds\\zero-to-mastery-learn-pytorch-for-deep-learning\\09_pytorch_model_deployment\\demos\\foodivision_mini\\model.py\n"
          ]
        }
      ],
      "source": [
        "%%writefile D:\\cs\\ds\\zero-to-mastery-learn-pytorch-for-deep-learning\\09_pytorch_model_deployment\\demos\\foodivision_mini\\model.py\n",
        "import torch\n",
        "import torchvision\n",
        "\n",
        "from torch import nn\n",
        "\n",
        "def create_effnetb2_model(num_classes:int=3,\n",
        "                          seed:int=42):\n",
        "    \"\"\"Creates an EfficientNetB2 feature extractor model and transforms.\n",
        "\n",
        "    Args:\n",
        "        num_classes (int, optional): number of classes in the classifier head.\n",
        "            Defaults to 3.\n",
        "        seed (int, optional): random seed value. Defaults to 42.\n",
        "\n",
        "    Returns:\n",
        "        model (torch.nn.Module): EffNetB2 feature extractor model.\n",
        "        transforms (torchvision.transforms): EffNetB2 image transforms.\n",
        "    \"\"\"\n",
        "    # Create EffNetB2 pretrained weigths, transforms and model\n",
        "    weights = torchvision.models.EfficientNet_B2_Weights.DEFAULT\n",
        "    transforms = weights.transforms()\n",
        "    model = torchvision.models.efficientnet_b2(weights=weights)\n",
        "\n",
        "    # Freeze all layers in base model\n",
        "    for param in model.parameters():\n",
        "        param.requires_grad = False\n",
        "\n",
        "    # Change classifier head with random seed for reproducibility\n",
        "    torch.manual_seed(seed)\n",
        "    model.classifier = nn.Sequential(\n",
        "        nn.Dropout(p=0.3, inplace=True),\n",
        "        nn.Linear(in_features=1408, out_features=num_classes)\n",
        "    )\n",
        "\n",
        "    return model, transforms"
      ]
    },
    {
      "cell_type": "markdown",
      "metadata": {
        "id": "s9EuNVPH-i7Q"
      },
      "source": [
        "### - Turning our FoodVision Mini Gradio app into Python script (app.py)"
      ]
    },
    {
      "cell_type": "code",
      "execution_count": null,
      "metadata": {
        "id": "rD0XZ56s-i7Q",
        "outputId": "ea1cfb7e-a6a9-4c19-f5e3-962c42e97868"
      },
      "outputs": [
        {
          "name": "stdout",
          "output_type": "stream",
          "text": [
            "Overwriting D:\\cs\\ds\\zero-to-mastery-learn-pytorch-for-deep-learning\\09_pytorch_model_deployment\\demos\\foodivision_mini\\app.py\n"
          ]
        }
      ],
      "source": [
        "%%writefile D:\\cs\\ds\\zero-to-mastery-learn-pytorch-for-deep-learning\\09_pytorch_model_deployment\\demos\\foodivision_mini\\app.py\n",
        "### 1. Imports and class names setup ###\n",
        "import gradio as gr\n",
        "import os\n",
        "import torch\n",
        "\n",
        "from model import create_effnetb2_model\n",
        "from timeit import default_timer as timer\n",
        "from typing import Tuple, Dict\n",
        "\n",
        "# Set up class names\n",
        "class_names = [\"pizza\", \"steak\", \"sushi\"]\n",
        "\n",
        "### 2. Model and transforms preparation ###\n",
        "\n",
        "# Create EffNetB2 model\n",
        "effnetb2, effnetb2_transforms = create_effnetb2_model(\n",
        "    num_classes=3\n",
        ")\n",
        "\n",
        "# Load saved weights\n",
        "effnetb2.load_state_dict(\n",
        "    torch.load(\n",
        "        f=\"09_pretrained_effnetb2_feature_extractor_pizza_steak_sushi_20_percent.pth\",\n",
        "        map_location=torch.device(\"cpu\") # load to CPU\n",
        "    )\n",
        ")\n",
        "\n",
        "### 3. Predict function ###\n",
        "\n",
        "# Create predict function\n",
        "def predict(img) -> Tuple[Dict, float]:\n",
        "    \"\"\"Transforms and performs a prediction on img and returns prediction and time taken\"\"\"\n",
        "    # Start the timer\n",
        "    start_time = timer()\n",
        "\n",
        "    # Transform the target image and add a batch dimension\n",
        "    img = effnetb2_transforms(img).unsqueeze(0)\n",
        "\n",
        "    # Put model into evaluation mode and turn on inference mode\n",
        "    effnetb2.eval()\n",
        "    with torch.inference_mode():\n",
        "        # Pass the transformed image through the model and turn the prediction logits into prediction probabilities\n",
        "        pred_probs = torch.softmax(effnetb2(img), dim=1)\n",
        "\n",
        "    # Create a prediction label and prediction probability dictionary for each prediction class (this is the required format for Gradio's output parameter)\n",
        "    pred_labels_and_probs = {class_names[i]: float(pred_probs[0][i]) for i in range(len(class_names))}\n",
        "\n",
        "    # Calculate the prediction time\n",
        "    pred_time = round(timer() - start_time, 5)\n",
        "\n",
        "    # Return the prediction dictioary and prediction time\n",
        "    return pred_labels_and_probs, pred_time\n",
        "\n",
        "### 4. Gradio app ###\n",
        "\n",
        "# Create title, description, and article string\n",
        "title = \"FoodVision Mini\"\n",
        "description = \"An EfficientNetB2 feature extractor computer vision model to classify images of food as pizza, steak or sushi.\"\n",
        "article = \"Created at [09. PyTorch Model Deployment](https://www.learnpytorch.io/09_pytorch_model_deployment/).\"\n",
        "\n",
        "# Create examples list from \"examples/\" directory\n",
        "example_list = [[\"examples/\" + example] for example in os.listdir(\"examples\")]\n",
        "\n",
        "# Create the Gradio demo\n",
        "demo = gr.Interface(fn=predict, # mapping function from input to output\n",
        "                    inputs=gr.Image(type=\"pil\"), # what are the inputs?\n",
        "                    outputs=[gr.Label(num_top_classes=3, label=\"Prediction\"), # what are the outputs?\n",
        "                             gr.Number(label=\"Prediction time (s)\")], # our fn two outputs, therefore we have two outputs\n",
        "                    # Create examples list from \"examples/ direactory\"\n",
        "                    examples=example_list,\n",
        "                    title=title,\n",
        "                    description=description,\n",
        "                    article=article)\n",
        "\n",
        "# Launch the model\n",
        "demo.launch()"
      ]
    },
    {
      "cell_type": "markdown",
      "metadata": {
        "id": "9lA6LJP0-i7R"
      },
      "source": [
        "### - Creating requirements file for FoodVision Mini (requirements.txt)"
      ]
    },
    {
      "cell_type": "code",
      "execution_count": null,
      "metadata": {
        "id": "E79uEzLR-i7R",
        "outputId": "6407dfc3-2667-4f5f-a413-2f85330e0550"
      },
      "outputs": [
        {
          "name": "stdout",
          "output_type": "stream",
          "text": [
            "Writing D:\\cs\\ds\\zero-to-mastery-learn-pytorch-for-deep-learning\\09_pytorch_model_deployment\\demos\\foodivision_mini\\requirements.txt\n"
          ]
        }
      ],
      "source": [
        "%%writefile D:\\cs\\ds\\zero-to-mastery-learn-pytorch-for-deep-learning\\09_pytorch_model_deployment\\demos\\foodivision_mini\\requirements.txt\n",
        "torch==1.12.0\n",
        "torchvision==0.13.0\n",
        "gradio=3.1.4"
      ]
    },
    {
      "cell_type": "markdown",
      "metadata": {
        "id": "37qDkNhn-i7R"
      },
      "source": [
        "## Deploying our FoodVision Mini app to HuggingFace Spaces"
      ]
    },
    {
      "cell_type": "markdown",
      "source": [
        "## Creating FoodVision Big"
      ],
      "metadata": {
        "id": "BTUiDqje--NF"
      }
    },
    {
      "cell_type": "markdown",
      "source": [
        "- Running on colab to train big model"
      ],
      "metadata": {
        "id": "pBh16PaxACnE"
      }
    },
    {
      "cell_type": "code",
      "source": [
        "# Continue with regular imports\n",
        "import matplotlib.pyplot as plt\n",
        "import torch\n",
        "import torchvision\n",
        "\n",
        "from torch import nn\n",
        "from torchvision import transforms\n",
        "\n",
        "# Try to get torchinfo, install it if it doesn't work\n",
        "try:\n",
        "    from torchinfo import summary\n",
        "except:\n",
        "    print(\"[INFO] Couldn't find torchinfo... installing it.\")\n",
        "    !pip install -q torchinfo\n",
        "    from torchinfo import summary\n",
        "\n",
        "# Try to import the going_modular directory, download it from GitHub if it doesn't work\n",
        "try:\n",
        "    from going_modular.going_modular import data_setup, engine\n",
        "    from helper_functions import download_data, set_seeds, plot_loss_curves\n",
        "except:\n",
        "    # Get the going_modular scripts\n",
        "    print(\"[INFO] Couldn't find going_modular or helper_functions scripts... downloading them from GitHub.\")\n",
        "    !git clone https://github.com/mrdbourke/pytorch-deep-learning\n",
        "    !mv pytorch-deep-learning/going_modular .\n",
        "    !mv pytorch-deep-learning/helper_functions.py . # get the helper_functions.py script\n",
        "    !rm -rf pytorch-deep-learning\n",
        "    from going_modular.going_modular import data_setup, engine\n",
        "    from helper_functions import download_data, set_seeds, plot_loss_curves"
      ],
      "metadata": {
        "id": "emFBgqj6_v4q",
        "colab": {
          "base_uri": "https://localhost:8080/"
        },
        "outputId": "4e84b5c9-8767-457d-9956-ddcc3eaa0f30"
      },
      "execution_count": 16,
      "outputs": [
        {
          "output_type": "stream",
          "name": "stdout",
          "text": [
            "[INFO] Couldn't find going_modular or helper_functions scripts... downloading them from GitHub.\n",
            "Cloning into 'pytorch-deep-learning'...\n",
            "remote: Enumerating objects: 3849, done.\u001b[K\n",
            "remote: Counting objects: 100% (492/492), done.\u001b[K\n",
            "remote: Compressing objects: 100% (276/276), done.\u001b[K\n",
            "remote: Total 3849 (delta 259), reused 411 (delta 209), pack-reused 3357\u001b[K\n",
            "Receiving objects: 100% (3849/3849), 649.90 MiB | 23.93 MiB/s, done.\n",
            "Resolving deltas: 100% (2215/2215), done.\n",
            "Updating files: 100% (248/248), done.\n"
          ]
        }
      ]
    },
    {
      "cell_type": "code",
      "source": [
        "def create_effnetb2_model(num_classes:int=3,\n",
        "                          seed:int=42):\n",
        "    \"\"\"Creates an EfficientNetB2 feature extractor model and transforms.\n",
        "\n",
        "    Args:\n",
        "        num_classes (int, optional): number of classes in the classifier head.\n",
        "            Defaults to 3.\n",
        "        seed (int, optional): random seed value. Defaults to 42.\n",
        "\n",
        "    Returns:\n",
        "        model (torch.nn.Module): EffNetB2 feature extractor model.\n",
        "        transforms (torchvision.transforms): EffNetB2 image transforms.\n",
        "    \"\"\"\n",
        "    # 1, 2, 3. Creates EffNetB2 pretrained weights, transforms and model\n",
        "    weights = torchvision.models.EfficientNet_B2_Weights.DEFAULT\n",
        "    transforms = weights.transforms()\n",
        "    model = torchvision.models.efficientnet_b2(weights=weights)\n",
        "\n",
        "    # 4. Freeze all layers in base model\n",
        "    for param in model.parameters():\n",
        "        param.requires_grad = False\n",
        "\n",
        "    # 5. Change classifier head with random seed for reproducibility\n",
        "    torch.manual_seed(seed)\n",
        "    model.classifier = nn.Sequential(\n",
        "        nn.Dropout(p=0.3, inplace=True),\n",
        "        nn.Linear(in_features=1408,\n",
        "                  out_features=num_classes)\n",
        "    )\n",
        "\n",
        "    return model, transforms"
      ],
      "metadata": {
        "id": "0rhBm8zcCJkX"
      },
      "execution_count": 3,
      "outputs": []
    },
    {
      "cell_type": "code",
      "source": [
        "# Create EffNetB2 model capable of fitting to 101 classes for Food101\n",
        "effnetb2_food101, effnetb2_transforms = create_effnetb2_model(num_classes=101)"
      ],
      "metadata": {
        "id": "lIZFObyG--AN",
        "colab": {
          "base_uri": "https://localhost:8080/"
        },
        "outputId": "cd35b258-a70f-40d8-d96a-3954889cdcc4"
      },
      "execution_count": 4,
      "outputs": [
        {
          "output_type": "stream",
          "name": "stderr",
          "text": [
            "Downloading: \"https://download.pytorch.org/models/efficientnet_b2_rwightman-bcdf34b7.pth\" to /root/.cache/torch/hub/checkpoints/efficientnet_b2_rwightman-bcdf34b7.pth\n",
            "100%|██████████| 35.2M/35.2M [00:00<00:00, 83.4MB/s]\n"
          ]
        }
      ]
    },
    {
      "cell_type": "code",
      "source": [
        "!pip install torchinfo"
      ],
      "metadata": {
        "colab": {
          "base_uri": "https://localhost:8080/"
        },
        "id": "_7qKkNj-_7yh",
        "outputId": "e06d833e-2a59-4b11-8071-45a2bb000068"
      },
      "execution_count": 5,
      "outputs": [
        {
          "output_type": "stream",
          "name": "stdout",
          "text": [
            "Collecting torchinfo\n",
            "  Downloading torchinfo-1.8.0-py3-none-any.whl (23 kB)\n",
            "Installing collected packages: torchinfo\n",
            "Successfully installed torchinfo-1.8.0\n"
          ]
        }
      ]
    },
    {
      "cell_type": "code",
      "source": [
        "from torchinfo import summary\n",
        "\n",
        "# Get a summary of EffNetB2 feature extractor for Food101 with 101 output classes (uncomment for full output)\n",
        "summary(effnetb2_food101,\n",
        "        input_size=(1, 3, 224, 224),\n",
        "        col_names=[\"input_size\", \"output_size\", \"num_params\", \"trainable\"],\n",
        "        col_width=20,\n",
        "        row_settings=[\"var_names\"])"
      ],
      "metadata": {
        "colab": {
          "base_uri": "https://localhost:8080/"
        },
        "id": "pOF_UQvi_5r0",
        "outputId": "b6ba369d-d9d4-45a5-a6a7-a20590ad6d13"
      },
      "execution_count": 6,
      "outputs": [
        {
          "output_type": "execute_result",
          "data": {
            "text/plain": [
              "============================================================================================================================================\n",
              "Layer (type (var_name))                                      Input Shape          Output Shape         Param #              Trainable\n",
              "============================================================================================================================================\n",
              "EfficientNet (EfficientNet)                                  [1, 3, 224, 224]     [1, 101]             --                   Partial\n",
              "├─Sequential (features)                                      [1, 3, 224, 224]     [1, 1408, 7, 7]      --                   False\n",
              "│    └─Conv2dNormActivation (0)                              [1, 3, 224, 224]     [1, 32, 112, 112]    --                   False\n",
              "│    │    └─Conv2d (0)                                       [1, 3, 224, 224]     [1, 32, 112, 112]    (864)                False\n",
              "│    │    └─BatchNorm2d (1)                                  [1, 32, 112, 112]    [1, 32, 112, 112]    (64)                 False\n",
              "│    │    └─SiLU (2)                                         [1, 32, 112, 112]    [1, 32, 112, 112]    --                   --\n",
              "│    └─Sequential (1)                                        [1, 32, 112, 112]    [1, 16, 112, 112]    --                   False\n",
              "│    │    └─MBConv (0)                                       [1, 32, 112, 112]    [1, 16, 112, 112]    (1,448)              False\n",
              "│    │    └─MBConv (1)                                       [1, 16, 112, 112]    [1, 16, 112, 112]    (612)                False\n",
              "│    └─Sequential (2)                                        [1, 16, 112, 112]    [1, 24, 56, 56]      --                   False\n",
              "│    │    └─MBConv (0)                                       [1, 16, 112, 112]    [1, 24, 56, 56]      (6,004)              False\n",
              "│    │    └─MBConv (1)                                       [1, 24, 56, 56]      [1, 24, 56, 56]      (10,710)             False\n",
              "│    │    └─MBConv (2)                                       [1, 24, 56, 56]      [1, 24, 56, 56]      (10,710)             False\n",
              "│    └─Sequential (3)                                        [1, 24, 56, 56]      [1, 48, 28, 28]      --                   False\n",
              "│    │    └─MBConv (0)                                       [1, 24, 56, 56]      [1, 48, 28, 28]      (16,518)             False\n",
              "│    │    └─MBConv (1)                                       [1, 48, 28, 28]      [1, 48, 28, 28]      (43,308)             False\n",
              "│    │    └─MBConv (2)                                       [1, 48, 28, 28]      [1, 48, 28, 28]      (43,308)             False\n",
              "│    └─Sequential (4)                                        [1, 48, 28, 28]      [1, 88, 14, 14]      --                   False\n",
              "│    │    └─MBConv (0)                                       [1, 48, 28, 28]      [1, 88, 14, 14]      (50,300)             False\n",
              "│    │    └─MBConv (1)                                       [1, 88, 14, 14]      [1, 88, 14, 14]      (123,750)            False\n",
              "│    │    └─MBConv (2)                                       [1, 88, 14, 14]      [1, 88, 14, 14]      (123,750)            False\n",
              "│    │    └─MBConv (3)                                       [1, 88, 14, 14]      [1, 88, 14, 14]      (123,750)            False\n",
              "│    └─Sequential (5)                                        [1, 88, 14, 14]      [1, 120, 14, 14]     --                   False\n",
              "│    │    └─MBConv (0)                                       [1, 88, 14, 14]      [1, 120, 14, 14]     (149,158)            False\n",
              "│    │    └─MBConv (1)                                       [1, 120, 14, 14]     [1, 120, 14, 14]     (237,870)            False\n",
              "│    │    └─MBConv (2)                                       [1, 120, 14, 14]     [1, 120, 14, 14]     (237,870)            False\n",
              "│    │    └─MBConv (3)                                       [1, 120, 14, 14]     [1, 120, 14, 14]     (237,870)            False\n",
              "│    └─Sequential (6)                                        [1, 120, 14, 14]     [1, 208, 7, 7]       --                   False\n",
              "│    │    └─MBConv (0)                                       [1, 120, 14, 14]     [1, 208, 7, 7]       (301,406)            False\n",
              "│    │    └─MBConv (1)                                       [1, 208, 7, 7]       [1, 208, 7, 7]       (686,868)            False\n",
              "│    │    └─MBConv (2)                                       [1, 208, 7, 7]       [1, 208, 7, 7]       (686,868)            False\n",
              "│    │    └─MBConv (3)                                       [1, 208, 7, 7]       [1, 208, 7, 7]       (686,868)            False\n",
              "│    │    └─MBConv (4)                                       [1, 208, 7, 7]       [1, 208, 7, 7]       (686,868)            False\n",
              "│    └─Sequential (7)                                        [1, 208, 7, 7]       [1, 352, 7, 7]       --                   False\n",
              "│    │    └─MBConv (0)                                       [1, 208, 7, 7]       [1, 352, 7, 7]       (846,900)            False\n",
              "│    │    └─MBConv (1)                                       [1, 352, 7, 7]       [1, 352, 7, 7]       (1,888,920)          False\n",
              "│    └─Conv2dNormActivation (8)                              [1, 352, 7, 7]       [1, 1408, 7, 7]      --                   False\n",
              "│    │    └─Conv2d (0)                                       [1, 352, 7, 7]       [1, 1408, 7, 7]      (495,616)            False\n",
              "│    │    └─BatchNorm2d (1)                                  [1, 1408, 7, 7]      [1, 1408, 7, 7]      (2,816)              False\n",
              "│    │    └─SiLU (2)                                         [1, 1408, 7, 7]      [1, 1408, 7, 7]      --                   --\n",
              "├─AdaptiveAvgPool2d (avgpool)                                [1, 1408, 7, 7]      [1, 1408, 1, 1]      --                   --\n",
              "├─Sequential (classifier)                                    [1, 1408]            [1, 101]             --                   True\n",
              "│    └─Dropout (0)                                           [1, 1408]            [1, 1408]            --                   --\n",
              "│    └─Linear (1)                                            [1, 1408]            [1, 101]             142,309              True\n",
              "============================================================================================================================================\n",
              "Total params: 7,843,303\n",
              "Trainable params: 142,309\n",
              "Non-trainable params: 7,700,994\n",
              "Total mult-adds (M): 657.78\n",
              "============================================================================================================================================\n",
              "Input size (MB): 0.60\n",
              "Forward/backward pass size (MB): 156.80\n",
              "Params size (MB): 31.37\n",
              "Estimated Total Size (MB): 188.77\n",
              "============================================================================================================================================"
            ]
          },
          "metadata": {},
          "execution_count": 6
        }
      ]
    },
    {
      "cell_type": "code",
      "source": [
        "# Create Food101 training data transforms (only perform data augmentation on the training image)\n",
        "food101_train_transforms = torchvision.transforms.Compose([\n",
        "    torchvision.transforms.TrivialAugmentWide(),\n",
        "    effnetb2_transforms\n",
        "])"
      ],
      "metadata": {
        "id": "OxqbbyLeAo7U"
      },
      "execution_count": 7,
      "outputs": []
    },
    {
      "cell_type": "code",
      "source": [
        "print(f\"Training transforms:\\n{food101_train_transforms}\\n\")\n",
        "print(f\"Testing transforms:\\n{effnetb2_transforms}\")"
      ],
      "metadata": {
        "colab": {
          "base_uri": "https://localhost:8080/"
        },
        "id": "76415wzOBB9t",
        "outputId": "4dec4642-a079-49cb-f9b1-316d86a67dba"
      },
      "execution_count": 8,
      "outputs": [
        {
          "output_type": "stream",
          "name": "stdout",
          "text": [
            "Training transforms:\n",
            "Compose(\n",
            "    TrivialAugmentWide(num_magnitude_bins=31, interpolation=InterpolationMode.NEAREST, fill=None)\n",
            "    ImageClassification(\n",
            "    crop_size=[288]\n",
            "    resize_size=[288]\n",
            "    mean=[0.485, 0.456, 0.406]\n",
            "    std=[0.229, 0.224, 0.225]\n",
            "    interpolation=InterpolationMode.BICUBIC\n",
            ")\n",
            ")\n",
            "\n",
            "Testing transforms:\n",
            "ImageClassification(\n",
            "    crop_size=[288]\n",
            "    resize_size=[288]\n",
            "    mean=[0.485, 0.456, 0.406]\n",
            "    std=[0.229, 0.224, 0.225]\n",
            "    interpolation=InterpolationMode.BICUBIC\n",
            ")\n"
          ]
        }
      ]
    },
    {
      "cell_type": "markdown",
      "source": [
        "### - Getting data for FoodVision Big"
      ],
      "metadata": {
        "id": "nSkewOdSBTB4"
      }
    },
    {
      "cell_type": "code",
      "source": [
        "from torchvision import datasets\n",
        "\n",
        "# Setup data directory\n",
        "from pathlib import Path\n",
        "data_dir = Path(\"data\")\n",
        "\n",
        "# Get training data (750 images x 101 food classes)\n",
        "train_data = datasets.Food101(root=data_dir,\n",
        "                              split=\"train\",\n",
        "                              transform=food101_train_transforms,\n",
        "                              download=True)\n",
        "\n",
        "# Get testing data (250 images x 101 food classes)\n",
        "test_data = datasets.Food101(root=data_dir,\n",
        "                             split=\"test\",\n",
        "                             transform=effnetb2_transforms,\n",
        "                             download=True)"
      ],
      "metadata": {
        "id": "iG2CNVQwBN8n",
        "colab": {
          "base_uri": "https://localhost:8080/"
        },
        "outputId": "2069adc9-cf72-4cb2-846d-65978e69f4da"
      },
      "execution_count": 9,
      "outputs": [
        {
          "output_type": "stream",
          "name": "stdout",
          "text": [
            "Downloading https://data.vision.ee.ethz.ch/cvl/food-101.tar.gz to data/food-101.tar.gz\n"
          ]
        },
        {
          "output_type": "stream",
          "name": "stderr",
          "text": [
            "100%|██████████| 4996278331/4996278331 [04:17<00:00, 19390472.15it/s]\n"
          ]
        },
        {
          "output_type": "stream",
          "name": "stdout",
          "text": [
            "Extracting data/food-101.tar.gz to data\n"
          ]
        }
      ]
    },
    {
      "cell_type": "code",
      "source": [
        "# Get Food101 class names\n",
        "food101_class_names = train_data.classes\n",
        "\n",
        "# View the first 10\n",
        "food101_class_names[:10]"
      ],
      "metadata": {
        "colab": {
          "base_uri": "https://localhost:8080/"
        },
        "id": "vMdYJL_GCAx2",
        "outputId": "9c22bf3e-de9b-4718-ef7e-b0c799a34f50"
      },
      "execution_count": 10,
      "outputs": [
        {
          "output_type": "execute_result",
          "data": {
            "text/plain": [
              "['apple_pie',\n",
              " 'baby_back_ribs',\n",
              " 'baklava',\n",
              " 'beef_carpaccio',\n",
              " 'beef_tartare',\n",
              " 'beet_salad',\n",
              " 'beignets',\n",
              " 'bibimbap',\n",
              " 'bread_pudding',\n",
              " 'breakfast_burrito']"
            ]
          },
          "metadata": {},
          "execution_count": 10
        }
      ]
    },
    {
      "cell_type": "markdown",
      "source": [
        "### - Creating subset of the Food101 dataset for faster experimenting"
      ],
      "metadata": {
        "id": "oHS790uDCylV"
      }
    },
    {
      "cell_type": "code",
      "source": [
        "def split_dataset(dataset:torchvision.datasets, split_size:float=0.2, seed:int=42):\n",
        "    \"\"\"Randomly splits a given dataset into two proportions based on split_size and seed.\n",
        "\n",
        "    Args:\n",
        "        dataset (torchvision.datasets): A PyTorch Dataset, typically one from torchvision.datasets.\n",
        "        split_size (float, optional): How much of the dataset should be split?\n",
        "            E.g. split_size=0.2 means there will be a 20% split and an 80% split. Defaults to 0.2.\n",
        "        seed (int, optional): Seed for random generator. Defaults to 42.\n",
        "\n",
        "    Returns:\n",
        "        tuple: (random_split_1, random_split_2) where random_split_1 is of size split_size*len(dataset) and\n",
        "            random_split_2 is of size (1-split_size)*len(dataset).\n",
        "    \"\"\"\n",
        "    # Create split lengths based on original dataset length\n",
        "    length_1 = int(len(dataset) * split_size) # desired length\n",
        "    length_2 = len(dataset) - length_1 # remaining length\n",
        "\n",
        "    # Print out info\n",
        "    print(f\"[INFO] Splitting dataset of length {len(dataset)} into splits of size: {length_1} ({int(split_size*100)}%), {length_2} ({int((1-split_size)*100)}%)\")\n",
        "\n",
        "    # Create splits with given random seed\n",
        "    random_split_1, random_split_2 = torch.utils.data.random_split(dataset,\n",
        "                                                                   lengths=[length_1, length_2],\n",
        "                                                                   generator=torch.manual_seed(seed)) # set the random seed for reproducible splits\n",
        "    return random_split_1, random_split_2"
      ],
      "metadata": {
        "id": "UctYSAQeCLTz"
      },
      "execution_count": 11,
      "outputs": []
    },
    {
      "cell_type": "code",
      "source": [
        "# Create training 20% split of Food101\n",
        "train_data_food101_20_percent, _ = split_dataset(dataset=train_data,\n",
        "                                               split_size=0.2)\n",
        "\n",
        "# Create testing 20% split of Food101\n",
        "test_data_food101_20_percent, _ = split_dataset(dataset=test_data,\n",
        "                                               split_size=0.2)\n",
        "\n",
        "len(train_data_food101_20_percent), len(test_data_food101_20_percent)"
      ],
      "metadata": {
        "colab": {
          "base_uri": "https://localhost:8080/"
        },
        "id": "9EgTzYjvDAvi",
        "outputId": "ece0aefa-aab1-4162-a772-ec877c0cff1d"
      },
      "execution_count": 12,
      "outputs": [
        {
          "output_type": "stream",
          "name": "stdout",
          "text": [
            "[INFO] Splitting dataset of length 75750 into splits of size: 15150 (20%), 60600 (80%)\n",
            "[INFO] Splitting dataset of length 25250 into splits of size: 5050 (20%), 20200 (80%)\n"
          ]
        },
        {
          "output_type": "execute_result",
          "data": {
            "text/plain": [
              "(15150, 5050)"
            ]
          },
          "metadata": {},
          "execution_count": 12
        }
      ]
    },
    {
      "cell_type": "markdown",
      "source": [
        "### - Turning our Food101 datasets into DataLoaders"
      ],
      "metadata": {
        "id": "gVVu61srDdXt"
      }
    },
    {
      "cell_type": "code",
      "source": [
        "import os\n",
        "import torch\n",
        "\n",
        "BATCH_SIZE = 32\n",
        "NUM_WORKERS = os.cpu_count()\n",
        "\n",
        "# Create Food101 20 percent training DataLoader\n",
        "train_dataloader_food101_20_percent = torch.utils.data.DataLoader(train_data_food101_20_percent,\n",
        "                                                                  batch_size=BATCH_SIZE,\n",
        "                                                                  shuffle=True,\n",
        "                                                                  num_workers=NUM_WORKERS)\n",
        "\n",
        "# Create Food101 20 percent testing DataLoader\n",
        "test_dataloader_food101_20_precent = torch.utils.data.DataLoader(test_data_food101_20_percent,\n",
        "                                                                 batch_size=BATCH_SIZE,\n",
        "                                                                 shuffle=False,\n",
        "                                                                 num_workers=NUM_WORKERS)"
      ],
      "metadata": {
        "id": "CR27eXhCDb9f"
      },
      "execution_count": 13,
      "outputs": []
    },
    {
      "cell_type": "markdown",
      "source": [
        "### - Training FoodVision Big model"
      ],
      "metadata": {
        "id": "1WIo5hD0EXUc"
      }
    },
    {
      "cell_type": "code",
      "source": [
        "from going_modular.going_modular import engine\n",
        "\n",
        "# Setup optimizer\n",
        "optimizer = torch.optim.Adam(params=effnetb2_food101.parameters(),\n",
        "                             lr=1e-3)\n",
        "\n",
        "# Setup loss function\n",
        "loss_fn = torch.nn.CrossEntropyLoss(label_smoothing=0.1)\n",
        "\n",
        "# Want to beat original Food101 ppaper with 20% of data, need 56.4%+ acc on test dataset\n",
        "set_seeds()\n",
        "effnetb2_food101_results = engine.train(model=effnetb2_food101,\n",
        "                                        train_dataloader=train_dataloader_food101_20_percent,\n",
        "                                        test_dataloader=test_dataloader_food101_20_precent,\n",
        "                                        optimizer=optimizer,\n",
        "                                        loss_fn=loss_fn,\n",
        "                                        epochs=5,\n",
        "                                        device=\"cuda\")"
      ],
      "metadata": {
        "colab": {
          "base_uri": "https://localhost:8080/",
          "height": 140,
          "referenced_widgets": [
            "4482e985687e467e9c1d2273e4701c5a",
            "3932676af1634a6d9defcbae5834353a",
            "8786d3b5dbe94da59d4b8bdaa1dd9dc2",
            "637db8e0934b400980dd82d39c8efe09",
            "083323fa00c749dfa9c98bb6ed6f695a",
            "b46c64aeaecf45eeb451ec1dd0039888",
            "aed74a410be942f8a44ec9207496cf50",
            "664ff1c8cd3a4c22a252940c0d0fb3b9",
            "42da98ab9e18461c8edd827035acd7af",
            "b7ba994f70fc48ac9af577eb7535691c",
            "e5c793f9a9034381832d74aa70421017"
          ]
        },
        "id": "-mAgTyXcEWQ-",
        "outputId": "c3e70d77-44ae-4799-c8e4-8a24813770d2"
      },
      "execution_count": 17,
      "outputs": [
        {
          "output_type": "display_data",
          "data": {
            "text/plain": [
              "  0%|          | 0/5 [00:00<?, ?it/s]"
            ],
            "application/vnd.jupyter.widget-view+json": {
              "version_major": 2,
              "version_minor": 0,
              "model_id": "4482e985687e467e9c1d2273e4701c5a"
            }
          },
          "metadata": {}
        },
        {
          "output_type": "stream",
          "name": "stdout",
          "text": [
            "Epoch: 1 | train_loss: 3.6419 | train_acc: 0.2802 | test_loss: 2.7815 | test_acc: 0.4917\n",
            "Epoch: 2 | train_loss: 2.8621 | train_acc: 0.4412 | test_loss: 2.4731 | test_acc: 0.5325\n",
            "Epoch: 3 | train_loss: 2.6545 | train_acc: 0.4859 | test_loss: 2.3638 | test_acc: 0.5570\n",
            "Epoch: 4 | train_loss: 2.5436 | train_acc: 0.5141 | test_loss: 2.3024 | test_acc: 0.5747\n",
            "Epoch: 5 | train_loss: 2.4955 | train_acc: 0.5244 | test_loss: 2.2800 | test_acc: 0.5810\n"
          ]
        }
      ]
    },
    {
      "cell_type": "markdown",
      "source": [
        "### - Inspecting loss curves of FoodVision Big model"
      ],
      "metadata": {
        "id": "ZbjvFcwsGM6L"
      }
    },
    {
      "cell_type": "code",
      "source": [
        "from helper_functions import plot_loss_curves\n",
        "\n",
        "# Check out the loss curves for FoodVision Big\n",
        "plot_loss_curves(effnetb2_food101_results)"
      ],
      "metadata": {
        "id": "M9-NFMToGAnQ",
        "colab": {
          "base_uri": "https://localhost:8080/",
          "height": 526
        },
        "outputId": "9a2ed1bc-762f-47f2-8b94-0a0a0cb5500a"
      },
      "execution_count": 18,
      "outputs": [
        {
          "output_type": "display_data",
          "data": {
            "text/plain": [
              "<Figure size 1500x700 with 2 Axes>"
            ],
            "image/png": "[encoded data removed]"
          },
          "metadata": {}
        }
      ]
    },
    {
      "cell_type": "markdown",
      "source": [
        "### - Saving and loading FoodVision Big"
      ],
      "metadata": {
        "id": "Pvgn1J0MGjVu"
      }
    },
    {
      "cell_type": "code",
      "source": [
        "from going_modular.going_modular import utils\n",
        "\n",
        "# Create a model path\n",
        "effnetb2_food101_model_path = \"09_pretrained_effnetb2_feature_extractor_food101_20_percent.pth\"\n",
        "\n",
        "# Save FoodVision Big model\n",
        "utils.save_model(model=effnetb2_food101,\n",
        "                 target_dir=\"models\",\n",
        "                 model_name=effnetb2_food101_model_path)"
      ],
      "metadata": {
        "id": "it-msT01GqKM",
        "colab": {
          "base_uri": "https://localhost:8080/"
        },
        "outputId": "5017cee0-fb0c-4feb-96e5-78ea2712523d"
      },
      "execution_count": 19,
      "outputs": [
        {
          "output_type": "stream",
          "name": "stdout",
          "text": [
            "[INFO] Saving model to: models/09_pretrained_effnetb2_feature_extractor_food101_20_percent.pth\n"
          ]
        }
      ]
    },
    {
      "cell_type": "code",
      "source": [
        "# Create Food101 compatible EffNetB2 instance\n",
        "loaded_effnetb2_food101, effnetb2_transforms = create_effnetb2_model(num_classes=101)\n",
        "\n",
        "# Load the saved model's state_dict()\n",
        "loaded_effnetb2_food101.load_state_dict(torch.load(\"models/09_pretrained_effnetb2_feature_extractor_food101_20_percent.pth\"))"
      ],
      "metadata": {
        "id": "-KNgOxB_HAbk",
        "colab": {
          "base_uri": "https://localhost:8080/"
        },
        "outputId": "0509e29e-29a3-405e-c8c9-b2b5a40c8b17"
      },
      "execution_count": 20,
      "outputs": [
        {
          "output_type": "execute_result",
          "data": {
            "text/plain": [
              "<All keys matched successfully>"
            ]
          },
          "metadata": {},
          "execution_count": 20
        }
      ]
    },
    {
      "cell_type": "markdown",
      "source": [
        "### - Checking FoodVision Big model size"
      ],
      "metadata": {
        "id": "xYiwWDdOCXX7"
      }
    },
    {
      "cell_type": "code",
      "source": [
        "from pathlib import Path\n",
        "\n",
        "# Get the model size in bytes then convert to megabytes\n",
        "pretrained_effnetb2_model_size = Path(\"models\", effnetb2_food101_model_path).stat().st_size // (1024 * 1024)\n",
        "print(f\"Pretrained EffNetB2 feature extractor Food101 model size: {pretrained_effnetb2_model_size} MB\")"
      ],
      "metadata": {
        "colab": {
          "base_uri": "https://localhost:8080/"
        },
        "id": "fTe_DHdeCbz1",
        "outputId": "779df83b-5e70-4f15-99fe-a675fa1b1104"
      },
      "execution_count": 22,
      "outputs": [
        {
          "output_type": "stream",
          "name": "stdout",
          "text": [
            "Pretrained EffNetB2 feature extractor Food101 model size: 30 MB\n"
          ]
        }
      ]
    },
    {
      "cell_type": "markdown",
      "source": [
        "## Turning our FoodVision Big model into a deployable app"
      ],
      "metadata": {
        "id": "NwkyG3QLDNWz"
      }
    },
    {
      "cell_type": "code",
      "source": [
        "from pathlib import Path\n",
        "\n",
        "# Create FoodVision Big demo path\n",
        "foodvision_big_demo_path = Path(\"demos/foodvision_big/\")\n",
        "\n",
        "# Make FoodVision BIg demo directory\n",
        "foodvision_big_demo_path.mkdir(parents=True, exist_ok=True)\n",
        "\n",
        "# Make FoodVision Big demo examples directory\n",
        "(foodvision_big_demo_path / \"examples\").mkdir(parents=True, exist_ok=True)"
      ],
      "metadata": {
        "id": "OaC75tgGDQ4y"
      },
      "execution_count": 23,
      "outputs": []
    },
    {
      "cell_type": "markdown",
      "source": [
        "### - Downloading an example image and moving it to the examples directory"
      ],
      "metadata": {
        "id": "KO3MSj2_EmwS"
      }
    },
    {
      "cell_type": "code",
      "source": [
        "# Download and move an example image\n",
        "!wget https://raw.githubusercontent.com/mrdbourke/pytorch-deep-learning/main/images/04-pizza-dad.jpeg\n",
        "!mv 04-pizza-dad.jpeg demos/foodvision_big/examples/04-pizza-dad.jpg\n",
        "\n",
        "# Move trained model to FoodVision BIg demo folder (will error if model is already moved)\n",
        "!mv models/09_pretrained_effnetb2_feature_extractor_food101_20_percent.pth demos/foodvision_big"
      ],
      "metadata": {
        "colab": {
          "base_uri": "https://localhost:8080/"
        },
        "id": "AzCdw7yYEl5M",
        "outputId": "350373bd-91d3-4b3b-8de7-f1a1faf0f253"
      },
      "execution_count": 24,
      "outputs": [
        {
          "output_type": "stream",
          "name": "stdout",
          "text": [
            "--2023-07-10 23:36:09--  https://raw.githubusercontent.com/mrdbourke/pytorch-deep-learning/main/images/04-pizza-dad.jpeg\n",
            "Resolving raw.githubusercontent.com (raw.githubusercontent.com)... 185.199.108.133, 185.199.109.133, 185.199.110.133, ...\n",
            "Connecting to raw.githubusercontent.com (raw.githubusercontent.com)|185.199.108.133|:443... connected.\n",
            "HTTP request sent, awaiting response... 200 OK\n",
            "Length: 2874848 (2.7M) [image/jpeg]\n",
            "Saving to: ‘04-pizza-dad.jpeg’\n",
            "\n",
            "04-pizza-dad.jpeg   100%[===================>]   2.74M  --.-KB/s    in 0.04s   \n",
            "\n",
            "2023-07-10 23:36:09 (65.3 MB/s) - ‘04-pizza-dad.jpeg’ saved [2874848/2874848]\n",
            "\n"
          ]
        }
      ]
    },
    {
      "cell_type": "markdown",
      "source": [
        "### Saving Food101 class names to file (class_names.txt)"
      ],
      "metadata": {
        "id": "ii5nUdaSFZkD"
      }
    },
    {
      "cell_type": "code",
      "source": [
        "# Check out the first 10 class names\n",
        "food101_class_names[:10]"
      ],
      "metadata": {
        "colab": {
          "base_uri": "https://localhost:8080/"
        },
        "id": "_ZPRzGtiFc5m",
        "outputId": "6613628d-4147-4644-9001-c7e45b9be3d4"
      },
      "execution_count": 25,
      "outputs": [
        {
          "output_type": "execute_result",
          "data": {
            "text/plain": [
              "['apple_pie',\n",
              " 'baby_back_ribs',\n",
              " 'baklava',\n",
              " 'beef_carpaccio',\n",
              " 'beef_tartare',\n",
              " 'beet_salad',\n",
              " 'beignets',\n",
              " 'bibimbap',\n",
              " 'bread_pudding',\n",
              " 'breakfast_burrito']"
            ]
          },
          "metadata": {},
          "execution_count": 25
        }
      ]
    },
    {
      "cell_type": "code",
      "source": [
        "# Create path to Food101 class names\n",
        "foodvision_big_class_names_path = foodvision_big_demo_path / \"class_names.txt\"\n",
        "\n",
        "# Write Food101 class names list to file\n",
        "with open(foodvision_big_class_names_path, \"w\") as f:\n",
        "  print(f\"[INFO] Saving Food101 class names to {foodvision_big_class_names_path}\")\n",
        "  f.write(\"\\n\".join(food101_class_names)) # leave a new line between each class"
      ],
      "metadata": {
        "colab": {
          "base_uri": "https://localhost:8080/"
        },
        "id": "OagNTrNuFocj",
        "outputId": "a69fc1c6-23d1-4cc3-9dac-3c1b47df5c77"
      },
      "execution_count": 26,
      "outputs": [
        {
          "output_type": "stream",
          "name": "stdout",
          "text": [
            "[INFO] Saving Food101 class names to demos/foodvision_big/class_names.txt\n"
          ]
        }
      ]
    },
    {
      "cell_type": "code",
      "source": [
        "# Open Food101 class names file and read each line into a list\n",
        "with open(foodvision_big_class_names_path, \"r\") as f:\n",
        "  food101_class_names_loaded = [food.strip() for food in f.readlines()]\n",
        "\n",
        "# View the first 5 class names loaded back in\n",
        "food101_class_names_loaded[:5]"
      ],
      "metadata": {
        "colab": {
          "base_uri": "https://localhost:8080/"
        },
        "id": "AV_6dZ8LGKLz",
        "outputId": "d4f45ae8-8b71-4ffd-e04c-9dea46ee293a"
      },
      "execution_count": 27,
      "outputs": [
        {
          "output_type": "execute_result",
          "data": {
            "text/plain": [
              "['apple_pie', 'baby_back_ribs', 'baklava', 'beef_carpaccio', 'beef_tartare']"
            ]
          },
          "metadata": {},
          "execution_count": 27
        }
      ]
    },
    {
      "cell_type": "markdown",
      "source": [
        "### - Turning our FoodVision Big model into a Python script (model.py)"
      ],
      "metadata": {
        "id": "n2Aln3mkGc1p"
      }
    },
    {
      "cell_type": "code",
      "source": [
        "%%writefile demos/foodvision_big/model.py\n",
        "import torch\n",
        "import torchvision\n",
        "\n",
        "from torch import nn\n",
        "\n",
        "\n",
        "def create_effnetb2_model(num_classes:int=3,\n",
        "                          seed:int=42):\n",
        "    \"\"\"Creates an EfficientNetB2 feature extractor model and transforms.\n",
        "\n",
        "    Args:\n",
        "        num_classes (int, optional): number of classes in the classifier head.\n",
        "            Defaults to 3.\n",
        "        seed (int, optional): random seed value. Defaults to 42.\n",
        "\n",
        "    Returns:\n",
        "        model (torch.nn.Module): EffNetB2 feature extractor model.\n",
        "        transforms (torchvision.transforms): EffNetB2 image transforms.\n",
        "    \"\"\"\n",
        "    # Create EffNetB2 pretrained weights, transforms and model\n",
        "    weights = torchvision.models.EfficientNet_B2_Weights.DEFAULT\n",
        "    transforms = weights.transforms()\n",
        "    model = torchvision.models.efficientnet_b2(weights=weights)\n",
        "\n",
        "    # Freeze all layers in base model\n",
        "    for param in model.parameters():\n",
        "        param.requires_grad = False\n",
        "\n",
        "    # Change classifier head with random seed for reproducibility\n",
        "    torch.manual_seed(seed)\n",
        "    model.classifier = nn.Sequential(\n",
        "        nn.Dropout(p=0.3, inplace=True),\n",
        "        nn.Linear(in_features=1408, out_features=num_classes),\n",
        "    )\n",
        "\n",
        "    return model, transforms"
      ],
      "metadata": {
        "colab": {
          "base_uri": "https://localhost:8080/"
        },
        "id": "y_Aux4qtGi8-",
        "outputId": "bf86024b-3e8c-43a7-a0b3-fc63f7632633"
      },
      "execution_count": 28,
      "outputs": [
        {
          "output_type": "stream",
          "name": "stdout",
          "text": [
            "Writing demos/foodvision_big/model.py\n"
          ]
        }
      ]
    },
    {
      "cell_type": "markdown",
      "source": [
        "### Turning our FoodVision Big Gradio app into a Python script (app.py)"
      ],
      "metadata": {
        "id": "mWrXEOBfG7EB"
      }
    },
    {
      "cell_type": "code",
      "source": [
        "%%writefile demos/foodvision_big/app.py\n",
        "### 1. Imports and class names setup ###\n",
        "import gradio as gr\n",
        "import os\n",
        "import torch\n",
        "\n",
        "from model import create_effnetb2_model\n",
        "from timeit import default_timer as timer\n",
        "from typing import Tuple, Dict\n",
        "\n",
        "# Setup class names\n",
        "with open(\"class_names.txt\", r) as f: # reading them in from class_names.txt\n",
        "  class_names = [food_name.strip() for food_name in f.readlines()]\n",
        "\n",
        "### 2. Model and transforms preparation ###\n",
        "\n",
        "# Create model\n",
        "effnetb2, effnetb2_transforms = create_effnetb2_model(\n",
        "    num_classes=101\n",
        ")\n",
        "\n",
        "# Load saved weights\n",
        "effnetb2.load_state_dict(\n",
        "    torch.load(\n",
        "        f=\"09_pretrained_effnetb2_feature_extractor_food101_20_percent.pth\",\n",
        "        map_location=torch.device(\"cpu\") # load to cpu\n",
        "    )\n",
        ")\n",
        "\n",
        "### 3. Predict funcion ###\n",
        "\n",
        "# Create predict function\n",
        "def predict(img) -> Tuple[Dict, float]:\n",
        "  \"\"\"Transforms and performs a prediction on img and returns prediction and time taken\"\"\"\n",
        "  # Start the timer\n",
        "  start_time = timer()\n",
        "\n",
        "  # Transform the target image and add a batch dimension\n",
        "  img = effnetb2_transforms(img).squeeze(0)\n",
        "\n",
        "  # Put model into evaluation mode and turn on inference mode\n",
        "  effnetb2.eval()\n",
        "  with torch.inference_mode():\n",
        "    # Pass the transformed image through the model and turn the prediction logits into prediction probabilities\n",
        "    pred_probs = torch.softmax(effnetb2(img), dim=1)\n",
        "\n",
        "  # Create a prediction label and prediction probability dictionary for each prediction class (this is the required format for Gradio's output parameter)\n",
        "  pred_labels_and_probs = {class_names[i]: float(pred_probs[0][i]) for i in range(len(class_names))}\n",
        "\n",
        "  # Calculate the prediction time\n",
        "  pred_time = round(timer() - start_time, 5)\n",
        "\n",
        "  # Return the prediction dictionary and prediction time\n",
        "  return pred_labels_and_probs, pred_time\n",
        "\n",
        "\n",
        "### 4. Gradio app ###\n",
        "\n",
        "# Create title, description and article strings\n",
        "title = \"FoodVision Big\"\n",
        "description = \"An EfficientNetB2 feature extractor computer vision model to classify images of food into [101 different classes](https://github.com/mrdbourke/pytorch-deep-learning/blob/main/extras/food101_class_names.txt).\"\n",
        "article = \"Created at [09. PyTorch Model Deployment](https://www.learnpytorch.io/09_pytorch_model_deployment/).\"\n",
        "\n",
        "# Create examples list from \"examples/\" directory\n",
        "example_list = [[\"examples/\" + example] for in os.listdir(\"examples\")]\n",
        "\n",
        "# Create Gradio interface\n",
        "demo = gr.Interface(\n",
        "    fn=predict,\n",
        "    inputs=gr.Image(type=\"pil\"),\n",
        "    outputs=[\n",
        "        gr.Label(num_top_classes=5, label=\"Prediction\"),\n",
        "        gr.Number(label=\"Prediction time (s)\")\n",
        "    ],\n",
        "    examples=example_list,\n",
        "    title=title,\n",
        "    description=description,\n",
        "    article=article\n",
        ")\n",
        "\n",
        "# Launch the app!\n",
        "demo.launch()"
      ],
      "metadata": {
        "colab": {
          "base_uri": "https://localhost:8080/"
        },
        "id": "5HfO6_sYG3dc",
        "outputId": "fbbc49bd-6032-4eae-b600-79a7207b4f12"
      },
      "execution_count": 29,
      "outputs": [
        {
          "output_type": "stream",
          "name": "stdout",
          "text": [
            "Writing demos/foodvision_big/app.py\n"
          ]
        }
      ]
    },
    {
      "cell_type": "markdown",
      "source": [
        "### - Creating a requiremnets file for FoodVision Big (requirements.txt)"
      ],
      "metadata": {
        "id": "vvBdANgPJ572"
      }
    },
    {
      "cell_type": "code",
      "source": [
        "%%writefile demos/foodvision_big/requirements.txt\n",
        "torch==1.12.0\n",
        "torchvision==0.13.0\n",
        "gradio==3.1.4"
      ],
      "metadata": {
        "colab": {
          "base_uri": "https://localhost:8080/"
        },
        "id": "Z4PaheI-J5op",
        "outputId": "c5f72008-dda3-4efc-cf32-102dd5fc40ed"
      },
      "execution_count": 30,
      "outputs": [
        {
          "output_type": "stream",
          "name": "stdout",
          "text": [
            "Writing demos/foodvision_big/requirements.txt\n"
          ]
        }
      ]
    },
    {
      "cell_type": "markdown",
      "source": [
        "### - Downloading our FoodVision Big app files"
      ],
      "metadata": {
        "id": "DMI9iUJIKQXC"
      }
    },
    {
      "cell_type": "code",
      "source": [
        "# Zip foodvision_big folder but exclude certain files\n",
        "!cd demos/foodvision_big && zip -r ../foodvision_big.zip * -x \"*.pyc\" \"*.ipynb\" \"*__pycache__*\" \"*ipynb_checkpoints*\"\n",
        "\n",
        "# Download the zipped FoodVision Big app (if running in Google Colab)\n",
        "try:\n",
        "    from google.colab import files\n",
        "    files.download(\"demos/foodvision_big.zip\")\n",
        "except:\n",
        "    print(\"Not running in Google Colab, can't use google.colab.files.download()\")"
      ],
      "metadata": {
        "colab": {
          "base_uri": "https://localhost:8080/",
          "height": 145
        },
        "id": "ibQLQPrbKjKO",
        "outputId": "5b879a25-a785-43ff-d595-a2b62e4d87c1"
      },
      "execution_count": 31,
      "outputs": [
        {
          "output_type": "stream",
          "name": "stdout",
          "text": [
            "  adding: 09_pretrained_effnetb2_feature_extractor_food101_20_percent.pth (deflated 8%)\n",
            "  adding: app.py (deflated 54%)\n",
            "  adding: class_names.txt (deflated 48%)\n",
            "  adding: examples/ (stored 0%)\n",
            "  adding: examples/04-pizza-dad.jpg (deflated 0%)\n",
            "  adding: model.py (deflated 56%)\n",
            "  adding: requirements.txt (deflated 4%)\n"
          ]
        },
        {
          "output_type": "display_data",
          "data": {
            "text/plain": [
              "<IPython.core.display.Javascript object>"
            ],
            "application/javascript": [
              "\n",
              "    async function download(id, filename, size) {\n",
              "      if (!google.colab.kernel.accessAllowed) {\n",
              "        return;\n",
              "      }\n",
              "      const div = document.createElement('div');\n",
              "      const label = document.createElement('label');\n",
              "      label.textContent = `Downloading \"${filename}\": `;\n",
              "      div.appendChild(label);\n",
              "      const progress = document.createElement('progress');\n",
              "      progress.max = size;\n",
              "      div.appendChild(progress);\n",
              "      document.body.appendChild(div);\n",
              "\n",
              "      const buffers = [];\n",
              "      let downloaded = 0;\n",
              "\n",
              "      const channel = await google.colab.kernel.comms.open(id);\n",
              "      // Send a message to notify the kernel that we're ready.\n",
              "      channel.send({})\n",
              "\n",
              "      for await (const message of channel.messages) {\n",
              "        // Send a message to notify the kernel that we're ready.\n",
              "        channel.send({})\n",
              "        if (message.buffers) {\n",
              "          for (const buffer of message.buffers) {\n",
              "            buffers.push(buffer);\n",
              "            downloaded += buffer.byteLength;\n",
              "            progress.value = downloaded;\n",
              "          }\n",
              "        }\n",
              "      }\n",
              "      const blob = new Blob(buffers, {type: 'application/binary'});\n",
              "      const a = document.createElement('a');\n",
              "      a.href = window.URL.createObjectURL(blob);\n",
              "      a.download = filename;\n",
              "      div.appendChild(a);\n",
              "      a.click();\n",
              "      div.remove();\n",
              "    }\n",
              "  "
            ]
          },
          "metadata": {}
        },
        {
          "output_type": "display_data",
          "data": {
            "text/plain": [
              "<IPython.core.display.Javascript object>"
            ],
            "application/javascript": [
              "download(\"download_a0695172-a33b-4c69-bb31-9c35c5d390a2\", \"foodvision_big.zip\", 32189164)"
            ]
          },
          "metadata": {}
        }
      ]
    },
    {
      "cell_type": "code",
      "source": [
        "# IPython is a library to help work with Python iteractively\n",
        "from IPython.display import IFrame\n",
        "\n",
        "# Embed FoodVision Big Gradio demo as an iFrame\n",
        "IFrame(src=\"https://hf.space/embed/jungwoo9/foodvision_big/+\", width=900, height=750)"
      ],
      "metadata": {
        "colab": {
          "base_uri": "https://localhost:8080/",
          "height": 770
        },
        "id": "s7is1weKM8xi",
        "outputId": "ae2edfb6-593b-4342-b6e1-34049dda8a0c"
      },
      "execution_count": 33,
      "outputs": [
        {
          "output_type": "execute_result",
          "data": {
            "text/plain": [
              "<IPython.lib.display.IFrame at 0x7f291f3e9270>"
            ],
            "text/html": [
              "\n",
              "        <iframe\n",
              "            width=\"900\"\n",
              "            height=\"750\"\n",
              "            src=\"https://hf.space/embed/jungwoo9/foodvision_big/+\"\n",
              "            frameborder=\"0\"\n",
              "            allowfullscreen\n",
              "            \n",
              "        ></iframe>\n",
              "        "
            ]
          },
          "metadata": {},
          "execution_count": 33
        }
      ]
    }
  ],
  "metadata": {
    "kernelspec": {
      "display_name": "Python 3",
      "name": "python3"
    },
    "language_info": {
      "codemirror_mode": {
        "name": "ipython",
        "version": 3
      },
      "file_extension": ".py",
      "mimetype": "text/x-python",
      "name": "python",
      "nbconvert_exporter": "python",
      "pygments_lexer": "ipython3",
      "version": "3.10.11"
    },
    "orig_nbformat": 4,
    "colab": {
      "provenance": [],
      "gpuType": "T4"
    },
    "accelerator": "GPU",
    "widgets": {
      "application/vnd.jupyter.widget-state+json": {
        "4482e985687e467e9c1d2273e4701c5a": {
          "model_module": "@jupyter-widgets/controls",
          "model_name": "HBoxModel",
          "model_module_version": "1.5.0",
          "state": {
            "_dom_classes": [],
            "_model_module": "@jupyter-widgets/controls",
            "_model_module_version": "1.5.0",
            "_model_name": "HBoxModel",
            "_view_count": null,
            "_view_module": "@jupyter-widgets/controls",
            "_view_module_version": "1.5.0",
            "_view_name": "HBoxView",
            "box_style": "",
            "children": [
              "IPY_MODEL_3932676af1634a6d9defcbae5834353a",
              "IPY_MODEL_8786d3b5dbe94da59d4b8bdaa1dd9dc2",
              "IPY_MODEL_637db8e0934b400980dd82d39c8efe09"
            ],
            "layout": "IPY_MODEL_083323fa00c749dfa9c98bb6ed6f695a"
          }
        },
        "3932676af1634a6d9defcbae5834353a": {
          "model_module": "@jupyter-widgets/controls",
          "model_name": "HTMLModel",
          "model_module_version": "1.5.0",
          "state": {
            "_dom_classes": [],
            "_model_module": "@jupyter-widgets/controls",
            "_model_module_version": "1.5.0",
            "_model_name": "HTMLModel",
            "_view_count": null,
            "_view_module": "@jupyter-widgets/controls",
            "_view_module_version": "1.5.0",
            "_view_name": "HTMLView",
            "description": "",
            "description_tooltip": null,
            "layout": "IPY_MODEL_b46c64aeaecf45eeb451ec1dd0039888",
            "placeholder": "​",
            "style": "IPY_MODEL_aed74a410be942f8a44ec9207496cf50",
            "value": "100%"
          }
        },
        "8786d3b5dbe94da59d4b8bdaa1dd9dc2": {
          "model_module": "@jupyter-widgets/controls",
          "model_name": "FloatProgressModel",
          "model_module_version": "1.5.0",
          "state": {
            "_dom_classes": [],
            "_model_module": "@jupyter-widgets/controls",
            "_model_module_version": "1.5.0",
            "_model_name": "FloatProgressModel",
            "_view_count": null,
            "_view_module": "@jupyter-widgets/controls",
            "_view_module_version": "1.5.0",
            "_view_name": "ProgressView",
            "bar_style": "success",
            "description": "",
            "description_tooltip": null,
            "layout": "IPY_MODEL_664ff1c8cd3a4c22a252940c0d0fb3b9",
            "max": 5,
            "min": 0,
            "orientation": "horizontal",
            "style": "IPY_MODEL_42da98ab9e18461c8edd827035acd7af",
            "value": 5
          }
        },
        "637db8e0934b400980dd82d39c8efe09": {
          "model_module": "@jupyter-widgets/controls",
          "model_name": "HTMLModel",
          "model_module_version": "1.5.0",
          "state": {
            "_dom_classes": [],
            "_model_module": "@jupyter-widgets/controls",
            "_model_module_version": "1.5.0",
            "_model_name": "HTMLModel",
            "_view_count": null,
            "_view_module": "@jupyter-widgets/controls",
            "_view_module_version": "1.5.0",
            "_view_name": "HTMLView",
            "description": "",
            "description_tooltip": null,
            "layout": "IPY_MODEL_b7ba994f70fc48ac9af577eb7535691c",
            "placeholder": "​",
            "style": "IPY_MODEL_e5c793f9a9034381832d74aa70421017",
            "value": " 5/5 [26:25&lt;00:00, 326.29s/it]"
          }
        },
        "083323fa00c749dfa9c98bb6ed6f695a": {
          "model_module": "@jupyter-widgets/base",
          "model_name": "LayoutModel",
          "model_module_version": "1.2.0",
          "state": {
            "_model_module": "@jupyter-widgets/base",
            "_model_module_version": "1.2.0",
            "_model_name": "LayoutModel",
            "_view_count": null,
            "_view_module": "@jupyter-widgets/base",
            "_view_module_version": "1.2.0",
            "_view_name": "LayoutView",
            "align_content": null,
            "align_items": null,
            "align_self": null,
            "border": null,
            "bottom": null,
            "display": null,
            "flex": null,
            "flex_flow": null,
            "grid_area": null,
            "grid_auto_columns": null,
            "grid_auto_flow": null,
            "grid_auto_rows": null,
            "grid_column": null,
            "grid_gap": null,
            "grid_row": null,
            "grid_template_areas": null,
            "grid_template_columns": null,
            "grid_template_rows": null,
            "height": null,
            "justify_content": null,
            "justify_items": null,
            "left": null,
            "margin": null,
            "max_height": null,
            "max_width": null,
            "min_height": null,
            "min_width": null,
            "object_fit": null,
            "object_position": null,
            "order": null,
            "overflow": null,
            "overflow_x": null,
            "overflow_y": null,
            "padding": null,
            "right": null,
            "top": null,
            "visibility": null,
            "width": null
          }
        },
        "b46c64aeaecf45eeb451ec1dd0039888": {
          "model_module": "@jupyter-widgets/base",
          "model_name": "LayoutModel",
          "model_module_version": "1.2.0",
          "state": {
            "_model_module": "@jupyter-widgets/base",
            "_model_module_version": "1.2.0",
            "_model_name": "LayoutModel",
            "_view_count": null,
            "_view_module": "@jupyter-widgets/base",
            "_view_module_version": "1.2.0",
            "_view_name": "LayoutView",
            "align_content": null,
            "align_items": null,
            "align_self": null,
            "border": null,
            "bottom": null,
            "display": null,
            "flex": null,
            "flex_flow": null,
            "grid_area": null,
            "grid_auto_columns": null,
            "grid_auto_flow": null,
            "grid_auto_rows": null,
            "grid_column": null,
            "grid_gap": null,
            "grid_row": null,
            "grid_template_areas": null,
            "grid_template_columns": null,
            "grid_template_rows": null,
            "height": null,
            "justify_content": null,
            "justify_items": null,
            "left": null,
            "margin": null,
            "max_height": null,
            "max_width": null,
            "min_height": null,
            "min_width": null,
            "object_fit": null,
            "object_position": null,
            "order": null,
            "overflow": null,
            "overflow_x": null,
            "overflow_y": null,
            "padding": null,
            "right": null,
            "top": null,
            "visibility": null,
            "width": null
          }
        },
        "aed74a410be942f8a44ec9207496cf50": {
          "model_module": "@jupyter-widgets/controls",
          "model_name": "DescriptionStyleModel",
          "model_module_version": "1.5.0",
          "state": {
            "_model_module": "@jupyter-widgets/controls",
            "_model_module_version": "1.5.0",
            "_model_name": "DescriptionStyleModel",
            "_view_count": null,
            "_view_module": "@jupyter-widgets/base",
            "_view_module_version": "1.2.0",
            "_view_name": "StyleView",
            "description_width": ""
          }
        },
        "664ff1c8cd3a4c22a252940c0d0fb3b9": {
          "model_module": "@jupyter-widgets/base",
          "model_name": "LayoutModel",
          "model_module_version": "1.2.0",
          "state": {
            "_model_module": "@jupyter-widgets/base",
            "_model_module_version": "1.2.0",
            "_model_name": "LayoutModel",
            "_view_count": null,
            "_view_module": "@jupyter-widgets/base",
            "_view_module_version": "1.2.0",
            "_view_name": "LayoutView",
            "align_content": null,
            "align_items": null,
            "align_self": null,
            "border": null,
            "bottom": null,
            "display": null,
            "flex": null,
            "flex_flow": null,
            "grid_area": null,
            "grid_auto_columns": null,
            "grid_auto_flow": null,
            "grid_auto_rows": null,
            "grid_column": null,
            "grid_gap": null,
            "grid_row": null,
            "grid_template_areas": null,
            "grid_template_columns": null,
            "grid_template_rows": null,
            "height": null,
            "justify_content": null,
            "justify_items": null,
            "left": null,
            "margin": null,
            "max_height": null,
            "max_width": null,
            "min_height": null,
            "min_width": null,
            "object_fit": null,
            "object_position": null,
            "order": null,
            "overflow": null,
            "overflow_x": null,
            "overflow_y": null,
            "padding": null,
            "right": null,
            "top": null,
            "visibility": null,
            "width": null
          }
        },
        "42da98ab9e18461c8edd827035acd7af": {
          "model_module": "@jupyter-widgets/controls",
          "model_name": "ProgressStyleModel",
          "model_module_version": "1.5.0",
          "state": {
            "_model_module": "@jupyter-widgets/controls",
            "_model_module_version": "1.5.0",
            "_model_name": "ProgressStyleModel",
            "_view_count": null,
            "_view_module": "@jupyter-widgets/base",
            "_view_module_version": "1.2.0",
            "_view_name": "StyleView",
            "bar_color": null,
            "description_width": ""
          }
        },
        "b7ba994f70fc48ac9af577eb7535691c": {
          "model_module": "@jupyter-widgets/base",
          "model_name": "LayoutModel",
          "model_module_version": "1.2.0",
          "state": {
            "_model_module": "@jupyter-widgets/base",
            "_model_module_version": "1.2.0",
            "_model_name": "LayoutModel",
            "_view_count": null,
            "_view_module": "@jupyter-widgets/base",
            "_view_module_version": "1.2.0",
            "_view_name": "LayoutView",
            "align_content": null,
            "align_items": null,
            "align_self": null,
            "border": null,
            "bottom": null,
            "display": null,
            "flex": null,
            "flex_flow": null,
            "grid_area": null,
            "grid_auto_columns": null,
            "grid_auto_flow": null,
            "grid_auto_rows": null,
            "grid_column": null,
            "grid_gap": null,
            "grid_row": null,
            "grid_template_areas": null,
            "grid_template_columns": null,
            "grid_template_rows": null,
            "height": null,
            "justify_content": null,
            "justify_items": null,
            "left": null,
            "margin": null,
            "max_height": null,
            "max_width": null,
            "min_height": null,
            "min_width": null,
            "object_fit": null,
            "object_position": null,
            "order": null,
            "overflow": null,
            "overflow_x": null,
            "overflow_y": null,
            "padding": null,
            "right": null,
            "top": null,
            "visibility": null,
            "width": null
          }
        },
        "e5c793f9a9034381832d74aa70421017": {
          "model_module": "@jupyter-widgets/controls",
          "model_name": "DescriptionStyleModel",
          "model_module_version": "1.5.0",
          "state": {
            "_model_module": "@jupyter-widgets/controls",
            "_model_module_version": "1.5.0",
            "_model_name": "DescriptionStyleModel",
            "_view_count": null,
            "_view_module": "@jupyter-widgets/base",
            "_view_module_version": "1.2.0",
            "_view_name": "StyleView",
            "description_width": ""
          }
        }
      }
    }
  },
  "nbformat": 4,
  "nbformat_minor": 0
}